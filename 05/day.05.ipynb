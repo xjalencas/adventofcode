{
 "cells": [
  {
   "cell_type": "markdown",
   "id": "553b1667-df05-46bf-b2d5-3c6104eb4d6f",
   "metadata": {},
   "source": [
    "# Day 5: Supply Stacks \n",
    "\n",
    "## Part I\n",
    "After the rearrangement procedure completes, what crate ends up on top of each stack?"
   ]
  },
  {
   "cell_type": "code",
   "execution_count": 58,
   "id": "af40bf3d-3fc7-43f8-a5a4-4de4684f9c5e",
   "metadata": {},
   "outputs": [],
   "source": [
    "import re"
   ]
  },
  {
   "cell_type": "code",
   "execution_count": 87,
   "id": "66a58f5b-79ac-47d9-ab82-2d0fe6cfc34c",
   "metadata": {},
   "outputs": [
    {
     "name": "stdout",
     "output_type": "stream",
     "text": [
      "WSFTMRHPP\n"
     ]
    }
   ],
   "source": [
    "stack = {}\n",
    "stack_lines = []\n",
    "\n",
    "def read(infile):\n",
    "    \n",
    "    \n",
    "    with open(infile) as f:\n",
    "        \n",
    "        for line in f:\n",
    "        \n",
    "            if not line.strip():\n",
    "                continue\n",
    "\n",
    "            # Process Stack\n",
    "            if line.strip().startswith(\"1\"):\n",
    "                for num in line.replace(\" \", \"\").replace(\"\\n\", \"\"):\n",
    "                    idx = line.index(num)\n",
    "                    stack[num] = [x[idx] for x in stack_lines if x[idx].strip()][::-1]\n",
    "                continue\n",
    "            \n",
    "            # Fill Stack\n",
    "            if not stack:\n",
    "                stack_lines.append(line[:-1])                 \n",
    "            \n",
    "            # Move Stacks\n",
    "            if stack:\n",
    "                n, from_, to = re.search(r\"move (\\d+) from (\\d+) to (\\d+)\", line).groups()\n",
    "                n = int(n)\n",
    "                \n",
    "                for _ in range(n):\n",
    "                    a = stack[from_].pop()\n",
    "                    stack[to].append(a)\n",
    "                \n",
    "    \n",
    "    print(\"\".join([x[-1] for x in stack.values()]))\n",
    "\n",
    "    \n",
    "    \n",
    "read(\"input\")"
   ]
  },
  {
   "cell_type": "markdown",
   "id": "21d71a34-cadf-4326-9c5d-c178a2267ff7",
   "metadata": {},
   "source": [
    "## Part II\n",
    "After the rearrangement procedure completes, what crate ends up on top of each stack?"
   ]
  },
  {
   "cell_type": "code",
   "execution_count": 92,
   "id": "b0b22b0d-94df-45f2-951c-d669841e1ebc",
   "metadata": {},
   "outputs": [
    {
     "name": "stdout",
     "output_type": "stream",
     "text": [
      "MCD\n"
     ]
    }
   ],
   "source": [
    "stack = {}\n",
    "stack_lines = []\n",
    "\n",
    "def popn(list_, n):\n",
    "    return list_[:-n], list_[-n:]\n",
    "                             \n",
    "\n",
    "def read(infile):\n",
    "    \n",
    "    \n",
    "    with open(infile) as f:\n",
    "        \n",
    "        for line in f:\n",
    "        \n",
    "            if not line.strip():\n",
    "                continue\n",
    "\n",
    "            # Process Stack\n",
    "            if line.strip().startswith(\"1\"):\n",
    "                for num in line.replace(\" \", \"\").replace(\"\\n\", \"\"):\n",
    "                    idx = line.index(num)\n",
    "                    stack[num] = [x[idx] for x in stack_lines if x[idx].strip()][::-1]\n",
    "                continue\n",
    "            \n",
    "            # Fill Stack\n",
    "            if not stack:\n",
    "                stack_lines.append(line[:-1])                 \n",
    "            \n",
    "            # Move Stacks\n",
    "            if stack:\n",
    "                n, from_, to = re.search(r\"move (\\d+) from (\\d+) to (\\d+)\", line).groups()\n",
    "                n = int(n)\n",
    "        \n",
    "                head, tail = popn(stack[from_], n)\n",
    "                stack[from_] = head\n",
    "                stack[to].extend(tail)\n",
    "                \n",
    "    \n",
    "    print(\"\".join([x[-1] for x in stack.values()]))\n",
    "\n",
    "    \n",
    "    \n",
    "read(\"input.txt\")"
   ]
  },
  {
   "cell_type": "code",
   "execution_count": 90,
   "id": "54d01f48-be0c-46fa-8688-05abaafdbd1f",
   "metadata": {},
   "outputs": [
    {
     "data": {
      "text/plain": [
       "(range(0, 8), range(8, 10))"
      ]
     },
     "execution_count": 90,
     "metadata": {},
     "output_type": "execute_result"
    }
   ],
   "source": [
    "popn(range(10), 2)"
   ]
  }
 ],
 "metadata": {
  "kernelspec": {
   "display_name": "devel",
   "language": "python",
   "name": "devel"
  },
  "language_info": {
   "codemirror_mode": {
    "name": "ipython",
    "version": 3
   },
   "file_extension": ".py",
   "mimetype": "text/x-python",
   "name": "python",
   "nbconvert_exporter": "python",
   "pygments_lexer": "ipython3",
   "version": "3.6.10"
  }
 },
 "nbformat": 4,
 "nbformat_minor": 5
}
