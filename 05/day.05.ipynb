{
 "cells": [
  {
   "cell_type": "code",
   "execution_count": 141,
   "metadata": {},
   "outputs": [
    {
     "name": "stdout",
     "output_type": "stream",
     "text": [
      "Enter integer:21\n",
      "> 21\n"
     ]
    },
    {
     "data": {
      "text/plain": [
       "[21, 0, 4, 0, 99]"
      ]
     },
     "execution_count": 141,
     "metadata": {},
     "output_type": "execute_result"
    }
   ],
   "source": [
    "class Intcode:\n",
    "    \n",
    "    def __init__(self, code):\n",
    "        self.intcode = [int(x) for x in code.strip().split(',')]\n",
    "        \n",
    "    def compute(self):\n",
    "        \n",
    "        i = 0\n",
    "        while i < len(self.intcode):\n",
    "            \n",
    "            \n",
    "            opcode = int(str(self.intcode[i])[-2:])\n",
    "            modes = str(self.intcode[i])[:-2].zfill(3)\n",
    "            \n",
    "\n",
    "            if opcode == 1:\n",
    "                nparam = 3\n",
    "                \n",
    "                \n",
    "                self.intcode[self.get(self.intcode[i+3], mode=1)] = \\\n",
    "                    self.get(self.intcode[i+1], mode=int(modes[-1])) + \\\n",
    "                    self.get(self.intcode[i+2], mode=int(modes[-2]))\n",
    "            \n",
    "            \n",
    "            if opcode == 2:   \n",
    "                nparam = 3\n",
    "    \n",
    "                self.intcode[self.get(self.intcode[i+3], mode=1)] = \\\n",
    "                    self.get(self.intcode[i+1], mode=int(modes[-1])) * \\\n",
    "                    self.get(self.intcode[i+2], mode=int(modes[-2]))\n",
    "               \n",
    "            if opcode == 3:\n",
    "                nparam = 1    \n",
    "                n = int(input(\"Enter integer:\"))\n",
    "                self.intcode[self.get(self.intcode[i+1], mode=1)] = n\n",
    "             \n",
    "            if opcode == 4:\n",
    "                nparam = 1    \n",
    "                print(\">\", self.get(self.intcode[i+1], mode=0))\n",
    "            \n",
    "            \n",
    "            elif opcode == 99:\n",
    "                return\n",
    "            \n",
    "            i += nparam +1\n",
    "            \n",
    "    def get(self, i, mode=0):\n",
    "        \n",
    "        if mode == 0:\n",
    "            return self.intcode[i]\n",
    "        \n",
    "        elif mode == 1:\n",
    "            return i\n",
    "        \n",
    "        else:\n",
    "            raise ValueError\n",
    "\n",
    "ic = Intcode(\"1002,4,3,4,33\")\n",
    "ic = Intcode(\"3,0,4,0,99\")\n",
    "\n",
    "ic.compute()\n",
    "ic.intcode\n",
    "                                                "
   ]
  },
  {
   "cell_type": "code",
   "execution_count": 142,
   "metadata": {},
   "outputs": [
    {
     "name": "stdout",
     "output_type": "stream",
     "text": [
      "Enter integer:1\n",
      "> 3\n",
      "> 0\n",
      "> 0\n",
      "> 0\n",
      "> 0\n",
      "> 0\n",
      "> 0\n",
      "> 0\n",
      "> 0\n",
      "> 16209841\n"
     ]
    }
   ],
   "source": [
    "with open(\"input.txt\") as f:\n",
    "    incode = f.read()\n",
    "ic = Intcode(incode)\n",
    "ic.compute()"
   ]
  },
  {
   "cell_type": "markdown",
   "metadata": {},
   "source": [
    "```--- Part Two ---```"
   ]
  }
 ],
 "metadata": {
  "kernelspec": {
   "display_name": "devel",
   "language": "python",
   "name": "devel"
  },
  "language_info": {
   "codemirror_mode": {
    "name": "ipython",
    "version": 3
   },
   "file_extension": ".py",
   "mimetype": "text/x-python",
   "name": "python",
   "nbconvert_exporter": "python",
   "pygments_lexer": "ipython3",
   "version": "3.6.7"
  }
 },
 "nbformat": 4,
 "nbformat_minor": 2
}
