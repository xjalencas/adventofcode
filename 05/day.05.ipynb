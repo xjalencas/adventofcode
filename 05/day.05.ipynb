{
 "cells": [
  {
   "cell_type": "code",
   "execution_count": 13,
   "metadata": {},
   "outputs": [
    {
     "name": "stdout",
     "output_type": "stream",
     "text": [
      "Enter integer:1\n",
      "> 1\n"
     ]
    },
    {
     "data": {
      "text/plain": [
       "[1, 0, 4, 0, 99]"
      ]
     },
     "execution_count": 13,
     "metadata": {},
     "output_type": "execute_result"
    }
   ],
   "source": [
    "class Intcode:\n",
    "    \n",
    "    def __init__(self, code):\n",
    "        self.intcode = [int(x) for x in code.strip().split(',')]\n",
    "        \n",
    "    def compute(self):\n",
    "        \n",
    "        i = 0\n",
    "        while i < len(self.intcode):\n",
    "            \n",
    "            opcode = int(str(self.intcode[i])[-2:])\n",
    "            modes = str(self.intcode[i])[:-2].zfill(3)\n",
    "            \n",
    "            nparam = getattr(self, \"compute{}\".format(opcode))(i=i, modes=modes)\n",
    "\n",
    "            if opcode == 99:\n",
    "                return\n",
    "            \n",
    "            i += nparam +1\n",
    "\n",
    "            \n",
    "    def compute1(self, nparam=3, i=None, modes=\"000\"):\n",
    "        self.intcode[self.get(self.intcode[i+3], mode=1)] = \\\n",
    "                    self.get(self.intcode[i+1], mode=int(modes[-1])) + \\\n",
    "                    self.get(self.intcode[i+2], mode=int(modes[-2]))\n",
    "            \n",
    "        return nparam\n",
    "        \n",
    "    def compute2(self, nparam=3, i=None, modes=\"000\"):\n",
    "        self.intcode[self.get(self.intcode[i+3], mode=1)] = \\\n",
    "            self.get(self.intcode[i+1], mode=int(modes[-1])) * \\\n",
    "            self.get(self.intcode[i+2], mode=int(modes[-2]))\n",
    "        \n",
    "        return nparam\n",
    "    \n",
    "    def compute3(self, nparam=1, i=None, modes=\"1\"):\n",
    "        n = int(input(\"Enter integer:\"))\n",
    "        self.intcode[self.get(self.intcode[i+1], mode=1)] = n\n",
    "        return nparam\n",
    "    \n",
    "    def compute4(self, nparam=1, i=None, modes=\"0\"):\n",
    "        print(\">\", self.get(self.intcode[i+1], mode=0))\n",
    "        return nparam\n",
    "    \n",
    "    def compute99(self, nparam=1, i=None, modes=\"0\"):\n",
    "        return \n",
    "      \n",
    "    def get(self, i, mode=0):\n",
    "        \n",
    "        if mode == 0:\n",
    "            return self.intcode[i]\n",
    "        \n",
    "        elif mode == 1:\n",
    "            return i\n",
    "        \n",
    "        else:\n",
    "            raise ValueError\n",
    "\n",
    "ic = Intcode(\"1002,4,3,4,33\")\n",
    "ic = Intcode(\"3,0,4,0,99\")\n",
    "\n",
    "ic.compute()\n",
    "ic.intcode\n",
    "                                                "
   ]
  },
  {
   "cell_type": "code",
   "execution_count": 14,
   "metadata": {},
   "outputs": [
    {
     "name": "stdout",
     "output_type": "stream",
     "text": [
      "Enter integer:1\n",
      "> 3\n",
      "> 0\n",
      "> 0\n",
      "> 0\n",
      "> 0\n",
      "> 0\n",
      "> 0\n",
      "> 0\n",
      "> 0\n",
      "> 16209841\n"
     ]
    }
   ],
   "source": [
    "with open(\"input.txt\") as f:\n",
    "    incode = f.read()\n",
    "ic = Intcode(incode)\n",
    "ic.compute()"
   ]
  },
  {
   "cell_type": "markdown",
   "metadata": {},
   "source": [
    "```--- Part Two ---```"
   ]
  },
  {
   "cell_type": "code",
   "execution_count": 26,
   "metadata": {},
   "outputs": [],
   "source": [
    "class Intcode:\n",
    "    \n",
    "    def __init__(self, code):\n",
    "        self.intcode = [int(x) for x in code.strip().split(',')]\n",
    "        self.i = 0\n",
    "    \n",
    "    def __call__(self):\n",
    "        self.compute()\n",
    "    \n",
    "    \n",
    "    def get(self, i=0, mode=0):\n",
    "        \n",
    "        if mode == 0:\n",
    "            return self.intcode[i]\n",
    "        \n",
    "        elif mode == 1:\n",
    "            return i\n",
    "        \n",
    "        else:\n",
    "            raise ValueError\n",
    "\n",
    "    def print_intcode(self):\n",
    "        print(self.intcode)\n",
    "            \n",
    "    def compute(self):\n",
    "        \n",
    "        self.i = 0\n",
    "        while self.i < len(self.intcode):\n",
    "            \n",
    "            opcode = int(str(self.intcode[self.i])[-2:])\n",
    "            modes = str(self.intcode[self.i])[:-2].zfill(3)\n",
    "            \n",
    "            #print(opcode, modes, self.i, len(self.intcode))\n",
    "            #self.print_intcode()\n",
    "            #p8834787rint()\n",
    "            \n",
    "            nparam = getattr(self, \"compute{}\".format(opcode))(modes=modes)\n",
    "\n",
    "            if opcode == 99:\n",
    "                return\n",
    "            \n",
    "            self.i += nparam +1\n",
    "\n",
    "            \n",
    "    def compute1(self, nparam=3, modes=\"000\"):\n",
    "        self.intcode[self.get(self.intcode[self.i+3], mode=1)] = \\\n",
    "                    self.get(self.intcode[self.i+1], mode=int(modes[-1])) + \\\n",
    "                    self.get(self.intcode[self.i+2], mode=int(modes[-2]))\n",
    "            \n",
    "        return nparam\n",
    "        \n",
    "    def compute2(self, nparam=3, modes=\"000\"):\n",
    "        self.intcode[self.get(self.intcode[self.i+3], mode=1)] = \\\n",
    "            self.get(self.intcode[self.i+1], mode=int(modes[-1])) * \\\n",
    "            self.get(self.intcode[self.i+2], mode=int(modes[-2]))\n",
    "        \n",
    "        return nparam\n",
    "    \n",
    "    def compute3(self, nparam=1, modes=\"1\"):\n",
    "        \"\"\"input\"\"\"\n",
    "        n = int(input(\"Enter integer:\"))\n",
    "        self.intcode[self.get(self.i+1, mode=0)] = n\n",
    "        return nparam\n",
    "    \n",
    "    def compute4(self, nparam=1, modes=\"0\"):\n",
    "        \"\"\"output\"\"\"\n",
    "        print(\">\", self.get(self.intcode[self.i+1], mode=int(modes[-1])))\n",
    "        return nparam\n",
    "    \n",
    "    def compute5(self, nparam=2, modes=\"00\"):\n",
    "        \"\"\"jump-if-true\"\"\"\n",
    "        \n",
    "        if self.get(self.intcode[self.i+1], mode=int(modes[-1])):\n",
    "            self.i = self.get(self.intcode[self.i+2], mode=int(modes[-2]))\n",
    "            return -1       \n",
    "        \n",
    "        return nparam\n",
    "    \n",
    "    def compute6(self, nparam=2, modes=\"00\"):\n",
    "        \"\"\"jump-if-false\"\"\"\n",
    "        \n",
    "        if not self.get(self.intcode[self.i+1], mode=int(modes[-1])):\n",
    "            self.i = self.get(self.intcode[self.i+2], mode=int(modes[-2]))\n",
    "            return -1       \n",
    "        \n",
    "        return nparam\n",
    "    \n",
    "    \n",
    "    def compute7(self, nparam=3, modes=\"000\"):\n",
    "        \"\"\"less than\"\"\"\n",
    "\n",
    "        if self.get(self.intcode[self.i+1], mode=int(modes[-1])) < self.get(self.intcode[self.i+2], mode=int(modes[-2])):\n",
    "            self.intcode[self.get(self.intcode[self.i+3], mode=1)] = 1\n",
    "        else:\n",
    "            self.intcode[self.get(self.intcode[self.i+3], mode=1)] = 0\n",
    "        return nparam\n",
    "        \n",
    "    \n",
    "    def compute8(self, nparam=3, modes=\"000\"):\n",
    "        \"\"\"equals\"\"\"\n",
    "        if self.get(self.intcode[self.i+1], mode=int(modes[-1])) == self.get(self.intcode[self.i+2], mode=int(modes[-2])):\n",
    "            \n",
    "            self.intcode[self.get(self.intcode[self.i+3], mode=1)] = 1\n",
    "        else:\n",
    "            self.intcode[self.get(self.intcode[self.i+3], mode=1)] = 0\n",
    "        return nparam\n",
    "    \n",
    "    \n",
    "    def compute99(self, nparam=1, modes=\"0\"):\n",
    "        return \n",
    "      \n",
    "    \n",
    "#ic = Intcode(\"3,9,8,9,10,9,4,9,99,-1,8\")()\n",
    "#ic = Intcode(\"3,9,7,9,10,9,4,9,99,-1,8\")()\n",
    "#ic = Intcode(\"3,3,1108,-1,8,3,4,3,99\")()\n",
    "#ic = Intcode(\"3,12,6,12,15,1,13,14,13,4,13,99,-1,0,1,9\")()\n",
    "#Intcode(\"3,3,1105,-1,9,1101,0,0,12,4,12,99,1\")()1"
   ]
  },
  {
   "cell_type": "code",
   "execution_count": 27,
   "metadata": {},
   "outputs": [
    {
     "name": "stdout",
     "output_type": "stream",
     "text": [
      "Enter integer:8\n",
      "> 1000\n"
     ]
    }
   ],
   "source": [
    "Intcode(\"\"\"3,21,1008,21,8,20,1005,20,22,107,8,21,20,1006,20,31,\n",
    "1106,0,36,98,0,0,1002,21,125,20,4,20,1105,1,46,104,\n",
    "999,1105,1,46,1101,1000,1,20,4,20,1105,1,46,98,99\"\"\")()"
   ]
  },
  {
   "cell_type": "code",
   "execution_count": 28,
   "metadata": {},
   "outputs": [
    {
     "name": "stdout",
     "output_type": "stream",
     "text": [
      "Enter integer:5\n",
      "> 8834787\n"
     ]
    }
   ],
   "source": [
    "with open(\"input.txt\") as f:\n",
    "    incode = f.read()\n",
    "ic = Intcode(incode)\n",
    "ic.compute()"
   ]
  }
 ],
 "metadata": {
  "kernelspec": {
   "display_name": "devel",
   "language": "python",
   "name": "devel"
  },
  "language_info": {
   "codemirror_mode": {
    "name": "ipython",
    "version": 3
   },
   "file_extension": ".py",
   "mimetype": "text/x-python",
   "name": "python",
   "nbconvert_exporter": "python",
   "pygments_lexer": "ipython3",
   "version": "3.6.7"
  }
 },
 "nbformat": 4,
 "nbformat_minor": 2
}
