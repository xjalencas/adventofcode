{
 "cells": [
  {
   "cell_type": "markdown",
   "id": "9e8efc00-f97f-4ab8-a70d-da7e7c65e5f5",
   "metadata": {},
   "source": [
    "# --- Day 5: If You Give A Seed A Fertilizer ---\n",
    "What is the lowest location number that corresponds to any of the initial seed numbers?\n"
   ]
  },
  {
   "cell_type": "code",
   "execution_count": 28,
   "id": "b1597b6f-8838-4dd9-86d2-b43c2247bcd6",
   "metadata": {},
   "outputs": [
    {
     "name": "stdout",
     "output_type": "stream",
     "text": [
      "('seed', 'soil')\n",
      "('soil', 'fertilizer')\n",
      "('fertilizer', 'water')\n",
      "('water', 'light')\n",
      "('light', 'temperature')\n",
      "('temperature', 'humidity')\n",
      "('humidity', 'location')\n"
     ]
    }
   ],
   "source": [
    "maps = {}\n",
    "with open(\"input.0.txt\") as f:\n",
    "    for line in f:\n",
    "\n",
    "        if not line.strip():\n",
    "            continue\n",
    "        \n",
    "        if line.startswith(\"seeds\"):\n",
    "            seeds = [int(x) for x in line.split(\":\")[1].split()]\n",
    "\n",
    "        elif line.strip().endswith(\":\"):\n",
    "            key = tuple(line.split(\":\")[0].split(\" \")[0].split(\"-to-\"))\n",
    "            print(key)\n",
    "            maps[key] = {}\n",
    "\n",
    "        else:\n",
    "            ranges = [int(x) for x in line.split()]\n",
    "            for pair in list(zip(range(ranges[0], ranges[0] + ranges[2]), \n",
    "                                 range(ranges[1], ranges[1] + ranges[2]))):\n",
    "        \n",
    "                maps[key][pair[1]] = pair[0]"
   ]
  },
  {
   "cell_type": "code",
   "execution_count": 37,
   "id": "fd700cd3-5cee-43d8-b822-ceed7485d0b9",
   "metadata": {},
   "outputs": [
    {
     "name": "stdout",
     "output_type": "stream",
     "text": [
      "82\n",
      "43\n",
      "86\n",
      "35\n"
     ]
    },
    {
     "data": {
      "text/plain": [
       "35"
      ]
     },
     "execution_count": 37,
     "metadata": {},
     "output_type": "execute_result"
    }
   ],
   "source": [
    "\n",
    "a = []\n",
    "for seed in seeds:\n",
    "\n",
    "    from_ = \"seed\"\n",
    "    to_ = None\n",
    "    n = seed\n",
    "    \n",
    "    while to_ != \"location\":\n",
    "        \n",
    "        to_, = [k for k in maps if k[0] == from_]\n",
    "        to_ = to_[1]\n",
    "        \n",
    "        n = maps[(from_, to_)].get(n, n)\n",
    "        from_ = to_\n",
    "\n",
    "    print(n)\n",
    "    a.append(n)\n",
    "\n",
    "min(a)"
   ]
  },
  {
   "cell_type": "code",
   "execution_count": null,
   "id": "ce37b0a6-03e0-4c4e-b986-2052489dc6f9",
   "metadata": {},
   "outputs": [],
   "source": []
  }
 ],
 "metadata": {
  "kernelspec": {
   "display_name": "eug",
   "language": "python",
   "name": "eug"
  },
  "language_info": {
   "codemirror_mode": {
    "name": "ipython",
    "version": 3
   },
   "file_extension": ".py",
   "mimetype": "text/x-python",
   "name": "python",
   "nbconvert_exporter": "python",
   "pygments_lexer": "ipython3",
   "version": "3.11.5"
  }
 },
 "nbformat": 4,
 "nbformat_minor": 5
}
