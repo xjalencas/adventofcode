{
 "cells": [
  {
   "cell_type": "code",
   "execution_count": 41,
   "metadata": {},
   "outputs": [],
   "source": [
    "import numpy as np"
   ]
  },
  {
   "cell_type": "markdown",
   "metadata": {},
   "source": [
    "### Part I\n",
    "What is the highest seat ID on a boarding pass?\n",
    "\n"
   ]
  },
  {
   "cell_type": "code",
   "execution_count": 14,
   "metadata": {},
   "outputs": [],
   "source": [
    "sample = \"FBFBBFFRLR\""
   ]
  },
  {
   "cell_type": "code",
   "execution_count": 53,
   "metadata": {},
   "outputs": [
    {
     "data": {
      "text/plain": [
       "357"
      ]
     },
     "execution_count": 53,
     "metadata": {},
     "output_type": "execute_result"
    }
   ],
   "source": [
    "def decode(code, rows=127, columns=7):\n",
    "     \n",
    "    max_ = rows\n",
    "    min_ = 0\n",
    "    for x in list(code[:7]):\n",
    "        \n",
    "        if x == \"F\":\n",
    "            max_ = max_ - (max_ - min_) // 2 - 1 \n",
    "    \n",
    "        if x == \"B\":\n",
    "            min_ = min_ + (max_ - min_) // 2 + 1 \n",
    "    \n",
    "    assert max_ == min_\n",
    "    row = max_\n",
    "    \n",
    "    max_ = columns\n",
    "    min_ = 0\n",
    "    for x in list(code[-3:]):\n",
    "         \n",
    "        if x == \"L\":\n",
    "            max_ = max_ - (max_ - min_) // 2 - 1 \n",
    "    \n",
    "        if x == \"R\":\n",
    "            min_ = min_ + (max_ - min_) // 2 + 1 \n",
    "        \n",
    "    assert max_ == min_\n",
    "    column = max_\n",
    "    \n",
    "    return row * 8 + column\n",
    "\n",
    "decode(sample)"
   ]
  },
  {
   "cell_type": "code",
   "execution_count": 55,
   "metadata": {},
   "outputs": [
    {
     "data": {
      "text/plain": [
       "965"
      ]
     },
     "execution_count": 55,
     "metadata": {},
     "output_type": "execute_result"
    }
   ],
   "source": [
    "with open(\"input\") as f:\n",
    "    inputs = [x for x in f.read().split() if x]\n",
    "max([decode(i) for i in inputs])"
   ]
  },
  {
   "cell_type": "markdown",
   "metadata": {},
   "source": [
    "### Part II\n",
    "What is the ID of your seat?\n"
   ]
  },
  {
   "cell_type": "code",
   "execution_count": 62,
   "metadata": {},
   "outputs": [
    {
     "data": {
      "text/plain": [
       "{524}"
      ]
     },
     "execution_count": 62,
     "metadata": {},
     "output_type": "execute_result"
    }
   ],
   "source": [
    "n = sorted([decode(i) for i in inputs])\n",
    "set(range(n[0], n[-1])) -set(n)"
   ]
  }
 ],
 "metadata": {
  "kernelspec": {
   "display_name": "devel",
   "language": "python",
   "name": "devel"
  },
  "language_info": {
   "codemirror_mode": {
    "name": "ipython",
    "version": 3
   },
   "file_extension": ".py",
   "mimetype": "text/x-python",
   "name": "python",
   "nbconvert_exporter": "python",
   "pygments_lexer": "ipython3",
   "version": "3.6.10"
  }
 },
 "nbformat": 4,
 "nbformat_minor": 4
}
