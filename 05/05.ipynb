{
 "cells": [
  {
   "cell_type": "markdown",
   "id": "82b72a53-7d4e-4116-af51-2d38c072e599",
   "metadata": {},
   "source": [
    "<pre>\n",
    "--- <a href=https://adventofcode.com/2021/day/5>--- Day 5: Hydrothermal Venture ---  </a>---\n",
    "\n",
    "Consider only horizontal and vertical lines. <b>At how many points do at least two lines overlap?</b>\n",
    "\n",
    "</pre>"
   ]
  },
  {
   "cell_type": "code",
   "execution_count": 7,
   "id": "58ba257d-4ad6-4aee-8e14-43c534d7debb",
   "metadata": {},
   "outputs": [],
   "source": [
    "import numpy as np"
   ]
  },
  {
   "cell_type": "code",
   "execution_count": 49,
   "id": "483cca98-b7d8-47bc-8606-1974718fd6eb",
   "metadata": {},
   "outputs": [
    {
     "data": {
      "text/plain": [
       "5"
      ]
     },
     "execution_count": 49,
     "metadata": {},
     "output_type": "execute_result"
    }
   ],
   "source": [
    "def read(infile, m):\n",
    "    with open(infile) as f:\n",
    "        for line in f:\n",
    "            traj = np.fromstring(\",\".join(line.strip().split(\"->\")), sep=',', dtype=int).reshape(2,2)\n",
    "            \n",
    "            x = traj[:,0]\n",
    "            y = traj[:,1]\n",
    "            \n",
    "            if x.min() == x.max():\n",
    "                for j in np.arange(y.min(), y.max() + 1):\n",
    "                    m[j , x[0]] += 1 \n",
    "            \n",
    "        \n",
    "            if y.min() == y.max():\n",
    "                for i in np.arange(x.min(), x.max() + 1):\n",
    "                    m[y[0], i] += 1 \n",
    "            \n",
    "            \n",
    "    return m\n",
    "\n",
    "m = read(\"input_test\", np.zeros((10, 10)))\n",
    "(m >= 2).sum()"
   ]
  },
  {
   "cell_type": "code",
   "execution_count": 60,
   "id": "5c4966c5-cdcb-49c4-9e02-564b3df5dd7f",
   "metadata": {},
   "outputs": [
    {
     "data": {
      "text/plain": [
       "7297"
      ]
     },
     "execution_count": 60,
     "metadata": {},
     "output_type": "execute_result"
    }
   ],
   "source": [
    "m = read(\"input\", np.zeros((1000,1000)))\n",
    "(m >= 2).sum()"
   ]
  },
  {
   "cell_type": "markdown",
   "id": "f045fabb-0c66-4d46-8ad9-6f7107ea5db9",
   "metadata": {},
   "source": [
    "<pre> \n",
    "--- Part Two ---\n",
    "\n",
    "Consider all of the lines. <b>At how many points do at least two lines overlap?</b> </pre>"
   ]
  },
  {
   "cell_type": "code",
   "execution_count": 105,
   "id": "196ddd35-f9c0-4a62-b7a9-8b199f424361",
   "metadata": {},
   "outputs": [
    {
     "name": "stdout",
     "output_type": "stream",
     "text": [
      "12\n"
     ]
    },
    {
     "data": {
      "text/plain": [
       "array([[1., 0., 1., 0., 0., 0., 0., 1., 1., 0.],\n",
       "       [0., 1., 1., 1., 0., 0., 0., 2., 0., 0.],\n",
       "       [0., 0., 2., 0., 1., 0., 1., 1., 1., 0.],\n",
       "       [0., 0., 0., 1., 0., 2., 0., 2., 0., 0.],\n",
       "       [0., 1., 1., 2., 3., 1., 3., 2., 1., 1.],\n",
       "       [0., 0., 0., 1., 0., 2., 0., 0., 0., 0.],\n",
       "       [0., 0., 1., 0., 0., 0., 1., 0., 0., 0.],\n",
       "       [0., 1., 0., 0., 0., 0., 0., 1., 0., 0.],\n",
       "       [1., 0., 0., 0., 0., 0., 0., 0., 1., 0.],\n",
       "       [2., 2., 2., 1., 1., 1., 0., 0., 0., 0.]])"
      ]
     },
     "execution_count": 105,
     "metadata": {},
     "output_type": "execute_result"
    }
   ],
   "source": [
    "def read(infile, m):\n",
    "    with open(infile) as f:\n",
    "        for line in f:\n",
    "            traj = np.fromstring(\",\".join(line.strip().split(\"->\")), sep=',', dtype=int).reshape(2,2)\n",
    "            \n",
    "            x = traj[:,0]\n",
    "            y = traj[:,1]\n",
    "            \n",
    "            # Vertical\n",
    "            if x.min() == x.max():\n",
    "                for j in np.arange(y.min(), y.max() + 1):\n",
    "                    m[j , x[0]] += 1 \n",
    "            \n",
    "            # Horitzontal\n",
    "            elif y.min() == y.max():\n",
    "                for i in np.arange(x.min(), x.max() + 1):\n",
    "                    m[y[0], i] += 1 \n",
    "            \n",
    "            # Digonal\n",
    "            else:\n",
    "                dif = traj[1,:] - traj[0,:]\n",
    "                dxy = np.copysign(np.ones(dif.shape, dtype=int), dif)\n",
    "    \n",
    "                for pair in zip(*(\n",
    "                    np.arange(x[0], x[1] + dxy[0], dxy[0], dtype=int), \n",
    "                    np.arange(y[0], y[1] + dxy[1], dxy[1], dtype=int))):\n",
    "                        m[pair[::-1]] += 1\n",
    "    return m\n",
    "\n",
    "m = read(\"input_test\", np.zeros((10, 10)))\n",
    "print((m >= 2).sum())\n",
    "m"
   ]
  },
  {
   "cell_type": "code",
   "execution_count": 106,
   "id": "285a3a78-08ea-44e8-8738-353716514059",
   "metadata": {},
   "outputs": [
    {
     "data": {
      "text/plain": [
       "21038"
      ]
     },
     "execution_count": 106,
     "metadata": {},
     "output_type": "execute_result"
    }
   ],
   "source": [
    "m = read(\"input\", np.zeros((1000,1000)))\n",
    "(m >= 2).sum()"
   ]
  }
 ],
 "metadata": {
  "kernelspec": {
   "display_name": "devel",
   "language": "python",
   "name": "devel"
  },
  "language_info": {
   "codemirror_mode": {
    "name": "ipython",
    "version": 3
   },
   "file_extension": ".py",
   "mimetype": "text/x-python",
   "name": "python",
   "nbconvert_exporter": "python",
   "pygments_lexer": "ipython3",
   "version": "3.6.10"
  }
 },
 "nbformat": 4,
 "nbformat_minor": 5
}
