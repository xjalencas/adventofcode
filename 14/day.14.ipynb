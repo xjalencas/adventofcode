{
 "cells": [
  {
   "cell_type": "markdown",
   "metadata": {},
   "source": [
    "### Part I\n",
    "Execute the initialization program. What is the sum of all values left in memory after it completes?"
   ]
  },
  {
   "cell_type": "code",
   "execution_count": 27,
   "metadata": {},
   "outputs": [],
   "source": [
    "import re"
   ]
  },
  {
   "cell_type": "code",
   "execution_count": 126,
   "metadata": {},
   "outputs": [],
   "source": [
    "def day14p1 (infile):\n",
    "\n",
    "    mem = {}\n",
    "    \n",
    "    with open(infile) as f:\n",
    "        for line in f:\n",
    "\n",
    "            if line.startswith(\"mask\"):\n",
    "                mask = {i: v for i, v in enumerate(line.split(\"=\")[1].strip()) if v != 'X'}\n",
    "\n",
    "            elif line.startswith(\"mem\"):\n",
    "\n",
    "                index, value = re.match(r\"mem\\[(\\d*)\\] = (\\d*)\", line).groups()\n",
    "                index = int(index)\n",
    "                value = int(value)\n",
    "\n",
    "                \n",
    "                binary = list(\"{0:036b}\".format(value))\n",
    "                for idx in mask:\n",
    "                    binary[idx] = mask[idx]\n",
    "                    \n",
    "                mem[index] = int(\"\".join(binary), 2)\n",
    "\n",
    "    print(len(mem))\n",
    "    print(sum(mem.values()))"
   ]
  },
  {
   "cell_type": "code",
   "execution_count": 127,
   "metadata": {},
   "outputs": [
    {
     "name": "stdout",
     "output_type": "stream",
     "text": [
      "2\n",
      "165\n"
     ]
    }
   ],
   "source": [
    "day14p1(\"input.sample\")"
   ]
  },
  {
   "cell_type": "code",
   "execution_count": 128,
   "metadata": {},
   "outputs": [
    {
     "name": "stdout",
     "output_type": "stream",
     "text": [
      "384\n",
      "12610010960049\n"
     ]
    }
   ],
   "source": [
    "day14p1(\"input\")"
   ]
  },
  {
   "cell_type": "markdown",
   "metadata": {},
   "source": [
    "### Part II\n",
    "Execute the initialization program. What is the sum of all values left in memory after it completes?"
   ]
  },
  {
   "cell_type": "code",
   "execution_count": 177,
   "metadata": {},
   "outputs": [],
   "source": [
    "import itertools"
   ]
  },
  {
   "cell_type": "code",
   "execution_count": 226,
   "metadata": {},
   "outputs": [],
   "source": [
    "def day14p1 (infile):\n",
    "\n",
    "    mem = {}\n",
    "    \n",
    "    with open(infile) as f:\n",
    "        for line in f:\n",
    "\n",
    "            if line.startswith(\"mask\"):\n",
    "                mask = {i: v for i, v in enumerate(line.split(\"=\")[1].strip())}\n",
    "                \n",
    "            elif line.startswith(\"mem\"):\n",
    "\n",
    "                index, value = re.match(r\"mem\\[(\\d*)\\] = (\\d*)\", line).groups()\n",
    "                index = int(index)\n",
    "                value = int(value)\n",
    "\n",
    "                \n",
    "                binary = list(\"{0:036b}\".format(index))\n",
    "                for idx in mask:\n",
    "                    \n",
    "                    if mask[idx] == '1':\n",
    "                        binary[idx] = '1'\n",
    "                    \n",
    "                    elif mask[idx] == '0':\n",
    "                        binary[idx] = [binary[idx]]\n",
    "                    \n",
    "                    \n",
    "                    elif mask[idx] == \"X\":\n",
    "                        binary[idx] = [\"0\",\"1\"]\n",
    "                \n",
    "                for x in itertools.product(*binary):\n",
    "                    index = int(\"\".join(x), 2)\n",
    "                    mem[index] = value\n",
    "                \n",
    "    print(sum(mem.values()))"
   ]
  },
  {
   "cell_type": "code",
   "execution_count": 227,
   "metadata": {},
   "outputs": [
    {
     "name": "stdout",
     "output_type": "stream",
     "text": [
      "208\n",
      "CPU times: user 754 µs, sys: 68 µs, total: 822 µs\n",
      "Wall time: 580 µs\n"
     ]
    }
   ],
   "source": [
    "%%time\n",
    "day14p1(\"input.sample2\")"
   ]
  },
  {
   "cell_type": "code",
   "execution_count": 228,
   "metadata": {},
   "outputs": [
    {
     "name": "stdout",
     "output_type": "stream",
     "text": [
      "3608464522781\n",
      "CPU times: user 56.5 ms, sys: 0 ns, total: 56.5 ms\n",
      "Wall time: 55 ms\n"
     ]
    }
   ],
   "source": [
    "%%time\n",
    "day14p1(\"input\")"
   ]
  },
  {
   "cell_type": "code",
   "execution_count": null,
   "metadata": {},
   "outputs": [],
   "source": []
  }
 ],
 "metadata": {
  "kernelspec": {
   "display_name": "devel",
   "language": "python",
   "name": "devel"
  },
  "language_info": {
   "codemirror_mode": {
    "name": "ipython",
    "version": 3
   },
   "file_extension": ".py",
   "mimetype": "text/x-python",
   "name": "python",
   "nbconvert_exporter": "python",
   "pygments_lexer": "ipython3",
   "version": "3.6.10"
  }
 },
 "nbformat": 4,
 "nbformat_minor": 4
}
