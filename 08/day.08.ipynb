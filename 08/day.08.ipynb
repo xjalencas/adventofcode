{
 "cells": [
  {
   "cell_type": "code",
   "execution_count": 1,
   "metadata": {},
   "outputs": [],
   "source": [
    "import numpy as np"
   ]
  },
  {
   "cell_type": "markdown",
   "metadata": {},
   "source": [
    "```np.reshape(a, shape, order='C') ```\n",
    "```python\n",
    "order=C  C-like: Last index changing fastest\n",
    "order=F  Fortran-like: First index changing fastest\n",
    "\n",
    "```\n"
   ]
  },
  {
   "cell_type": "code",
   "execution_count": 2,
   "metadata": {
    "scrolled": true
   },
   "outputs": [
    {
     "name": "stdout",
     "output_type": "stream",
     "text": [
      "(25, 6, 100)\n"
     ]
    }
   ],
   "source": [
    "size = [25, 6]\n",
    "with open(\"input.txt\") as f:\n",
    "    image = np.array(list(f.read().strip()), dtype=int)\n",
    "\n",
    "size.append(-1)\n",
    "image = image.reshape(size, order=\"F\")\n",
    "\n",
    "print(image.shape)"
   ]
  },
  {
   "cell_type": "code",
   "execution_count": 3,
   "metadata": {},
   "outputs": [
    {
     "name": "stdout",
     "output_type": "stream",
     "text": [
      "(150, 100)\n",
      "5\n",
      "{0: 4, 1: 15, 2: 131}\n"
     ]
    },
    {
     "data": {
      "text/plain": [
       "1965"
      ]
     },
     "execution_count": 3,
     "metadata": {},
     "output_type": "execute_result"
    }
   ],
   "source": [
    "image2 = image.reshape([size[0] * size[1], size[2]])\n",
    "print(image2.shape)\n",
    "ilayer = np.count_nonzero(image2, axis=0).argmax()\n",
    "print(ilayer)\n",
    "\n",
    "layer = image[:,:, ilayer]\n",
    "unique, counts = np.unique(layer.flatten(), return_counts=True)\n",
    "info = dict(zip(unique, counts))\n",
    "print(info)\n",
    "info[1] * info[2]"
   ]
  },
  {
   "cell_type": "code",
   "execution_count": 4,
   "metadata": {
    "scrolled": true
   },
   "outputs": [
    {
     "name": "stdout",
     "output_type": "stream",
     "text": [
      "(100, 6, 25)\n"
     ]
    }
   ],
   "source": [
    "size = [-1, 6, 25]\n",
    "with open(\"input.txt\") as f:\n",
    "    image = np.array(list(f.read().strip()), dtype=int)\n",
    "\n",
    "image = image.reshape(size)\n",
    "\n",
    "print(image.shape)"
   ]
  },
  {
   "cell_type": "code",
   "execution_count": 5,
   "metadata": {},
   "outputs": [
    {
     "name": "stdout",
     "output_type": "stream",
     "text": [
      "(100, 150)\n",
      "5\n",
      "(6, 25)\n",
      "{0: 4, 1: 15, 2: 131}\n"
     ]
    },
    {
     "data": {
      "text/plain": [
       "1965"
      ]
     },
     "execution_count": 5,
     "metadata": {},
     "output_type": "execute_result"
    }
   ],
   "source": [
    "image2 = image.reshape([size[0],  size[1] * size[2]])\n",
    "print(image2.shape)\n",
    "ilayer = np.count_nonzero(image2, axis=1).argmax()\n",
    "print(ilayer)\n",
    "\n",
    "layer = image[ilayer, :,:]\n",
    "print(layer.shape)\n",
    "unique, counts = np.unique(layer.flatten(), return_counts=True)\n",
    "info = dict(zip(unique, counts))\n",
    "print(info)\n",
    "info[1] * info[2]"
   ]
  },
  {
   "cell_type": "markdown",
   "metadata": {},
   "source": [
    "```--- Part Two ---```"
   ]
  },
  {
   "cell_type": "code",
   "execution_count": 117,
   "metadata": {},
   "outputs": [
    {
     "name": "stdout",
     "output_type": "stream",
     "text": [
      "(100, 6, 25)\n"
     ]
    }
   ],
   "source": [
    "size=[-1, 6,  25]\n",
    "with open(\"input.txt\") as f:\n",
    "    image = np.array(list(f.read().strip()), dtype=int)\n",
    "\n",
    "image = image.reshape(size)\n",
    "\n",
    "print(image.shape)"
   ]
  },
  {
   "cell_type": "code",
   "execution_count": 119,
   "metadata": {},
   "outputs": [
    {
     "name": "stdout",
     "output_type": "stream",
     "text": [
      "[[0 1 1 0 0 1 1 1 1 0 1 0 0 1 0 0 0 1 1 0 1 0 0 0 1]\n",
      " [1 0 0 1 0 0 0 0 1 0 1 0 1 0 0 0 0 0 1 0 1 0 0 0 1]\n",
      " [1 0 0 0 0 0 0 1 0 0 1 1 0 0 0 0 0 0 1 0 0 1 0 1 0]\n",
      " [1 0 1 1 0 0 1 0 0 0 1 0 1 0 0 0 0 0 1 0 0 0 1 0 0]\n",
      " [1 0 0 1 0 1 0 0 0 0 1 0 1 0 0 1 0 0 1 0 0 0 1 0 0]\n",
      " [0 1 1 1 0 1 1 1 1 0 1 0 0 1 0 0 1 1 0 0 0 0 1 0 0]]\n"
     ]
    }
   ],
   "source": [
    "def foo(array):\n",
    "    return array[np.nonzero(array!=2)[0][0]]\n",
    "    \n",
    "pixels = np.apply_along_axis(foo, 0, image)\n",
    "print(pixels)"
   ]
  },
  {
   "cell_type": "code",
   "execution_count": 121,
   "metadata": {},
   "outputs": [
    {
     "name": "stdout",
     "output_type": "stream",
     "text": [
      "(6, 25)\n"
     ]
    },
    {
     "data": {
      "image/png": "[encoded data removed]",
      "text/plain": [
       "<PIL.Image.Image image mode=L size=25x6 at 0x7FD3750CD0F0>"
      ]
     },
     "execution_count": 121,
     "metadata": {},
     "output_type": "execute_result"
    }
   ],
   "source": [
    "%matplotlib notebook\n",
    "\n",
    "from PIL import Image\n",
    "from matplotlib import cm\n",
    "pixels[np.where(pixels==1)] = 255\n",
    "print(pixels.shape)\n",
    "#im = Image.fromarray(np.uint8(cm.gist_earth(pixels)*255))\n",
    "Image.fromarray(np.uint8(pixels))"
   ]
  },
  {
   "cell_type": "code",
   "execution_count": null,
   "metadata": {},
   "outputs": [],
   "source": []
  }
 ],
 "metadata": {
  "kernelspec": {
   "display_name": "devel",
   "language": "python",
   "name": "devel"
  },
  "language_info": {
   "codemirror_mode": {
    "name": "ipython",
    "version": 3
   },
   "file_extension": ".py",
   "mimetype": "text/x-python",
   "name": "python",
   "nbconvert_exporter": "python",
   "pygments_lexer": "ipython3",
   "version": "3.6.7"
  }
 },
 "nbformat": 4,
 "nbformat_minor": 2
}
