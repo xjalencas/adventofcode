{
 "cells": [
  {
   "cell_type": "markdown",
   "metadata": {},
   "source": [
    "### Part I\n",
    "Run your copy of the boot code. Immediately before any instruction is executed a second time, what value is in the accumulator?"
   ]
  },
  {
   "cell_type": "code",
   "execution_count": 1,
   "metadata": {},
   "outputs": [],
   "source": [
    "with open(\"input\") as f:\n",
    "    code = [x.split(\" \") for x in f.read().split(\"\\n\") if x]"
   ]
  },
  {
   "cell_type": "code",
   "execution_count": 2,
   "metadata": {},
   "outputs": [
    {
     "name": "stdout",
     "output_type": "stream",
     "text": [
      "CPU times: user 374 µs, sys: 37 µs, total: 411 µs\n",
      "Wall time: 414 µs\n"
     ]
    },
    {
     "data": {
      "text/plain": [
       "1446"
      ]
     },
     "execution_count": 2,
     "metadata": {},
     "output_type": "execute_result"
    }
   ],
   "source": [
    "%%time\n",
    "\n",
    "def run(code, safe=False):\n",
    "\n",
    "    acc = 0\n",
    "    i = 0\n",
    "    visited = []\n",
    "    \n",
    "    while i < len(code):\n",
    "        \n",
    "        #print(code[i], acc, i, visited)\n",
    "        \n",
    "        if safe and i in visited:\n",
    "            break\n",
    "        visited.append(i)\n",
    "\n",
    "        if code[i][0] == \"acc\":\n",
    "            acc += int(code[i][1])\n",
    "            i += 1\n",
    "\n",
    "        elif code[i][0] == \"nop\":\n",
    "            i += 1\n",
    "            \n",
    "        elif code[i][0] == \"jmp\":\n",
    "            i += int(code[i][1])\n",
    "    \n",
    "    \n",
    "    return acc, visited\n",
    "        \n",
    "acc, visited = run(code, safe=True)\n",
    "acc"
   ]
  },
  {
   "cell_type": "markdown",
   "metadata": {},
   "source": [
    "### Part II\n",
    "Fix the program so that it terminates normally by changing exactly one jmp (to nop) or nop (to jmp). What is the value of the accumulator after the program terminates?"
   ]
  },
  {
   "cell_type": "code",
   "execution_count": 8,
   "metadata": {},
   "outputs": [
    {
     "name": "stdout",
     "output_type": "stream",
     "text": [
      "253 ['jmp', '-128'] 1403\n"
     ]
    },
    {
     "data": {
      "text/plain": [
       "1403"
      ]
     },
     "execution_count": 8,
     "metadata": {},
     "output_type": "execute_result"
    }
   ],
   "source": [
    "import copy\n",
    "# Test each combination\n",
    "# jmp > nop\n",
    "\n",
    "for i, line in enumerate(code):\n",
    "    \n",
    "    if line[0] == \"jmp\":    \n",
    "        code2 = copy.deepcopy(code)\n",
    "        code2[i][0] = \"nop\"\n",
    "\n",
    "    elif line[0] == \"nop\":    \n",
    "        code2 = copy.deepcopy(code)\n",
    "        code2[i][0] = \"jmp\"\n",
    "    \n",
    "    else:\n",
    "        continue\n",
    "    \n",
    "    acc, visited = run(code2, safe=True)     \n",
    "    if visited[-1] == len(code) -1 :\n",
    "        break\n",
    "\n",
    "print(i, code[i], acc)\n",
    "acc, visited = run(code2, safe=True)\n",
    "acc"
   ]
  }
 ],
 "metadata": {
  "kernelspec": {
   "display_name": "devel",
   "language": "python",
   "name": "devel"
  },
  "language_info": {
   "codemirror_mode": {
    "name": "ipython",
    "version": 3
   },
   "file_extension": ".py",
   "mimetype": "text/x-python",
   "name": "python",
   "nbconvert_exporter": "python",
   "pygments_lexer": "ipython3",
   "version": "3.6.10"
  }
 },
 "nbformat": 4,
 "nbformat_minor": 4
}
