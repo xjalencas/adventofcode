{
 "cells": [
  {
   "cell_type": "markdown",
   "id": "f709af87-ba3a-4552-a9b4-f74e78911816",
   "metadata": {},
   "source": [
    "# --- Day 8: Haunted Wasteland ---\n",
    "\n",
    "Starting at AAA, follow the left/right instructions. How many steps are required to reach ZZZ?"
   ]
  },
  {
   "cell_type": "code",
   "execution_count": 1,
   "id": "7f0f5b2f-137e-42e4-b249-2c94f70d18ac",
   "metadata": {},
   "outputs": [],
   "source": [
    "import itertools"
   ]
  },
  {
   "cell_type": "code",
   "execution_count": 5,
   "id": "d748bbcb-418a-42ad-bea7-eca4760f8aca",
   "metadata": {},
   "outputs": [],
   "source": [
    "infile = \"input.0.txt\"\n",
    "map_ = []\n",
    "\n",
    "with open(infile) as f:\n",
    "    \n",
    "    instructions = list(f.readline().strip())\n",
    "\n",
    "    for line in f:\n",
    "        if line.strip():\n",
    "            \n",
    "            source = line.split(\"=\")[0].strip()\n",
    "            destiny = line.split(\"=\")[1].strip().replace(\" \", \"\").replace(\"(\", \"\").replace(\")\", \"\").split(\",\")\n",
    "            \n",
    "            map_.append((source, destiny))\n",
    "            \n",
    "    instructions"
   ]
  },
  {
   "cell_type": "code",
   "execution_count": 14,
   "id": "c726c491-89e7-43ed-a168-65248070b50d",
   "metadata": {},
   "outputs": [],
   "source": [
    "select = {\"L\": 0, \"R\": 1}"
   ]
  },
  {
   "cell_type": "code",
   "execution_count": 7,
   "id": "7bb25b26-f956-4bad-9cca-a4c26d91afd5",
   "metadata": {},
   "outputs": [
    {
     "data": {
      "text/plain": [
       "6"
      ]
     },
     "execution_count": 7,
     "metadata": {},
     "output_type": "execute_result"
    }
   ],
   "source": [
    "\n",
    "origin =\"AAA\"\n",
    "n = 0\n",
    "i = list(zip(*map_))[0].index(\"AAA\")\n",
    "\n",
    "for move in itertools.cycle(instructions):\n",
    "    \n",
    "    n += 1    \n",
    "    \n",
    "    destiny = map_[i][1][select[move]]\n",
    "    i = list(zip(*map_))[0].index(destiny)\n",
    "    \n",
    "    if destiny == \"ZZZ\":\n",
    "        break\n",
    "    \n",
    "n"
   ]
  },
  {
   "cell_type": "markdown",
   "id": "9dccf99c-0814-45e3-9f6d-30b643b2c0e5",
   "metadata": {},
   "source": [
    "## --- Part Two ---\n",
    "Simultaneously start on every node that ends with A. How many steps does it take before you're only on nodes that end with Z?"
   ]
  },
  {
   "cell_type": "code",
   "execution_count": 23,
   "id": "64387587-a3b6-4e9d-a5dc-1876ddc6d74d",
   "metadata": {},
   "outputs": [],
   "source": [
    "infile = \"input.txt\"\n",
    "map_ = []\n",
    "\n",
    "with open(infile) as f:\n",
    "    \n",
    "    instructions = list(f.readline().strip())\n",
    "\n",
    "    for line in f:\n",
    "        if line.strip():\n",
    "            \n",
    "            source = line.split(\"=\")[0].strip()\n",
    "            destiny = line.split(\"=\")[1].strip().replace(\" \", \"\").replace(\"(\", \"\").replace(\")\", \"\").split(\",\")\n",
    "            \n",
    "            map_.append((source, destiny))\n",
    "            "
   ]
  },
  {
   "cell_type": "code",
   "execution_count": 24,
   "id": "19cd52d3-db93-4028-bf5b-ae5b4ab9769e",
   "metadata": {},
   "outputs": [
    {
     "data": {
      "text/plain": [
       "array([ 68, 117, 131, 501, 661, 693])"
      ]
     },
     "execution_count": 24,
     "metadata": {},
     "output_type": "execute_result"
    }
   ],
   "source": [
    "import numpy as np\n",
    "positions = np.array(list(zip(*map_))[0])\n",
    "destinies = np.array(list(zip(*map_))[1])\n",
    "\n",
    "start, = np.where(np.char.endswith(positions, \"A\") == True)\n",
    "start"
   ]
  },
  {
   "cell_type": "code",
   "execution_count": null,
   "id": "38c63b0e-2cae-4f94-b7a2-990c27a656a0",
   "metadata": {},
   "outputs": [
    {
     "name": "stdout",
     "output_type": "stream",
     "text": [
      "1.0\n",
      "2.0\n",
      "3.0\n",
      "4.0\n",
      "5.0\n",
      "6.0\n",
      "7.0\n",
      "8.0\n",
      "9.0\n",
      "10.0\n",
      "11.0\n",
      "12.0\n",
      "13.0\n",
      "14.0\n",
      "15.0\n",
      "16.0\n",
      "17.0\n",
      "18.0\n",
      "19.0\n",
      "20.0\n",
      "21.0\n",
      "22.0\n",
      "23.0\n",
      "24.0\n",
      "25.0\n",
      "26.0\n",
      "27.0\n",
      "28.0\n",
      "29.0\n",
      "30.0\n",
      "31.0\n",
      "32.0\n",
      "33.0\n",
      "34.0\n",
      "35.0\n",
      "36.0\n",
      "37.0\n",
      "38.0\n",
      "39.0\n",
      "40.0\n",
      "41.0\n",
      "42.0\n",
      "43.0\n",
      "44.0\n",
      "45.0\n",
      "46.0\n",
      "47.0\n",
      "48.0\n",
      "49.0\n",
      "50.0\n",
      "51.0\n",
      "52.0\n",
      "53.0\n",
      "54.0\n",
      "55.0\n",
      "56.0\n",
      "57.0\n",
      "58.0\n",
      "59.0\n",
      "60.0\n",
      "61.0\n",
      "62.0\n",
      "63.0\n",
      "64.0\n"
     ]
    }
   ],
   "source": [
    "%%time\n",
    "n = 0\n",
    "i = start\n",
    "for move in itertools.cycle(instructions):\n",
    "    \n",
    "    n += 1    \n",
    "    \n",
    "    destiny = destinies[i][:, select[move]]\n",
    "    i, = np.where(np.in1d(positions, destiny))\n",
    "    \n",
    "    if np.all(np.char.endswith(destiny, \"Z\")):\n",
    "        break\n",
    "        \n",
    "    if n % 1000000 == 0:\n",
    "        print(n/1000000)\n",
    "n"
   ]
  },
  {
   "cell_type": "markdown",
   "id": "f922dd42-d45b-46b2-9cf0-53d84cf94503",
   "metadata": {},
   "source": [
    "<div class=\"alert alert-info\">\n",
    "<h1 class=\"alert-heading\"><i class=\"fa fa-warning\"></i></h1>\n",
    "Implementation <b>too slow</b>. Find a better alternative.<br>\n",
    "<ul>\n",
    "    <li>Maybe by ranges of values ? </li>\n",
    "</ul>\n",
    "</div>"
   ]
  }
 ],
 "metadata": {
  "kernelspec": {
   "display_name": "eug",
   "language": "python",
   "name": "eug"
  },
  "language_info": {
   "codemirror_mode": {
    "name": "ipython",
    "version": 3
   },
   "file_extension": ".py",
   "mimetype": "text/x-python",
   "name": "python",
   "nbconvert_exporter": "python",
   "pygments_lexer": "ipython3",
   "version": "3.11.5"
  }
 },
 "nbformat": 4,
 "nbformat_minor": 5
}
