{
 "cells": [
  {
   "cell_type": "code",
   "execution_count": 5,
   "metadata": {},
   "outputs": [],
   "source": [
    "import numpy as np"
   ]
  },
  {
   "cell_type": "markdown",
   "metadata": {},
   "source": [
    "### Part I\n",
    "What is the ID of the earliest bus you can take to the airport multiplied by the number of minutes you'll need to wait for that bus?"
   ]
  },
  {
   "cell_type": "code",
   "execution_count": 6,
   "metadata": {},
   "outputs": [
    {
     "name": "stdout",
     "output_type": "stream",
     "text": [
      "939\n",
      "[ 7 13 59 31 19]\n"
     ]
    }
   ],
   "source": [
    "with open(\"input_sample\") as f:\n",
    "    time = int(f.readline())\n",
    "    buses = np.array([int(x) for x in f.readline().split(\",\") if x != 'x'])\n",
    "\n",
    "print(time)\n",
    "print(buses)"
   ]
  },
  {
   "cell_type": "code",
   "execution_count": 26,
   "metadata": {},
   "outputs": [
    {
     "data": {
      "text/plain": [
       "295.0"
      ]
     },
     "execution_count": 26,
     "metadata": {},
     "output_type": "execute_result"
    }
   ],
   "source": [
    "minutes = (np.ceil(time / buses) * buses) - time\n",
    "argmin = np.argmin(minutes)\n",
    "buses[argmin] * minutes[argmin]"
   ]
  },
  {
   "cell_type": "code",
   "execution_count": 27,
   "metadata": {},
   "outputs": [
    {
     "name": "stdout",
     "output_type": "stream",
     "text": [
      "1002576\n",
      "[ 13  37 449  29  19  23 773  41  17]\n"
     ]
    }
   ],
   "source": [
    "with open(\"input\") as f:\n",
    "    time = int(f.readline())\n",
    "    buses = np.array([int(x) for x in f.readline().split(\",\") if x != 'x'])\n",
    "\n",
    "print(time)\n",
    "print(buses)"
   ]
  },
  {
   "cell_type": "code",
   "execution_count": 28,
   "metadata": {},
   "outputs": [
    {
     "data": {
      "text/plain": [
       "3865.0"
      ]
     },
     "execution_count": 28,
     "metadata": {},
     "output_type": "execute_result"
    }
   ],
   "source": [
    "minutes = (np.ceil(time / buses) * buses) - time\n",
    "argmin = np.argmin(minutes)\n",
    "buses[argmin] * minutes[argmin]"
   ]
  },
  {
   "cell_type": "markdown",
   "metadata": {},
   "source": [
    "### Part II\n",
    "What is the earliest timestamp such that all of the listed bus IDs depart at offsets matching their positions in the list?"
   ]
  },
  {
   "cell_type": "code",
   "execution_count": 35,
   "metadata": {},
   "outputs": [
    {
     "name": "stdout",
     "output_type": "stream",
     "text": [
      "[ 7. 13. nan nan 59. nan 31. 19.]\n"
     ]
    }
   ],
   "source": [
    "with open(\"input_sample\") as f:\n",
    "    f.readline()\n",
    "    buses = np.array([int(x) if x!= 'x' else np.nan for x in f.readline().split(\",\") ])\n",
    "\n",
    "print(buses)"
   ]
  },
  {
   "cell_type": "code",
   "execution_count": 133,
   "metadata": {},
   "outputs": [
    {
     "name": "stdout",
     "output_type": "stream",
     "text": [
      "[0 1 4 6 7]\n",
      "[[-7. 13.  0.  0.  0.]\n",
      " [-7.  0. 59.  0.  0.]\n",
      " [-7.  0.  0. 31.  0.]\n",
      " [-7.  0.  0.  0. 19.]] [1. 4. 6. 7.]\n"
     ]
    },
    {
     "name": "stderr",
     "output_type": "stream",
     "text": [
      "/home/xavi/anaconda3/envs/devel/lib/python3.6/site-packages/ipykernel_launcher.py:29: FutureWarning: `rcond` parameter will change to the default of machine precision times ``max(M, N)`` where M and N are the input matrix dimensions.\n",
      "To use the future default and silence this warning we advise to pass `rcond=None`, to keep using the old, explicitly pass `rcond=-1`.\n"
     ]
    },
    {
     "data": {
      "text/plain": [
       "(array([-0.15354948, -0.00575741,  0.04957888,  0.15887592,  0.31185019]),\n",
       " array([], dtype=float64),\n",
       " 4,\n",
       " array([59.43507934, 31.87830204, 20.37274927, 14.28972673]))"
      ]
     },
     "execution_count": 133,
     "metadata": {},
     "output_type": "execute_result"
    }
   ],
   "source": [
    "from numpy import linalg\n",
    "\n",
    "# Build the equation system\n",
    "\n",
    "\n",
    "\n",
    "ok = ~np.isnan(buses)\n",
    "indexes = np.arange(0, buses.shape[0])[ok]\n",
    "print(indexes)\n",
    "\n",
    "\n",
    "n = (~np.isnan(buses)).sum()\n",
    "A = np.zeros((n-1, n))\n",
    "b = np.zeros((n-1))\n",
    "\n",
    "row = 0\n",
    "for i in range(1, n):\n",
    "    #print(i)\n",
    "    A[row][i]  = buses[ok][i]\n",
    "    A[row][0]  = -buses[ok][0]\n",
    "    b[row] = indexes[i] \n",
    "    #print(i - iant)\n",
    "    #print(i, buses[i], buses[iant])\n",
    "    \n",
    "    row += 1\n",
    "\n",
    "print(A, b)\n",
    "\n",
    "np.linalg.lstsq(A, b)"
   ]
  },
  {
   "cell_type": "code",
   "execution_count": 182,
   "metadata": {},
   "outputs": [
    {
     "name": "stdout",
     "output_type": "stream",
     "text": [
      "1068781.0 [82214. 18115. 34477. 56252.]\n",
      "CPU times: user 2.39 s, sys: 0 ns, total: 2.39 s\n",
      "Wall time: 2.39 s\n"
     ]
    }
   ],
   "source": [
    "%%time\n",
    "for a  in range(0, 1000000):\n",
    "    t = buses[0] * a\n",
    "    \n",
    "    solution = np.linalg.solve(A[:, 1:], b - a * A[:,0])\n",
    "    if (np.abs(solution - np.round(solution)) < 0.001).all():\n",
    "        print(t, solution)\n",
    "        break\n",
    "    \n",
    "    \n",
    "    \n",
    "    "
   ]
  },
  {
   "cell_type": "code",
   "execution_count": 183,
   "metadata": {},
   "outputs": [
    {
     "name": "stdout",
     "output_type": "stream",
     "text": [
      "[ 13.  nan  nan  nan  nan  nan  nan  37.  nan  nan  nan  nan  nan 449.\n",
      "  nan  29.  nan  nan  nan  nan  nan  nan  nan  nan  nan  nan  nan  nan\n",
      "  nan  nan  nan  nan  19.  nan  nan  nan  23.  nan  nan  nan  nan  nan\n",
      "  nan  nan 773.  nan  nan  nan  nan  nan  nan  nan  nan  nan  41.  nan\n",
      "  nan  nan  nan  nan  nan  17.]\n"
     ]
    }
   ],
   "source": [
    "with open(\"input\") as f:\n",
    "    f.readline()\n",
    "    buses = np.array([int(x) if x!= 'x' else np.nan for x in f.readline().split(\",\") ])\n",
    "\n",
    "print(buses)"
   ]
  },
  {
   "cell_type": "code",
   "execution_count": 185,
   "metadata": {},
   "outputs": [
    {
     "name": "stdout",
     "output_type": "stream",
     "text": [
      "[ 0  7 13 15 32 36 44 54 61]\n",
      "[[-13.  37.   0.   0.   0.   0.   0.   0.   0.]\n",
      " [-13.   0. 449.   0.   0.   0.   0.   0.   0.]\n",
      " [-13.   0.   0.  29.   0.   0.   0.   0.   0.]\n",
      " [-13.   0.   0.   0.  19.   0.   0.   0.   0.]\n",
      " [-13.   0.   0.   0.   0.  23.   0.   0.   0.]\n",
      " [-13.   0.   0.   0.   0.   0. 773.   0.   0.]\n",
      " [-13.   0.   0.   0.   0.   0.   0.  41.   0.]\n",
      " [-13.   0.   0.   0.   0.   0.   0.   0.  17.]] [ 7. 13. 15. 32. 36. 44. 54. 61.]\n"
     ]
    }
   ],
   "source": [
    "from numpy import linalg\n",
    "\n",
    "# Build the equation system\n",
    "\n",
    "\n",
    "\n",
    "ok = ~np.isnan(buses)\n",
    "indexes = np.arange(0, buses.shape[0])[ok]\n",
    "print(indexes)\n",
    "\n",
    "\n",
    "n = (~np.isnan(buses)).sum()\n",
    "A = np.zeros((n-1, n))\n",
    "b = np.zeros((n-1))\n",
    "\n",
    "row = 0\n",
    "for i in range(1, n):\n",
    "    #print(i)\n",
    "    A[row][i]  = buses[ok][i]\n",
    "    A[row][0]  = -buses[ok][0]\n",
    "    b[row] = indexes[i] \n",
    "    #print(i - iant)\n",
    "    #print(i, buses[i], buses[iant])\n",
    "    \n",
    "    row += 1\n",
    "\n",
    "print(A, b)\n"
   ]
  },
  {
   "cell_type": "code",
   "execution_count": 187,
   "metadata": {},
   "outputs": [
    {
     "ename": "KeyboardInterrupt",
     "evalue": "",
     "output_type": "error",
     "traceback": [
      "\u001b[0;31m---------------------------------------------------------------------------\u001b[0m",
      "\u001b[0;31mKeyboardInterrupt\u001b[0m                         Traceback (most recent call last)",
      "\u001b[0;32m<timed exec>\u001b[0m in \u001b[0;36m<module>\u001b[0;34m\u001b[0m\n",
      "\u001b[0;32m<__array_function__ internals>\u001b[0m in \u001b[0;36msolve\u001b[0;34m(*args, **kwargs)\u001b[0m\n",
      "\u001b[0;32m~/anaconda3/envs/devel/lib/python3.6/site-packages/numpy/linalg/linalg.py\u001b[0m in \u001b[0;36msolve\u001b[0;34m(a, b)\u001b[0m\n\u001b[1;32m    386\u001b[0m     \u001b[0m_assert_stacked_square\u001b[0m\u001b[0;34m(\u001b[0m\u001b[0ma\u001b[0m\u001b[0;34m)\u001b[0m\u001b[0;34m\u001b[0m\u001b[0;34m\u001b[0m\u001b[0m\n\u001b[1;32m    387\u001b[0m     \u001b[0mb\u001b[0m\u001b[0;34m,\u001b[0m \u001b[0mwrap\u001b[0m \u001b[0;34m=\u001b[0m \u001b[0m_makearray\u001b[0m\u001b[0;34m(\u001b[0m\u001b[0mb\u001b[0m\u001b[0;34m)\u001b[0m\u001b[0;34m\u001b[0m\u001b[0;34m\u001b[0m\u001b[0m\n\u001b[0;32m--> 388\u001b[0;31m     \u001b[0mt\u001b[0m\u001b[0;34m,\u001b[0m \u001b[0mresult_t\u001b[0m \u001b[0;34m=\u001b[0m \u001b[0m_commonType\u001b[0m\u001b[0;34m(\u001b[0m\u001b[0ma\u001b[0m\u001b[0;34m,\u001b[0m \u001b[0mb\u001b[0m\u001b[0;34m)\u001b[0m\u001b[0;34m\u001b[0m\u001b[0;34m\u001b[0m\u001b[0m\n\u001b[0m\u001b[1;32m    389\u001b[0m \u001b[0;34m\u001b[0m\u001b[0m\n\u001b[1;32m    390\u001b[0m     \u001b[0;31m# We use the b = (..., M,) logic, only if the number of extra dimensions\u001b[0m\u001b[0;34m\u001b[0m\u001b[0;34m\u001b[0m\u001b[0;34m\u001b[0m\u001b[0m\n",
      "\u001b[0;32m~/anaconda3/envs/devel/lib/python3.6/site-packages/numpy/linalg/linalg.py\u001b[0m in \u001b[0;36m_commonType\u001b[0;34m(*arrays)\u001b[0m\n\u001b[1;32m    147\u001b[0m     \u001b[0mis_complex\u001b[0m \u001b[0;34m=\u001b[0m \u001b[0;32mFalse\u001b[0m\u001b[0;34m\u001b[0m\u001b[0;34m\u001b[0m\u001b[0m\n\u001b[1;32m    148\u001b[0m     \u001b[0;32mfor\u001b[0m \u001b[0ma\u001b[0m \u001b[0;32min\u001b[0m \u001b[0marrays\u001b[0m\u001b[0;34m:\u001b[0m\u001b[0;34m\u001b[0m\u001b[0;34m\u001b[0m\u001b[0m\n\u001b[0;32m--> 149\u001b[0;31m         \u001b[0;32mif\u001b[0m \u001b[0missubclass\u001b[0m\u001b[0;34m(\u001b[0m\u001b[0ma\u001b[0m\u001b[0;34m.\u001b[0m\u001b[0mdtype\u001b[0m\u001b[0;34m.\u001b[0m\u001b[0mtype\u001b[0m\u001b[0;34m,\u001b[0m \u001b[0minexact\u001b[0m\u001b[0;34m)\u001b[0m\u001b[0;34m:\u001b[0m\u001b[0;34m\u001b[0m\u001b[0;34m\u001b[0m\u001b[0m\n\u001b[0m\u001b[1;32m    150\u001b[0m             \u001b[0;32mif\u001b[0m \u001b[0misComplexType\u001b[0m\u001b[0;34m(\u001b[0m\u001b[0ma\u001b[0m\u001b[0;34m.\u001b[0m\u001b[0mdtype\u001b[0m\u001b[0;34m.\u001b[0m\u001b[0mtype\u001b[0m\u001b[0;34m)\u001b[0m\u001b[0;34m:\u001b[0m\u001b[0;34m\u001b[0m\u001b[0;34m\u001b[0m\u001b[0m\n\u001b[1;32m    151\u001b[0m                 \u001b[0mis_complex\u001b[0m \u001b[0;34m=\u001b[0m \u001b[0;32mTrue\u001b[0m\u001b[0;34m\u001b[0m\u001b[0;34m\u001b[0m\u001b[0m\n",
      "\u001b[0;31mKeyboardInterrupt\u001b[0m: "
     ]
    }
   ],
   "source": [
    "%%time\n",
    "while True:\n",
    "    t = buses[0] * a\n",
    "    solution = np.linalg.solve(A[:, 1:], b - a * A[:,0])\n",
    "    if (np.abs(solution - np.round(solution)) < 0.001).all():\n",
    "        print(t, solution)\n",
    "        break"
   ]
  }
 ],
 "metadata": {
  "kernelspec": {
   "display_name": "devel",
   "language": "python",
   "name": "devel"
  },
  "language_info": {
   "codemirror_mode": {
    "name": "ipython",
    "version": 3
   },
   "file_extension": ".py",
   "mimetype": "text/x-python",
   "name": "python",
   "nbconvert_exporter": "python",
   "pygments_lexer": "ipython3",
   "version": "3.6.10"
  }
 },
 "nbformat": 4,
 "nbformat_minor": 4
}
