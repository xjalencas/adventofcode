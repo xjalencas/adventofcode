{
 "cells": [
  {
   "cell_type": "markdown",
   "id": "c2cdc053-265e-4586-b55d-799354025429",
   "metadata": {},
   "source": [
    "# Day 3: Rucksack Reorganization\n",
    "\n",
    "## Part I\n",
    "Find the item type that appears in both compartments of each rucksack. What is the sum of the priorities of those item types?"
   ]
  },
  {
   "cell_type": "code",
   "execution_count": 14,
   "id": "59e30621-f7cf-4651-8922-e939565d3fbf",
   "metadata": {},
   "outputs": [],
   "source": [
    "import string"
   ]
  },
  {
   "cell_type": "code",
   "execution_count": 2,
   "id": "c87d0da0-1826-476b-bfe8-f8ea9129904e",
   "metadata": {},
   "outputs": [],
   "source": [
    "import numpy as np\n",
    "import pandas as pd"
   ]
  },
  {
   "cell_type": "code",
   "execution_count": 22,
   "id": "a9b75d31-1cfc-4437-8199-fffc0cf8ddfb",
   "metadata": {},
   "outputs": [
    {
     "data": {
      "text/plain": [
       "157"
      ]
     },
     "execution_count": 22,
     "metadata": {},
     "output_type": "execute_result"
    }
   ],
   "source": [
    "value = 0\n",
    "\n",
    "with open(\"test.txt\") as f:\n",
    "    for line in f:\n",
    "       \n",
    "        line = line.strip()\n",
    "        \n",
    "        s1 = line[:len(line)//2]\n",
    "        s2 = line[len(line)//2:]\n",
    "        \n",
    "        char, = set(s1).intersection(set(s2))\n",
    "        value += string.ascii_letters.index(char) +1 \n",
    "\n",
    "value"
   ]
  },
  {
   "cell_type": "code",
   "execution_count": 23,
   "id": "3b41ff1d-b7fa-40a6-bfaf-c998fe803027",
   "metadata": {},
   "outputs": [
    {
     "data": {
      "text/plain": [
       "7821"
      ]
     },
     "execution_count": 23,
     "metadata": {},
     "output_type": "execute_result"
    }
   ],
   "source": [
    "value = 0\n",
    "\n",
    "with open(\"input\") as f:\n",
    "    for line in f:\n",
    "       \n",
    "        line = line.strip()\n",
    "        \n",
    "        s1 = line[:len(line)//2]\n",
    "        s2 = line[len(line)//2:]\n",
    "        \n",
    "        char, = set(s1).intersection(set(s2))\n",
    "        value += string.ascii_letters.index(char) +1 \n",
    "\n",
    "value"
   ]
  },
  {
   "cell_type": "markdown",
   "id": "fa2716e9-47e2-4a40-8376-171e25370743",
   "metadata": {},
   "source": [
    "## Part II\n",
    "Find the item type that corresponds to the badges of each three-Elf group. What is the sum of the priorities of those item types?"
   ]
  },
  {
   "cell_type": "code",
   "execution_count": 37,
   "id": "5508e0e7-9283-4585-9136-014b21f3af54",
   "metadata": {},
   "outputs": [
    {
     "data": {
      "text/plain": [
       "70"
      ]
     },
     "execution_count": 37,
     "metadata": {},
     "output_type": "execute_result"
    }
   ],
   "source": [
    "value = 0\n",
    "\n",
    "with open(\"test.txt\") as f:\n",
    "    \n",
    "    while True:\n",
    "       \n",
    "        s1, s2, s3 = [f.readline().strip() for _ in range(3)]\n",
    "       \n",
    "        if not s1:\n",
    "            break\n",
    "    \n",
    "        char, = set(s1).intersection(set(s2)).intersection(set(s3))\n",
    "        value += string.ascii_letters.index(char) +1 \n",
    "\n",
    "value"
   ]
  },
  {
   "cell_type": "code",
   "execution_count": 38,
   "id": "55fb9463-85ec-48bf-b5ef-7006ce21d126",
   "metadata": {},
   "outputs": [
    {
     "data": {
      "text/plain": [
       "2752"
      ]
     },
     "execution_count": 38,
     "metadata": {},
     "output_type": "execute_result"
    }
   ],
   "source": [
    "value = 0\n",
    "\n",
    "with open(\"input\") as f:\n",
    "    \n",
    "    while True:\n",
    "       \n",
    "        s1, s2, s3 = [f.readline().strip() for _ in range(3)]\n",
    "       \n",
    "        if not s1:\n",
    "            break\n",
    "    \n",
    "        char, = set(s1).intersection(set(s2)).intersection(set(s3))\n",
    "        value += string.ascii_letters.index(char) +1 \n",
    "\n",
    "value"
   ]
  }
 ],
 "metadata": {
  "kernelspec": {
   "display_name": "devel",
   "language": "python",
   "name": "devel"
  },
  "language_info": {
   "codemirror_mode": {
    "name": "ipython",
    "version": 3
   },
   "file_extension": ".py",
   "mimetype": "text/x-python",
   "name": "python",
   "nbconvert_exporter": "python",
   "pygments_lexer": "ipython3",
   "version": "3.6.10"
  }
 },
 "nbformat": 4,
 "nbformat_minor": 5
}
