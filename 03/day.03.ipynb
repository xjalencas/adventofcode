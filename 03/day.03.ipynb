{
 "cells": [
  {
   "cell_type": "markdown",
   "id": "c2cdc053-265e-4586-b55d-799354025429",
   "metadata": {},
   "source": [
    "# --- Day 3: Gear Ratios ---\n",
    "\n",
    "## Part I\n",
    "What is the sum of all of the part numbers in the engine schematic?"
   ]
  },
  {
   "cell_type": "code",
   "execution_count": 102,
   "id": "75725c66-95dd-409e-ba00-79d913aa641e",
   "metadata": {},
   "outputs": [],
   "source": [
    "import numpy as np"
   ]
  },
  {
   "cell_type": "code",
   "execution_count": 106,
   "id": "1803e51a-2bc3-40a9-ab07-1fec9834e9cf",
   "metadata": {},
   "outputs": [
    {
     "data": {
      "text/plain": [
       "array([['3', '1', '1', ..., '4', '0', '.'],\n",
       "       ['.', '.', '.', ..., '.', '.', '.'],\n",
       "       ['.', '.', '.', ..., '5', '9', '5'],\n",
       "       ...,\n",
       "       ['.', '.', '.', ..., '.', '.', '.'],\n",
       "       ['.', '.', '.', ..., '.', '.', '.'],\n",
       "       ['.', '.', '.', ..., '.', '.', '.']], dtype='<U1')"
      ]
     },
     "execution_count": 106,
     "metadata": {},
     "output_type": "execute_result"
    }
   ],
   "source": [
    "with open (\"input.txt\") as f:\n",
    "    M = np.array([list(x) for x in f.read().split(\"\\n\") if x])\n",
    "M"
   ]
  },
  {
   "cell_type": "code",
   "execution_count": 107,
   "id": "87d7ca68-4bd5-41b4-8b29-0958d04c0ad8",
   "metadata": {},
   "outputs": [],
   "source": [
    "def neighbourhood(M, i, j, size=1):\n",
    "\n",
    "    xmin = max(0, i - size)\n",
    "    xmax = min(M.shape[0], i + size + 1)\n",
    "\n",
    "    ymin = max(0, j - size)\n",
    "    ymax = min(M.shape[1], j + size + 1)\n",
    "\n",
    "    return any([ not x.isdigit() for x in M[xmin:xmax, ymin:ymax].flatten() if x != \".\"])"
   ]
  },
  {
   "cell_type": "code",
   "execution_count": 113,
   "id": "e0bccfae-6579-4e13-b354-66bbc1017ea8",
   "metadata": {},
   "outputs": [],
   "source": [
    "# identify numbers\n",
    "digits = {}\n",
    "for i in range(M.shape[0]):\n",
    "    digits[i] = []\n",
    "    \n",
    "    j = 0\n",
    "    while j < M.shape[1]:\n",
    "        if M[i,j].isdigit():\n",
    "            digit = []\n",
    "            while  j < M.shape[1] and M[i,j].isdigit():\n",
    "                digit.append(j)\n",
    "                j += 1\n",
    "            digits[i].append(digit)\n",
    "            \n",
    "        j += 1"
   ]
  },
  {
   "cell_type": "code",
   "execution_count": 114,
   "id": "2668e54f-d71f-4335-bd78-e625ea6ec764",
   "metadata": {},
   "outputs": [
    {
     "data": {
      "text/plain": [
       "532445"
      ]
     },
     "execution_count": 114,
     "metadata": {},
     "output_type": "execute_result"
    }
   ],
   "source": [
    "a = 0\n",
    "for i in digits:\n",
    "    for digit in digits[i]:\n",
    "        for x in digit:\n",
    "\n",
    "            if neighbourhood(M, i, x):\n",
    "                a += int(\"\".join(M[i, digit]))\n",
    "                break\n",
    "a        \n"
   ]
  },
  {
   "cell_type": "markdown",
   "id": "50a9466f-98d4-4599-b507-9b723aa5b8b7",
   "metadata": {},
   "source": [
    "## Part II\n",
    "What is the sum of all of the part numbers in the engine schematic ?"
   ]
  },
  {
   "cell_type": "code",
   "execution_count": 173,
   "id": "6d646ea1-cef6-4d37-8fd1-b213e1269ee6",
   "metadata": {},
   "outputs": [
    {
     "data": {
      "text/plain": [
       "array([['3', '1', '1', ..., '4', '0', '.'],\n",
       "       ['.', '.', '.', ..., '.', '.', '.'],\n",
       "       ['.', '.', '.', ..., '5', '9', '5'],\n",
       "       ...,\n",
       "       ['.', '.', '.', ..., '.', '.', '.'],\n",
       "       ['.', '.', '.', ..., '.', '.', '.'],\n",
       "       ['.', '.', '.', ..., '.', '.', '.']], dtype='<U1')"
      ]
     },
     "execution_count": 173,
     "metadata": {},
     "output_type": "execute_result"
    }
   ],
   "source": [
    "with open (\"input.txt\") as f:\n",
    "    M = np.array([list(x) for x in f.read().split(\"\\n\") if x])\n",
    "M"
   ]
  },
  {
   "cell_type": "code",
   "execution_count": 174,
   "id": "6e52403f-016a-42ae-b7b2-0d7c31aa82a3",
   "metadata": {},
   "outputs": [],
   "source": [
    "# identify numbers\n",
    "digits = {}\n",
    "for i in range(M.shape[0]):\n",
    "    digits[i] = []\n",
    "    \n",
    "    j = 0\n",
    "    while j < M.shape[1]:\n",
    "        if M[i,j].isdigit():\n",
    "            digit = []\n",
    "            while  j < M.shape[1] and M[i,j].isdigit():\n",
    "                digit.append(j)\n",
    "                j += 1\n",
    "            digits[i].append(digit)\n",
    "            \n",
    "        j += 1"
   ]
  },
  {
   "cell_type": "code",
   "execution_count": 175,
   "id": "f126bea7-397f-4061-a113-725ba51fabce",
   "metadata": {},
   "outputs": [],
   "source": [
    "def neighbourhood(M, i, j, size=1):\n",
    "\n",
    "    xmin = max(0, i - size)\n",
    "    xmax = min(M.shape[0], i + size + 1)\n",
    "\n",
    "    ymin = max(0, j - size)\n",
    "    ymax = min(M.shape[1], j + size + 1)\n",
    "\n",
    "    return (list(range(xmin,xmax)), list(range(ymin, ymax)))"
   ]
  },
  {
   "cell_type": "code",
   "execution_count": 176,
   "id": "17d1045c-792a-4eed-adab-a3150d94e1b2",
   "metadata": {},
   "outputs": [
    {
     "data": {
      "text/plain": [
       "79842967"
      ]
     },
     "execution_count": 176,
     "metadata": {},
     "output_type": "execute_result"
    }
   ],
   "source": [
    "a = 0\n",
    "for i in range(M.shape[0]):\n",
    "    for j in range(M.shape[1]):\n",
    "\n",
    "        if M[i,j] == \"*\":\n",
    "\n",
    "            numbers = []\n",
    "            \n",
    "            neigh = neighbourhood(M, i, j)\n",
    "            for x in neigh[0]:\n",
    "                \n",
    "                for digit in digits[x]:\n",
    "                    if set(digit).intersection(set(neigh[1])):\n",
    "                        numbers.append((x, digit))                        \n",
    "\n",
    "            if len(numbers) == 2:\n",
    "                ratio = np.prod(np.array([\"\".join(M[num[0], num[1]]) for num in numbers], dtype=int))\n",
    "                a += ratio\n",
    "            \n",
    "a"
   ]
  }
 ],
 "metadata": {
  "kernelspec": {
   "display_name": "eug",
   "language": "python",
   "name": "eug"
  },
  "language_info": {
   "codemirror_mode": {
    "name": "ipython",
    "version": 3
   },
   "file_extension": ".py",
   "mimetype": "text/x-python",
   "name": "python",
   "nbconvert_exporter": "python",
   "pygments_lexer": "ipython3",
   "version": "3.12.0"
  }
 },
 "nbformat": 4,
 "nbformat_minor": 5
}
