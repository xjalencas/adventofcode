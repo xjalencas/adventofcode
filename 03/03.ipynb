{
 "cells": [
  {
   "cell_type": "markdown",
   "id": "435aac0a-38da-47d4-af35-fb361f80b7dc",
   "metadata": {},
   "source": [
    "<pre>\n",
    "--- Day 3: Binary Diagnostic ---\n",
    "\n",
    "Use the binary numbers in your diagnostic report to calculate the gamma rate and epsilon rate, then multiply them together. <b>What is the power consumption of the submarine? </b> (Be sure to represent your answer in decimal, not binary.)\n",
    "</pre>"
   ]
  },
  {
   "cell_type": "code",
   "execution_count": 24,
   "id": "bd2452e0-81db-472e-949f-6d5a71e748fa",
   "metadata": {},
   "outputs": [],
   "source": [
    "import numpy as np"
   ]
  },
  {
   "cell_type": "code",
   "execution_count": 25,
   "id": "308bc2aa-cdc7-4f62-972a-1a7f21a689e5",
   "metadata": {},
   "outputs": [],
   "source": [
    "def read(infile):\n",
    "    with open(infile) as f:\n",
    "        m = np.array([list(x) for x in f.read().split(\"\\n\") if x], dtype=int)\n",
    "    return m"
   ]
  },
  {
   "cell_type": "code",
   "execution_count": 26,
   "id": "e91ec015-e442-44d1-8221-acc652656803",
   "metadata": {},
   "outputs": [],
   "source": [
    "x = read(\"input_test.txt\")"
   ]
  },
  {
   "cell_type": "code",
   "execution_count": 27,
   "id": "c42f5748-8b1b-4117-a079-d797bfe80a67",
   "metadata": {},
   "outputs": [],
   "source": [
    "gamma = x.sum(axis=0) > (x.shape[0] / 2)\n",
    "gamma = (gamma * (2 ** np.arange(gamma.shape[0])[::-1])).sum()"
   ]
  },
  {
   "cell_type": "code",
   "execution_count": 28,
   "id": "c50aec2d-9d2c-4100-bba9-55fc9d2f1be5",
   "metadata": {},
   "outputs": [],
   "source": [
    "epsilon = x.sum(axis=0) < (x.shape[0] / 2)\n",
    "epsilon = (epsilon * (2 ** np.arange(epsilon.shape[0])[::-1])).sum()"
   ]
  },
  {
   "cell_type": "code",
   "execution_count": 29,
   "id": "30a24ca2-8747-4ed2-a0f7-7457ec951550",
   "metadata": {},
   "outputs": [
    {
     "data": {
      "text/plain": [
       "198"
      ]
     },
     "execution_count": 29,
     "metadata": {},
     "output_type": "execute_result"
    }
   ],
   "source": [
    "gamma * epsilon"
   ]
  },
  {
   "cell_type": "code",
   "execution_count": 30,
   "id": "c32f5ed0-2f0c-42eb-a3b7-96cdc69ceb45",
   "metadata": {},
   "outputs": [
    {
     "data": {
      "text/plain": [
       "2640986"
      ]
     },
     "execution_count": 30,
     "metadata": {},
     "output_type": "execute_result"
    }
   ],
   "source": [
    "x = read(\"input\")\n",
    "\n",
    "gamma = x.sum(axis=0) > (x.shape[0] / 2)\n",
    "gamma = (gamma * (2 ** np.arange(gamma.shape[0])[::-1])).sum()\n",
    "\n",
    "epsilon = x.sum(axis=0) < (x.shape[0] / 2)\n",
    "epsilon = (epsilon * (2 ** np.arange(epsilon.shape[0])[::-1])).sum()\n",
    "\n",
    "gamma * epsilon"
   ]
  },
  {
   "cell_type": "markdown",
   "id": "4992e76e-f0d2-418b-94b3-70786e74476c",
   "metadata": {},
   "source": [
    "<pre>\n",
    "--- Part Two ---\n",
    "\n",
    "Use the binary numbers in your diagnostic report to calculate the oxygen generator rating and CO2 scrubber rating, then multiply them together. <b>What is the life support rating of the submarine?</b> (Be sure to represent your answer in decimal, not binary.) </pre>"
   ]
  },
  {
   "cell_type": "code",
   "execution_count": 90,
   "id": "22ce920e-4f4e-47e0-ae49-a01b5e058a7e",
   "metadata": {},
   "outputs": [
    {
     "data": {
      "text/plain": [
       "array([[0, 0, 1, 0, 0],\n",
       "       [1, 1, 1, 1, 0],\n",
       "       [1, 0, 1, 1, 0],\n",
       "       [1, 0, 1, 1, 1],\n",
       "       [1, 0, 1, 0, 1],\n",
       "       [0, 1, 1, 1, 1],\n",
       "       [0, 0, 1, 1, 1],\n",
       "       [1, 1, 1, 0, 0],\n",
       "       [1, 0, 0, 0, 0],\n",
       "       [1, 1, 0, 0, 1],\n",
       "       [0, 0, 0, 1, 0],\n",
       "       [0, 1, 0, 1, 0]])"
      ]
     },
     "execution_count": 90,
     "metadata": {},
     "output_type": "execute_result"
    }
   ],
   "source": [
    "x = read(\"input_test.txt\")\n",
    "x"
   ]
  },
  {
   "cell_type": "code",
   "execution_count": 80,
   "id": "8aa6f208-dff1-485a-a1d0-aa0b8e3247e2",
   "metadata": {},
   "outputs": [],
   "source": [
    "def todec(a):\n",
    "    return (a * (2 ** np.arange(a.shape[0])[::-1])).sum()"
   ]
  },
  {
   "cell_type": "code",
   "execution_count": 112,
   "id": "aa87a645-da65-4bdc-bacd-28697c215335",
   "metadata": {},
   "outputs": [
    {
     "name": "stdout",
     "output_type": "stream",
     "text": [
      "23 10 230\n"
     ]
    }
   ],
   "source": [
    "def search(m, i, common=True):\n",
    " \n",
    "    if m.shape[0] == 1:\n",
    "        return m[0]\n",
    "    \n",
    "    column = m[:,i]\n",
    "    \n",
    "    if common:\n",
    "        value = int(column.sum() >= column.shape[0] / 2)\n",
    "    else:\n",
    "        value = int(column.sum() < column.shape[0] / 2)\n",
    "        \n",
    "    candidates, = np.where(column==value)\n",
    "    m = m[candidates,:]\n",
    "\n",
    "    return search(m, i+1, common=common)    \n",
    "        \n",
    "ogr = todec(search(x, i=0, common=True))\n",
    "csr = todec(search(x, i=0, common=False))\n",
    "\n",
    "print(ogr, csr, ogr*csr)"
   ]
  },
  {
   "cell_type": "code",
   "execution_count": 113,
   "id": "ec66b17b-6051-4883-be89-d05f47863b0d",
   "metadata": {},
   "outputs": [
    {
     "name": "stdout",
     "output_type": "stream",
     "text": [
      "1883 3623 6822109\n"
     ]
    }
   ],
   "source": [
    "x = read(\"input\")\n",
    "ogr = todec(search(x, i=0, common=True))\n",
    "csr = todec(search(x, i=0, common=False))\n",
    "print(ogr, csr, ogr*csr)"
   ]
  }
 ],
 "metadata": {
  "kernelspec": {
   "display_name": "devel",
   "language": "python",
   "name": "devel"
  },
  "language_info": {
   "codemirror_mode": {
    "name": "ipython",
    "version": 3
   },
   "file_extension": ".py",
   "mimetype": "text/x-python",
   "name": "python",
   "nbconvert_exporter": "python",
   "pygments_lexer": "ipython3",
   "version": "3.6.10"
  }
 },
 "nbformat": 4,
 "nbformat_minor": 5
}
