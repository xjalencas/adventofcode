{
 "cells": [
  {
   "cell_type": "markdown",
   "metadata": {},
   "source": [
    "### Part I\n",
    "Evaluate the expression on each line of the homework; what is the sum of the resulting values?"
   ]
  },
  {
   "cell_type": "code",
   "execution_count": 89,
   "metadata": {},
   "outputs": [],
   "source": [
    "import re\n",
    "import logging"
   ]
  },
  {
   "cell_type": "code",
   "execution_count": 109,
   "metadata": {},
   "outputs": [],
   "source": [
    "logging.getLogger().setLevel(logging.INFO)\n",
    "#logging.getLogger().setLevel(logging.DEBUG)"
   ]
  },
  {
   "cell_type": "code",
   "execution_count": 122,
   "metadata": {},
   "outputs": [],
   "source": [
    "samples = [\n",
    "    \"1 + 2 * 3 + 4 * 5 + 6\",\n",
    "    \"1 + (2 * 3) + (4 * (5 + 6))\",\n",
    "]"
   ]
  },
  {
   "cell_type": "code",
   "execution_count": 123,
   "metadata": {},
   "outputs": [],
   "source": [
    "def evaluate (expression):\n",
    "    \"Evaluate left to right an expression with no parentheses\"\n",
    "    \n",
    "    items = re.findall(r'(\\d*)\\s*(\\*|\\+)\\s*(\\d+)', expression)\n",
    "\n",
    "    logging.debug(items)\n",
    "\n",
    "    for i, item in enumerate(items):\n",
    "\n",
    "        if i == 0:\n",
    "            ant = eval(\"\".join(item))\n",
    "        else:\n",
    "            ant = eval(\"\".join([str(ant)]+list(item)))\n",
    "    \n",
    "        logging.debug(ant)\n",
    "    \n",
    "    return ant\n",
    "    "
   ]
  },
  {
   "cell_type": "code",
   "execution_count": 124,
   "metadata": {},
   "outputs": [
    {
     "name": "stdout",
     "output_type": "stream",
     "text": [
      "1 + 2 * 3 + 4 * 5 + 6 \t 71\n",
      "1 + (2 * 3) + (4 * (5 + 6)) \t 71\n"
     ]
    }
   ],
   "source": [
    "for exp in samples:\n",
    "    print(exp, '\\t', evaluate(exp))"
   ]
  },
  {
   "cell_type": "code",
   "execution_count": 143,
   "metadata": {},
   "outputs": [
    {
     "name": "stdout",
     "output_type": "stream",
     "text": [
      "[4, 14, 19] [10, 25, 26]\n"
     ]
    }
   ],
   "source": [
    "start = [i for i,x in enumerate(exp) if x == '(']\n",
    "end = [i for i,x in enumerate(exp) if x == ')']\n",
    "print(start, end)"
   ]
  },
  {
   "cell_type": "code",
   "execution_count": 144,
   "metadata": {},
   "outputs": [
    {
     "name": "stdout",
     "output_type": "stream",
     "text": [
      "0\n",
      "1\n",
      "2\n",
      "3\n",
      "4\n",
      "5\n",
      "6\n",
      "7\n",
      "8\n",
      "9\n",
      "10\n",
      "11\n",
      "12\n",
      "13\n",
      "14\n",
      "15\n",
      "16\n",
      "17\n",
      "18\n",
      "19\n",
      "20\n",
      "21\n",
      "22\n",
      "23\n",
      "24\n",
      "25\n",
      "26\n"
     ]
    }
   ],
   "source": [
    "for i,x in enumerate(exp):\n",
    "    \n",
    "    if i == '('\n",
    "        "
   ]
  }
 ],
 "metadata": {
  "kernelspec": {
   "display_name": "devel",
   "language": "python",
   "name": "devel"
  },
  "language_info": {
   "codemirror_mode": {
    "name": "ipython",
    "version": 3
   },
   "file_extension": ".py",
   "mimetype": "text/x-python",
   "name": "python",
   "nbconvert_exporter": "python",
   "pygments_lexer": "ipython3",
   "version": "3.6.10"
  }
 },
 "nbformat": 4,
 "nbformat_minor": 4
}
