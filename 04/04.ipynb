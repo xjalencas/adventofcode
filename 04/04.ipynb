{
 "cells": [
  {
   "cell_type": "markdown",
   "id": "e0dd3203-a931-4455-ac40-e21d26ac504a",
   "metadata": {},
   "source": [
    "<pre>\n",
    "--- <a href=https://adventofcode.com/2021/day/4>Day 4: Giant Squid </a>---\n",
    "\n",
    "To guarantee victory against the giant squid, figure out which board will win first.\n",
    "<b>What will your final score be if you choose that board?</b>\n",
    "\n",
    "</pre>"
   ]
  },
  {
   "cell_type": "code",
   "execution_count": 2,
   "id": "5d23528f-9f30-4847-828d-9a048dd48e52",
   "metadata": {},
   "outputs": [],
   "source": [
    "import numpy as np"
   ]
  },
  {
   "cell_type": "code",
   "execution_count": 228,
   "id": "a6ce22ce-30a6-45e0-a30d-684bc4303d6a",
   "metadata": {},
   "outputs": [],
   "source": [
    "def read(infile):\n",
    "\n",
    "    with open(infile) as f:\n",
    "        \n",
    "        numbers = np.fromstring(f.readline(), dtype=int, sep=',')\n",
    "        \n",
    "        M = []\n",
    "        for line in f:\n",
    "            \n",
    "            if not line.strip():\n",
    "\n",
    "                m = \"\"\n",
    "                for _ in range(5):\n",
    "                    m += (f.readline())\n",
    "            \n",
    "                M.append(np.fromstring(m, sep=' ', dtype=int).reshape(5, -1))\n",
    "    \n",
    "    return numbers, M\n",
    "    \n"
   ]
  },
  {
   "cell_type": "code",
   "execution_count": 262,
   "id": "1fb6501d-313f-4bb4-a17e-25589455fded",
   "metadata": {},
   "outputs": [
    {
     "data": {
      "text/plain": [
       "{2: 4512, 0: 2192, 1: 1924}"
      ]
     },
     "execution_count": 262,
     "metadata": {},
     "output_type": "execute_result"
    }
   ],
   "source": [
    "def draw(n, cards, scores):\n",
    "    \n",
    "    for i, card in enumerate(cards):\n",
    "        \n",
    "        if scores.get(i):\n",
    "            continue\n",
    "            \n",
    "        card[np.where(card==n)] = -1\n",
    "        \n",
    "        drawn = card==-1        \n",
    "        if drawn.all(axis=0).any() or drawn.all(axis=1).any():\n",
    "            \n",
    "            score = np.copy(card)\n",
    "            score[score==-1] = 0\n",
    "            scores[i] = score.sum() * n\n",
    "            \n",
    "    return cards, scores\n",
    "\n",
    "num, M = read(\"input_test\")\n",
    "scores = {}\n",
    "for n in num:\n",
    "    M, scores = draw(n, M, scores=scores)\n",
    "scores      "
   ]
  },
  {
   "cell_type": "code",
   "execution_count": 264,
   "id": "6fb54f4a-6a03-47e8-94d0-ecd4acfd5187",
   "metadata": {},
   "outputs": [
    {
     "data": {
      "text/plain": [
       "{14: 34506,\n",
       " 20: 12924,\n",
       " 3: 2412,\n",
       " 35: 14839,\n",
       " 38: 8588,\n",
       " 70: 12369,\n",
       " 65: 2565,\n",
       " 83: 3600,\n",
       " 4: 745,\n",
       " 12: 595,\n",
       " 36: 950,\n",
       " 62: 672,\n",
       " 75: 452,\n",
       " 82: 35722,\n",
       " 9: 20175,\n",
       " 66: 19275,\n",
       " 19: 60096,\n",
       " 25: 49344,\n",
       " 27: 58944,\n",
       " 90: 44064,\n",
       " 63: 1306,\n",
       " 92: 1366,\n",
       " 60: 9792,\n",
       " 30: 51944,\n",
       " 67: 59168,\n",
       " 85: 57362,\n",
       " 39: 18245,\n",
       " 61: 23411,\n",
       " 28: 26180,\n",
       " 46: 35836,\n",
       " 68: 39304,\n",
       " 98: 47940,\n",
       " 99: 35972,\n",
       " 31: 59755,\n",
       " 1: 2217,\n",
       " 48: 1506,\n",
       " 6: 41905,\n",
       " 11: 45560,\n",
       " 26: 57630,\n",
       " 95: 47855,\n",
       " 42: 15750,\n",
       " 45: 16135,\n",
       " 51: 20125,\n",
       " 52: 22575,\n",
       " 74: 15750,\n",
       " 8: 29590,\n",
       " 87: 26015,\n",
       " 23: 33341,\n",
       " 71: 24255,\n",
       " 73: 22352,\n",
       " 76: 32472,\n",
       " 80: 19448,\n",
       " 29: 19692,\n",
       " 33: 13716,\n",
       " 41: 23040,\n",
       " 44: 15948,\n",
       " 56: 25653,\n",
       " 79: 29886,\n",
       " 91: 23664,\n",
       " 93: 27897,\n",
       " 97: 29478,\n",
       " 5: 6825,\n",
       " 40: 8835,\n",
       " 43: 6420,\n",
       " 89: 4665,\n",
       " 32: 28236,\n",
       " 69: 31668,\n",
       " 78: 26572,\n",
       " 22: 20832,\n",
       " 21: 31293,\n",
       " 57: 26220,\n",
       " 64: 39729,\n",
       " 10: 45682,\n",
       " 55: 26572,\n",
       " 18: 8272,\n",
       " 81: 8912,\n",
       " 7: 39973,\n",
       " 17: 38624,\n",
       " 77: 24495,\n",
       " 88: 26483,\n",
       " 0: 40388,\n",
       " 72: 31464,\n",
       " 86: 41916,\n",
       " 37: 9367,\n",
       " 53: 5542,\n",
       " 96: 4641,\n",
       " 15: 15080,\n",
       " 54: 13340,\n",
       " 34: 20445,\n",
       " 50: 13254,\n",
       " 2: 26925,\n",
       " 49: 30975,\n",
       " 24: 18369,\n",
       " 47: 12168,\n",
       " 84: 16146,\n",
       " 16: 17430,\n",
       " 59: 28054,\n",
       " 94: 25382,\n",
       " 13: 21580,\n",
       " 58: 7686}"
      ]
     },
     "execution_count": 264,
     "metadata": {},
     "output_type": "execute_result"
    }
   ],
   "source": [
    "num, M = read(\"input\")\n",
    "scores = {}\n",
    "for n in num:\n",
    "    M, call = draw(n, M, scores=scores)\n",
    "scores "
   ]
  },
  {
   "cell_type": "markdown",
   "id": "2aca7ddc-85fd-4f29-830b-523554e20a88",
   "metadata": {},
   "source": [
    "<pre>\n",
    "--- Part Two ---\n",
    "Figure out which board will win last.<b> Once it wins, what would its final score be? </b>\n",
    "\n",
    "</pre>"
   ]
  }
 ],
 "metadata": {
  "kernelspec": {
   "display_name": "devel",
   "language": "python",
   "name": "devel"
  },
  "language_info": {
   "codemirror_mode": {
    "name": "ipython",
    "version": 3
   },
   "file_extension": ".py",
   "mimetype": "text/x-python",
   "name": "python",
   "nbconvert_exporter": "python",
   "pygments_lexer": "ipython3",
   "version": "3.6.10"
  }
 },
 "nbformat": 4,
 "nbformat_minor": 5
}
