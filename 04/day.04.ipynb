{
 "cells": [
  {
   "cell_type": "markdown",
   "id": "7719dbc1-1098-4119-bfc6-8414f5788b7a",
   "metadata": {},
   "source": [
    "# --- Day 4: Scratchcards ---\n",
    "\n",
    "## Part I\n",
    "How many points are they worth in total?"
   ]
  },
  {
   "cell_type": "code",
   "execution_count": 1,
   "id": "2f0b3a2e-d90a-4da0-870d-30f2a6d57230",
   "metadata": {},
   "outputs": [],
   "source": [
    "import re"
   ]
  },
  {
   "cell_type": "code",
   "execution_count": 28,
   "id": "0cb21373-7580-488a-9c76-65a125f010bc",
   "metadata": {},
   "outputs": [
    {
     "data": {
      "text/plain": [
       "22897"
      ]
     },
     "execution_count": 28,
     "metadata": {},
     "output_type": "execute_result"
    }
   ],
   "source": [
    "a = 0\n",
    "with open(\"input.txt\") as f:\n",
    "    for line in f:\n",
    "        id, winning, numbers = re.match(r\"Card *([0-9]*):(.*)\\|(.*)\", line).groups()\n",
    "        winning = set([int(x) for x in winning.split()])\n",
    "        numbers = set([int(x) for x in numbers.split()])\n",
    "\n",
    "        n = len(winning.intersection(numbers))\n",
    "\n",
    "        if n: \n",
    "            a += 2 ** (n -1)\n",
    "a"
   ]
  },
  {
   "cell_type": "markdown",
   "id": "531480b9-0a4e-4c2b-9fb4-c38fb52868e5",
   "metadata": {},
   "source": [
    "## Part II\n",
    "Including the original set of scratchcards, how many total scratchcards do you end up with?\n",
    "\n"
   ]
  },
  {
   "cell_type": "code",
   "execution_count": 73,
   "id": "40b83afe-b527-47b2-8c7c-97a5f6dfdc6b",
   "metadata": {},
   "outputs": [],
   "source": [
    "import numpy as np"
   ]
  },
  {
   "cell_type": "code",
   "execution_count": 74,
   "id": "c845b8ea-b0a8-441a-9407-9994229df1a2",
   "metadata": {},
   "outputs": [],
   "source": [
    "cards = []\n",
    "with open(\"input.txt\") as f:\n",
    "    for line in f:\n",
    "        id, winning, numbers = re.match(r\"Card *([0-9]*):(.*)\\|(.*)\", line).groups()\n",
    "        winning = set([int(x) for x in winning.split()])\n",
    "        numbers = set([int(x) for x in numbers.split()])\n",
    "        n = len(winning.intersection(numbers))\n",
    "        cards.append([1, n])"
   ]
  },
  {
   "cell_type": "code",
   "execution_count": 75,
   "id": "509465c1-ecbd-4971-b8f3-780528ea5983",
   "metadata": {},
   "outputs": [],
   "source": [
    "for i in range(len(cards)):\n",
    "    for j in range(cards[i][1]):\n",
    "        cards[i+j+1][0]  += cards[i][0]"
   ]
  },
  {
   "cell_type": "code",
   "execution_count": 76,
   "id": "4ae3c2ed-2652-4967-85a9-6181fdb39ba5",
   "metadata": {},
   "outputs": [
    {
     "data": {
      "text/plain": [
       "5095824"
      ]
     },
     "execution_count": 76,
     "metadata": {},
     "output_type": "execute_result"
    }
   ],
   "source": [
    "sum(list(zip(*cards))[0])"
   ]
  }
 ],
 "metadata": {
  "kernelspec": {
   "display_name": "eug",
   "language": "python",
   "name": "eug"
  },
  "language_info": {
   "codemirror_mode": {
    "name": "ipython",
    "version": 3
   },
   "file_extension": ".py",
   "mimetype": "text/x-python",
   "name": "python",
   "nbconvert_exporter": "python",
   "pygments_lexer": "ipython3",
   "version": "3.12.0"
  }
 },
 "nbformat": 4,
 "nbformat_minor": 5
}
