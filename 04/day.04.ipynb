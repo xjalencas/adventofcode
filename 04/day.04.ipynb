{
 "cells": [
  {
   "cell_type": "markdown",
   "id": "7719dbc1-1098-4119-bfc6-8414f5788b7a",
   "metadata": {},
   "source": [
    "# Day 4: Camp Cleanup\n",
    "\n",
    "## Part I\n",
    "In how many assignment pairs does one range fully contain the other?"
   ]
  },
  {
   "cell_type": "code",
   "execution_count": 30,
   "id": "3b7d1d71-a80d-4d77-9c59-321b9d5c79b8",
   "metadata": {},
   "outputs": [],
   "source": [
    "import re\n",
    "regex = '(\\d+)-(\\d+),(\\d+)-(\\d+)'\n"
   ]
  },
  {
   "cell_type": "code",
   "execution_count": 48,
   "id": "388325e9-6704-42f2-867c-7ff6d6114a2c",
   "metadata": {},
   "outputs": [
    {
     "data": {
      "text/plain": [
       "2"
      ]
     },
     "execution_count": 48,
     "metadata": {},
     "output_type": "execute_result"
    }
   ],
   "source": [
    "counter = 0\n",
    "with open(\"test.txt\") as f:\n",
    "    for line in f:\n",
    "        a, b, c, d = [int(x) for x in re.search(regex, line).groups()]\n",
    "            \n",
    "        if b >= d:\n",
    "            if a <= c:\n",
    "                #print(\"HIT\")\n",
    "                counter += 1\n",
    "                continue\n",
    "        \n",
    "        if d >= b:\n",
    "            if c <= a:\n",
    "                #print(\"HIT\")\n",
    "                counter += 1\n",
    "                continue\n",
    "                \n",
    "counter"
   ]
  },
  {
   "cell_type": "code",
   "execution_count": 49,
   "id": "7da86caa-7244-4620-9465-b189767ce261",
   "metadata": {},
   "outputs": [
    {
     "data": {
      "text/plain": [
       "556"
      ]
     },
     "execution_count": 49,
     "metadata": {},
     "output_type": "execute_result"
    }
   ],
   "source": [
    "counter = 0\n",
    "with open(\"input\") as f:\n",
    "    for line in f:\n",
    "        a, b, c, d = [int(x) for x in re.search(regex, line).groups()]\n",
    "            \n",
    "        if b >= d:\n",
    "            if a <= c:\n",
    "                #print(\"HIT\")\n",
    "                counter += 1\n",
    "                continue\n",
    "        \n",
    "        if d >= b:\n",
    "            if c <= a:\n",
    "                #print(\"HIT\")\n",
    "                counter += 1\n",
    "                continue\n",
    "                \n",
    "counter"
   ]
  },
  {
   "cell_type": "code",
   "execution_count": 72,
   "id": "c7f3de8f-09a9-4ca0-a3af-a99664278d18",
   "metadata": {},
   "outputs": [
    {
     "data": {
      "text/plain": [
       "556"
      ]
     },
     "execution_count": 72,
     "metadata": {},
     "output_type": "execute_result"
    }
   ],
   "source": [
    "counter = 0\n",
    "with open(\"input\") as f:\n",
    "    for line in f:\n",
    "        \n",
    "        a, b, c, d = [int(x) for x in re.search(regex, line).groups()]\n",
    "        \n",
    "        if b >= d and a <= c:\n",
    "            counter += 1\n",
    "        \n",
    "        elif d >= b and c <= a:\n",
    "            counter += 1\n",
    "        \n",
    "        \n",
    "counter"
   ]
  },
  {
   "cell_type": "markdown",
   "id": "52f65314-135b-4703-b8af-0ccaeb7eccc4",
   "metadata": {},
   "source": [
    "## Part II\n",
    "In how many assignment pairs do the ranges overlap?"
   ]
  },
  {
   "cell_type": "code",
   "execution_count": 55,
   "id": "af0153a9-ebb2-4e99-ab66-1f75de8ff0d6",
   "metadata": {},
   "outputs": [
    {
     "data": {
      "text/plain": [
       "876"
      ]
     },
     "execution_count": 55,
     "metadata": {},
     "output_type": "execute_result"
    }
   ],
   "source": [
    "counter = 0\n",
    "with open(\"input\") as f:\n",
    "    for line in f:\n",
    "        a, b, c, d = [int(x) for x in re.search(regex, line).groups()]\n",
    "       \n",
    "        if set(range(a, b+1)).intersection(set(range(c, d+1))):\n",
    "            counter += 1\n",
    "                            \n",
    "counter"
   ]
  },
  {
   "cell_type": "code",
   "execution_count": 66,
   "id": "9500b5b9-56e6-43d7-a313-61a2a2e56b6d",
   "metadata": {},
   "outputs": [
    {
     "data": {
      "text/plain": [
       "876"
      ]
     },
     "execution_count": 66,
     "metadata": {},
     "output_type": "execute_result"
    }
   ],
   "source": [
    "counter = 0\n",
    "with open(\"input\") as f:\n",
    "    for line in f:\n",
    "        a, b, c, d = [int(x) for x in re.search(regex, line).groups()]\n",
    "        \n",
    "        x = [(a,b), (c,d)]\n",
    "        x.sort(key=lambda x: x[0])\n",
    "        \n",
    "        if x[0][1] >= x[1][0]:\n",
    "            counter += 1\n",
    "                            \n",
    "counter"
   ]
  }
 ],
 "metadata": {
  "kernelspec": {
   "display_name": "devel",
   "language": "python",
   "name": "devel"
  },
  "language_info": {
   "codemirror_mode": {
    "name": "ipython",
    "version": 3
   },
   "file_extension": ".py",
   "mimetype": "text/x-python",
   "name": "python",
   "nbconvert_exporter": "python",
   "pygments_lexer": "ipython3",
   "version": "3.6.10"
  }
 },
 "nbformat": 4,
 "nbformat_minor": 5
}
