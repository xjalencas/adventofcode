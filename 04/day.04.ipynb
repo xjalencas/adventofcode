{
 "cells": [
  {
   "cell_type": "markdown",
   "metadata": {},
   "source": [
    "### Part I\n",
    "Count the number of valid passports - those that have all required fields. Treat cid as optional"
   ]
  },
  {
   "cell_type": "code",
   "execution_count": 2,
   "metadata": {},
   "outputs": [],
   "source": [
    "import re"
   ]
  },
  {
   "cell_type": "code",
   "execution_count": 12,
   "metadata": {},
   "outputs": [],
   "source": [
    "fields = [\n",
    "    \"byr\",\n",
    "    \"iyr\", \n",
    "    \"eyr\", \n",
    "    \"hgt\",\n",
    "    \"hcl\", \n",
    "    \"ecl\", \n",
    "    \"pid\",\n",
    "    #\"cid\",\n",
    "]"
   ]
  },
  {
   "cell_type": "code",
   "execution_count": 136,
   "metadata": {},
   "outputs": [],
   "source": [
    "sample = \"\"\"\n",
    "ecl:gry pid:860033327 eyr:2020 hcl:#fffffd\n",
    "byr:1937 iyr:2017 cid:147 hgt:183cm\n",
    "\n",
    "iyr:2013 ecl:amb cid:350 eyr:2023 pid:028048884\n",
    "hcl:#cfa07d byr:1929\n",
    "\n",
    "hcl:#ae17e1 iyr:2013\n",
    "eyr:2024\n",
    "ecl:brn pid:760753108 byr:1931\n",
    "hgt:179cm\n",
    "\n",
    "hcl:#cfa07d eyr:2025 pid:166559648\n",
    "iyr:2011 ecl:brn hgt:59in\n",
    "\"\"\""
   ]
  },
  {
   "cell_type": "code",
   "execution_count": 36,
   "metadata": {},
   "outputs": [
    {
     "name": "stdout",
     "output_type": "stream",
     "text": [
      "2\n",
      "CPU times: user 142 µs, sys: 24 µs, total: 166 µs\n",
      "Wall time: 129 µs\n"
     ]
    }
   ],
   "source": [
    "%%time\n",
    "count = 0\n",
    "for block in sample.split(\"\\n\\n\"):\n",
    "    passport = {match.group(1): match.group(2) for match in re.finditer(r\"\\n*([^:]+):(\\S+)\\s*\\n*\", block)}\n",
    "    if set(fields).issubset(set(passport.keys())):\n",
    "        count += 1\n",
    "print(count)"
   ]
  },
  {
   "cell_type": "code",
   "execution_count": 134,
   "metadata": {},
   "outputs": [
    {
     "name": "stdout",
     "output_type": "stream",
     "text": [
      "208\n"
     ]
    }
   ],
   "source": [
    "count = 0\n",
    "passports = []\n",
    "with open(\"input\") as f:\n",
    "    for block in f.read().split(\"\\n\\n\"):\n",
    "        passport = {match.group(1): match.group(2) for match in re.finditer(r\"\\n*([^:]+):(\\S+)\\s*\\n*\", block)}\n",
    "        if set(fields).issubset(set(passport.keys())):\n",
    "            passports.append(passport)\n",
    "            count += 1\n",
    "print(count)"
   ]
  },
  {
   "cell_type": "markdown",
   "metadata": {},
   "source": [
    "### Part II\n",
    "You can continue to ignore the cid field, but each other field has strict rules about what values are valid for automatic validation:\n",
    "\n",
    "    byr (Birth Year) - four digits; at least 1920 and at most 2002.\n",
    "    iyr (Issue Year) - four digits; at least 2010 and at most 2020.\n",
    "    eyr (Expiration Year) - four digits; at least 2020 and at most 2030.\n",
    "    hgt (Height) - a number followed by either cm or in:\n",
    "        If cm, the number must be at least 150 and at most 193.\n",
    "        If in, the number must be at least 59 and at most 76.\n",
    "    hcl (Hair Color) - a # followed by exactly six characters 0-9 or a-f.\n",
    "    ecl (Eye Color) - exactly one of: amb blu brn gry grn hzl oth.\n",
    "    pid (Passport ID) - a nine-digit number, including leading zeroes.\n",
    "    cid (Country ID) - ignored, missing or not.\n",
    "\n",
    "Your job is to count the passports where all required fields are both present and valid according to the above rules."
   ]
  },
  {
   "cell_type": "code",
   "execution_count": 135,
   "metadata": {},
   "outputs": [
    {
     "name": "stdout",
     "output_type": "stream",
     "text": [
      "167\n",
      "CPU times: user 1.85 ms, sys: 0 ns, total: 1.85 ms\n",
      "Wall time: 1.83 ms\n"
     ]
    }
   ],
   "source": [
    "%%time\n",
    "\n",
    "check = {\n",
    "    \"byr\": lambda x: 1920 <= int(x)  <= 2002,\n",
    "    \"iyr\": lambda x: 2010 <= int(x)  <= 2020,\n",
    "    \"eyr\": lambda x: 2020 <= int(x)  <= 2030,\n",
    "    \"hgt\": lambda x: 150 <= int(x[:-2]) <= 193 if x[-2:] ==\"cm\" else (59 <= int(x[:-2]) <= 76 if x[-2:] ==\"in\" else False),\n",
    "    \"hcl\": lambda x: re.match(r\"^#([0-9, a-f]){6}$\", x),\n",
    "    \"ecl\": lambda x: x in [\"amb\", \"blu\", \"brn\", \"gry\", \"grn\", \"hzl\", \"oth\"],\n",
    "    \"pid\": lambda x: re.match(r\"^\\d{9}$\", x),\n",
    "    \"cid\": lambda x: True\n",
    "}\n",
    "\n",
    "count = 0\n",
    "for passport in passports:\n",
    "  \n",
    "    ERROR = False\n",
    "    for field in passport:\n",
    "        \n",
    "        try:\n",
    "            assert check.get(field, lambda x:x)(passport[field])\n",
    "        except:\n",
    "            ERROR = True\n",
    "            break\n",
    "    \n",
    "    if not ERROR:\n",
    "        count += 1\n",
    "\n",
    "print(count)\n",
    "    "
   ]
  }
 ],
 "metadata": {
  "kernelspec": {
   "display_name": "devel",
   "language": "python",
   "name": "devel"
  },
  "language_info": {
   "codemirror_mode": {
    "name": "ipython",
    "version": 3
   },
   "file_extension": ".py",
   "mimetype": "text/x-python",
   "name": "python",
   "nbconvert_exporter": "python",
   "pygments_lexer": "ipython3",
   "version": "3.6.10"
  }
 },
 "nbformat": 4,
 "nbformat_minor": 4
}
