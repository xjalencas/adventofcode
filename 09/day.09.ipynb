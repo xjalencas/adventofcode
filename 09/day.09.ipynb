{
 "cells": [
  {
   "cell_type": "markdown",
   "id": "3f8f0dd9-9ffd-47a0-a57e-212a0fd8943b",
   "metadata": {},
   "source": [
    "# --- Day 9: Mirage Maintenance ---\n",
    "Analyze your OASIS report and extrapolate the next value for each history. What is the sum of these extrapolated values?\n",
    "\n",
    "\n"
   ]
  },
  {
   "cell_type": "code",
   "execution_count": 2,
   "id": "fa1ccb69-ad89-4f90-81e4-db6fbad7f6d4",
   "metadata": {},
   "outputs": [],
   "source": [
    "import numpy as np"
   ]
  },
  {
   "cell_type": "code",
   "execution_count": 72,
   "id": "d03a7d85-c43b-4242-baea-31fe19e56417",
   "metadata": {},
   "outputs": [],
   "source": [
    "infile = \"input.0.txt\""
   ]
  },
  {
   "cell_type": "code",
   "execution_count": 63,
   "id": "c366ebe1-b237-490a-9795-60c88c49d702",
   "metadata": {},
   "outputs": [
    {
     "data": {
      "text/plain": [
       "array([[ 0,  3,  6,  9, 12, 15],\n",
       "       [ 1,  3,  6, 10, 15, 21],\n",
       "       [10, 13, 16, 21, 30, 45]])"
      ]
     },
     "execution_count": 63,
     "metadata": {},
     "output_type": "execute_result"
    }
   ],
   "source": [
    "m = np.loadtxt(infile, dtype=int)\n",
    "m.shape\n",
    "n"
   ]
  },
  {
   "cell_type": "code",
   "execution_count": 85,
   "id": "d3505c81-d40f-4a92-b4aa-f7b87f563555",
   "metadata": {},
   "outputs": [],
   "source": [
    "def predict(a, s=0):\n",
    "\n",
    "    #print(\"f\",a, s)\n",
    "    if np.all(np.isclose(a, 0)):\n",
    "        return s\n",
    "        \n",
    "    dif = a[1:] - a[:-1]\n",
    "    s = predict(dif, s)\n",
    "\n",
    "    s += a[-1]\n",
    "    return s"
   ]
  },
  {
   "cell_type": "code",
   "execution_count": 67,
   "id": "39bd0fac-4ce6-482c-bbdd-7053b49c361f",
   "metadata": {},
   "outputs": [
    {
     "data": {
      "text/plain": [
       "114"
      ]
     },
     "execution_count": 67,
     "metadata": {},
     "output_type": "execute_result"
    }
   ],
   "source": [
    "np.apply_along_axis(predict, 1, m).sum()"
   ]
  },
  {
   "cell_type": "code",
   "execution_count": 68,
   "id": "829e9d4f-98b1-4323-93a2-491bae1aca8c",
   "metadata": {},
   "outputs": [],
   "source": [
    "infile = \"input.txt\"\n",
    "m = np.loadtxt(infile, dtype=int)"
   ]
  },
  {
   "cell_type": "code",
   "execution_count": 69,
   "id": "11b58ea1-46f2-4018-bd55-91ef1daa1c5f",
   "metadata": {},
   "outputs": [
    {
     "data": {
      "text/plain": [
       "1921197370"
      ]
     },
     "execution_count": 69,
     "metadata": {},
     "output_type": "execute_result"
    }
   ],
   "source": [
    "np.apply_along_axis(predict, 1, m).sum()"
   ]
  },
  {
   "cell_type": "markdown",
   "id": "3bec9e14-5695-47c5-bd58-f0513a24cf7b",
   "metadata": {},
   "source": [
    "## --- Part Two ---\n",
    "Analyze your OASIS report again, this time extrapolating the previous value for each history. What is the sum of these extrapolated values?"
   ]
  },
  {
   "cell_type": "code",
   "execution_count": 73,
   "id": "ca5fe18a-a562-4d2f-bbf3-42e445b05770",
   "metadata": {},
   "outputs": [],
   "source": [
    "infile = \"input.0.txt\"\n",
    "m = np.loadtxt(infile, dtype=int)"
   ]
  },
  {
   "cell_type": "code",
   "execution_count": 74,
   "id": "0a51b048-6c08-4599-8270-38faf99a337e",
   "metadata": {},
   "outputs": [
    {
     "data": {
      "text/plain": [
       "array([[ 0,  3,  6,  9, 12, 15],\n",
       "       [ 1,  3,  6, 10, 15, 21],\n",
       "       [10, 13, 16, 21, 30, 45]])"
      ]
     },
     "execution_count": 74,
     "metadata": {},
     "output_type": "execute_result"
    }
   ],
   "source": [
    "m"
   ]
  },
  {
   "cell_type": "code",
   "execution_count": 94,
   "id": "ca396a31-d003-4909-93a3-05a3d7b96d4c",
   "metadata": {},
   "outputs": [
    {
     "data": {
      "text/plain": [
       "5"
      ]
     },
     "execution_count": 94,
     "metadata": {},
     "output_type": "execute_result"
    }
   ],
   "source": [
    "def predict_left(a, s=0):\n",
    "\n",
    "    #print(\"f\",a, s)\n",
    "    if np.all(np.isclose(a, 0)):\n",
    "        return s\n",
    "        \n",
    "    dif = a[1:] - a[:-1]\n",
    "    s = predict_left(dif, s)\n",
    "\n",
    "    s = a[0] - s\n",
    "    return s\n",
    "\n",
    "predict_left(m[2])"
   ]
  },
  {
   "cell_type": "code",
   "execution_count": 96,
   "id": "f390f82c-15c5-4f78-b20d-0a7f57bf16aa",
   "metadata": {},
   "outputs": [
    {
     "data": {
      "text/plain": [
       "2"
      ]
     },
     "execution_count": 96,
     "metadata": {},
     "output_type": "execute_result"
    }
   ],
   "source": [
    "np.apply_along_axis(predict_left, 1, m).sum()"
   ]
  },
  {
   "cell_type": "code",
   "execution_count": 97,
   "id": "012513fe-5368-4c34-ada4-4b45e8871dac",
   "metadata": {},
   "outputs": [
    {
     "data": {
      "text/plain": [
       "1124"
      ]
     },
     "execution_count": 97,
     "metadata": {},
     "output_type": "execute_result"
    }
   ],
   "source": [
    "infile = \"input.txt\"\n",
    "m = np.loadtxt(infile, dtype=int)\n",
    "np.apply_along_axis(predict_left, 1, m).sum()"
   ]
  }
 ],
 "metadata": {
  "kernelspec": {
   "display_name": "eug",
   "language": "python",
   "name": "eug"
  },
  "language_info": {
   "codemirror_mode": {
    "name": "ipython",
    "version": 3
   },
   "file_extension": ".py",
   "mimetype": "text/x-python",
   "name": "python",
   "nbconvert_exporter": "python",
   "pygments_lexer": "ipython3",
   "version": "3.12.0"
  }
 },
 "nbformat": 4,
 "nbformat_minor": 5
}
