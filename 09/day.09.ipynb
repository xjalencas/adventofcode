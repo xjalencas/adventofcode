{
 "cells": [
  {
   "cell_type": "markdown",
   "metadata": {},
   "source": [
    "### Part I\n",
    "The first step of attacking the weakness in the XMAS data is to find the first number in the list (after the preamble) which is not the sum of two of the 25 numbers before it. What is the first number that does not have this property?"
   ]
  },
  {
   "cell_type": "code",
   "execution_count": 1,
   "metadata": {},
   "outputs": [],
   "source": [
    "import numpy as np"
   ]
  },
  {
   "cell_type": "code",
   "execution_count": 84,
   "metadata": {},
   "outputs": [
    {
     "name": "stdout",
     "output_type": "stream",
     "text": [
      "(1000,)\n",
      "14360655\n"
     ]
    }
   ],
   "source": [
    "with open(\"input\") as f:\n",
    "    numbers = np.array([int(x) for x in f.read().split(\"\\n\") if x])\n",
    "print(numbers.shape)\n",
    "numbers[:25]\n",
    "\n",
    "for i in range(25, len(numbers)):\n",
    "    candidates = numbers[i-25:i]\n",
    "    s = np.sum(np.meshgrid(candidates, candidates), axis=0)\n",
    "    \n",
    "    pairs = [ idx for idx in zip(*np.where(s==numbers[i])) if idx[0] != idx[1]]\n",
    "    if not pairs:\n",
    "        n = numbers[i]\n",
    "        break\n",
    "    \n",
    "print(n)"
   ]
  },
  {
   "cell_type": "markdown",
   "metadata": {},
   "source": [
    "### Part II\n",
    "To find the encryption weakness, add together the smallest and largest number in this contiguous range; in this example, these are 15 and 47, producing 62.\n",
    "What is the encryption weakness in your XMAS-encrypted list of numbers?"
   ]
  },
  {
   "cell_type": "code",
   "execution_count": 91,
   "metadata": {},
   "outputs": [
    {
     "data": {
      "text/plain": [
       "14360655"
      ]
     },
     "execution_count": 91,
     "metadata": {},
     "output_type": "execute_result"
    }
   ],
   "source": [
    "n"
   ]
  },
  {
   "cell_type": "code",
   "execution_count": 95,
   "metadata": {},
   "outputs": [
    {
     "name": "stdout",
     "output_type": "stream",
     "text": [
      "390 406\n",
      "1962331\n"
     ]
    }
   ],
   "source": [
    "for i in range(len(numbers)):\n",
    "\n",
    "    s = numbers[i]\n",
    "    \n",
    "    for j in range(i+1, len(numbers)):\n",
    "        \n",
    "        s += numbers[j]\n",
    "        \n",
    "        if s == n:\n",
    "            print(i, j)\n",
    "            print(max(numbers[i:j]) + min(numbers[i:j]))\n",
    "    \n",
    "        elif s > n:\n",
    "            break\n",
    "        "
   ]
  }
 ],
 "metadata": {
  "kernelspec": {
   "display_name": "devel",
   "language": "python",
   "name": "devel"
  },
  "language_info": {
   "codemirror_mode": {
    "name": "ipython",
    "version": 3
   },
   "file_extension": ".py",
   "mimetype": "text/x-python",
   "name": "python",
   "nbconvert_exporter": "python",
   "pygments_lexer": "ipython3",
   "version": "3.6.10"
  }
 },
 "nbformat": 4,
 "nbformat_minor": 4
}
