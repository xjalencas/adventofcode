{
 "cells": [
  {
   "cell_type": "markdown",
   "id": "c2cdc053-265e-4586-b55d-799354025429",
   "metadata": {},
   "source": [
    "# --- Day 2: Cube Conundrum ---\n",
    "\n",
    "## Part I\n",
    "Determine which games would have been possible if the bag had been loaded with only 12 red cubes, 13 green cubes, and 14 blue cubes. <br> What is the sum of the IDs of those games?"
   ]
  },
  {
   "cell_type": "code",
   "execution_count": 6,
   "id": "c87d0da0-1826-476b-bfe8-f8ea9129904e",
   "metadata": {},
   "outputs": [],
   "source": [
    "import re\n",
    "\n",
    "import numpy as np"
   ]
  },
  {
   "cell_type": "code",
   "execution_count": 7,
   "id": "4caa22a4-3ca3-4284-be73-8dcf64b6e69a",
   "metadata": {},
   "outputs": [],
   "source": [
    "colors = [\"red\", \"green\", \"blue\"]"
   ]
  },
  {
   "cell_type": "code",
   "execution_count": 86,
   "id": "05a6810a-14af-4680-938d-c8319b9c3e22",
   "metadata": {},
   "outputs": [],
   "source": [
    "def game_to_matrix(game):\n",
    "\n",
    "    game = [x.split(\",\") for x in game.split(\";\")]\n",
    "    M = np.zeros((len(game), len(colors)), int)\n",
    "    \n",
    "    for i, play in enumerate(game):\n",
    "        for x in play:\n",
    "            n, color = x.strip().split(\" \")\n",
    "            M[i, colors.index(color)] = int(n)\n",
    "            \n",
    "    return M"
   ]
  },
  {
   "cell_type": "code",
   "execution_count": 109,
   "id": "a9b75d31-1cfc-4437-8199-fffc0cf8ddfb",
   "metadata": {},
   "outputs": [
    {
     "data": {
      "text/plain": [
       "2913"
      ]
     },
     "execution_count": 109,
     "metadata": {},
     "output_type": "execute_result"
    }
   ],
   "source": [
    "a = 0\n",
    "num = np.array([12, 13, 14])\n",
    "with open(\"input.txt\") as f:\n",
    "    for line in f:\n",
    "        if not line.strip():\n",
    "            continue\n",
    "        id, game = re.search(r\"^Game (?P<id>[0-9]*):(.*)\", line).groups()\n",
    "        M = game_to_matrix(game)\n",
    "    \n",
    "        if not any(M.max(axis=0) > num):\n",
    "            a += int(id)\n",
    "            \n",
    "a"
   ]
  },
  {
   "cell_type": "markdown",
   "id": "d672cf9e-3a3e-4533-b86f-8a845f804af6",
   "metadata": {},
   "source": [
    "## Part II\n",
    "For each game, find the minimum set of cubes that must have been present. What is the sum of the power of these sets?"
   ]
  },
  {
   "cell_type": "code",
   "execution_count": 108,
   "id": "aa41d30c-f4fa-449f-b6fa-cb1f433b4920",
   "metadata": {},
   "outputs": [
    {
     "data": {
      "text/plain": [
       "55593"
      ]
     },
     "execution_count": 108,
     "metadata": {},
     "output_type": "execute_result"
    }
   ],
   "source": [
    "a = 0\n",
    "num = np.array([12, 13, 14])\n",
    "with open(\"input.txt\") as f:\n",
    "    for line in f:\n",
    "        if not line.strip():\n",
    "            continue\n",
    "        id, game = re.search(r\"^Game (?P<id>[0-9]*):(.*)\", line).groups()\n",
    "        M = game_to_matrix(game)\n",
    "\n",
    "        a += np.prod(M.max(axis=0))\n",
    "a"
   ]
  }
 ],
 "metadata": {
  "kernelspec": {
   "display_name": "saturn-dev",
   "language": "python",
   "name": "saturn-dev"
  },
  "language_info": {
   "codemirror_mode": {
    "name": "ipython",
    "version": 3
   },
   "file_extension": ".py",
   "mimetype": "text/x-python",
   "name": "python",
   "nbconvert_exporter": "python",
   "pygments_lexer": "ipython3",
   "version": "3.6.5"
  }
 },
 "nbformat": 4,
 "nbformat_minor": 5
}
