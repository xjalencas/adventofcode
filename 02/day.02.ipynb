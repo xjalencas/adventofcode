{
 "cells": [
  {
   "cell_type": "code",
   "execution_count": 65,
   "metadata": {
    "collapsed": false
   },
   "outputs": [
    {
     "name": "stdout",
     "output_type": "stream",
     "text": [
      "3562624\n"
     ]
    }
   ],
   "source": [
    "with open(\"input.txt\") as f:\n",
    "    intcode = [int(x) for x in f.read().strip().split(',')] \n",
    "intcode[1] = 12\n",
    "intcode[2] = 2\n",
    "\n",
    "print(compute(intcode, parse=False)[0])"
   ]
  },
  {
   "cell_type": "code",
   "execution_count": 62,
   "metadata": {
    "collapsed": false
   },
   "outputs": [],
   "source": [
    "def compute(intcode, parse=True):\n",
    "    \n",
    "    if parse:\n",
    "        intcode = [int(x) for x in intcode.strip().split(',')]\n",
    "        \n",
    "    for i in range(0, len(intcode), 4):\n",
    "\n",
    "        op = intcode[i:i+4]\n",
    "        opcode = op[0]\n",
    "\n",
    "        if opcode == 1:\n",
    "            intcode[op[3]] = intcode[op[1]] + intcode[op[2]]\n",
    "        elif opcode == 2:\n",
    "            intcode[op[3]] = intcode[op[1]] * intcode[op[2]]\n",
    "        elif opcode == 99:\n",
    "            return intcode\n",
    "        else:\n",
    "            raise TypeError"
   ]
  },
  {
   "cell_type": "code",
   "execution_count": 61,
   "metadata": {
    "collapsed": false
   },
   "outputs": [
    {
     "name": "stdout",
     "output_type": "stream",
     "text": [
      "[2, 0, 0, 0, 99]\n",
      "[2, 3, 0, 6, 99]\n",
      "[2, 4, 4, 5, 99, 9801]\n",
      "[30, 1, 1, 4, 2, 5, 6, 0, 99]\n"
     ]
    }
   ],
   "source": [
    "print(compute(\"1,0,0,0,99\"))\n",
    "print(compute(\"2,3,0,3,99\"))\n",
    "print(compute(\"2,4,4,5,99,0\"))\n",
    "print(compute(\"1,1,1,4,99,5,6,0,99\"))"
   ]
  },
  {
   "cell_type": "markdown",
   "metadata": {},
   "source": [
    "```--- Part Two ---``` "
   ]
  },
  {
   "cell_type": "code",
   "execution_count": 80,
   "metadata": {
    "collapsed": false,
    "scrolled": true
   },
   "outputs": [
    {
     "name": "stdout",
     "output_type": "stream",
     "text": [
      "82 98\n",
      "8298\n",
      "CPU times: user 137 ms, sys: 2.9 ms, total: 140 ms\n",
      "Wall time: 141 ms\n"
     ]
    }
   ],
   "source": [
    "%%time\n",
    "output = 19690720\n",
    "found = False\n",
    "with open(\"input.txt\") as f:\n",
    "    intcode0 = [int(x) for x in f.read().strip().split(',')] \n",
    "for noun in range (100):\n",
    "    for verb in range(100):\n",
    "        intcode = intcode0[:]\n",
    "        intcode[1] = noun\n",
    "        intcode[2] = verb\n",
    "        if compute(intcode, parse=False)[0] == output:\n",
    "            found = True\n",
    "            break\n",
    "    if found:\n",
    "        break\n",
    "print (noun, verb)\n",
    "print(100 * noun + verb)"
   ]
  },
  {
   "cell_type": "code",
   "execution_count": 78,
   "metadata": {
    "collapsed": false
   },
   "outputs": [
    {
     "name": "stdout",
     "output_type": "stream",
     "text": [
      "19690720\n"
     ]
    }
   ],
   "source": [
    "with open(\"input.txt\") as f:\n",
    "    intcode = [int(x) for x in f.read().strip().split(',')] \n",
    "intcode[1] = 82\n",
    "intcode[2] = 98\n",
    "\n",
    "print(compute(intcode, parse=False)[0])"
   ]
  }
 ],
 "metadata": {
  "kernelspec": {
   "display_name": "devel",
   "language": "python",
   "name": "devel"
  },
  "language_info": {
   "codemirror_mode": {
    "name": "ipython",
    "version": 3
   },
   "file_extension": ".py",
   "mimetype": "text/x-python",
   "name": "python",
   "nbconvert_exporter": "python",
   "pygments_lexer": "ipython3",
   "version": "3.7.5"
  }
 },
 "nbformat": 4,
 "nbformat_minor": 2
}
