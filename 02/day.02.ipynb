{
 "cells": [
  {
   "cell_type": "markdown",
   "metadata": {},
   "source": [
    "### Part I\n",
    "Each line gives the password policy and then the password. The password policy indicates the lowest and highest number of times a given letter must appear for the password to be valid."
   ]
  },
  {
   "cell_type": "code",
   "execution_count": 5,
   "metadata": {},
   "outputs": [],
   "source": [
    "import pandas as pd"
   ]
  },
  {
   "cell_type": "code",
   "execution_count": 36,
   "metadata": {},
   "outputs": [
    {
     "data": {
      "text/html": [
       "<div>\n",
       "<style scoped>\n",
       "    .dataframe tbody tr th:only-of-type {\n",
       "        vertical-align: middle;\n",
       "    }\n",
       "\n",
       "    .dataframe tbody tr th {\n",
       "        vertical-align: top;\n",
       "    }\n",
       "\n",
       "    .dataframe thead th {\n",
       "        text-align: right;\n",
       "    }\n",
       "</style>\n",
       "<table border=\"1\" class=\"dataframe\">\n",
       "  <thead>\n",
       "    <tr style=\"text-align: right;\">\n",
       "      <th></th>\n",
       "      <th>policy</th>\n",
       "      <th>password</th>\n",
       "      <th>policy_range</th>\n",
       "    </tr>\n",
       "  </thead>\n",
       "  <tbody>\n",
       "    <tr>\n",
       "      <th>0</th>\n",
       "      <td>3-5 f</td>\n",
       "      <td>fgfff</td>\n",
       "      <td>[3, 5]</td>\n",
       "    </tr>\n",
       "    <tr>\n",
       "      <th>1</th>\n",
       "      <td>6-20 n</td>\n",
       "      <td>qlzsnnnndwnlhwnxhvjn</td>\n",
       "      <td>[6, 20]</td>\n",
       "    </tr>\n",
       "    <tr>\n",
       "      <th>2</th>\n",
       "      <td>6-7 j</td>\n",
       "      <td>jjjjjwrj</td>\n",
       "      <td>[6, 7]</td>\n",
       "    </tr>\n",
       "    <tr>\n",
       "      <th>3</th>\n",
       "      <td>8-10 g</td>\n",
       "      <td>gggggggggg</td>\n",
       "      <td>[8, 10]</td>\n",
       "    </tr>\n",
       "    <tr>\n",
       "      <th>4</th>\n",
       "      <td>5-6 t</td>\n",
       "      <td>ttttttft</td>\n",
       "      <td>[5, 6]</td>\n",
       "    </tr>\n",
       "    <tr>\n",
       "      <th>...</th>\n",
       "      <td>...</td>\n",
       "      <td>...</td>\n",
       "      <td>...</td>\n",
       "    </tr>\n",
       "    <tr>\n",
       "      <th>995</th>\n",
       "      <td>6-12 g</td>\n",
       "      <td>dmgggpgggwczggghggm</td>\n",
       "      <td>[6, 12]</td>\n",
       "    </tr>\n",
       "    <tr>\n",
       "      <th>996</th>\n",
       "      <td>3-6 h</td>\n",
       "      <td>hdhjhhhhchh</td>\n",
       "      <td>[3, 6]</td>\n",
       "    </tr>\n",
       "    <tr>\n",
       "      <th>997</th>\n",
       "      <td>11-12 r</td>\n",
       "      <td>zrrkcrrrrrlh</td>\n",
       "      <td>[11, 12]</td>\n",
       "    </tr>\n",
       "    <tr>\n",
       "      <th>998</th>\n",
       "      <td>7-9 v</td>\n",
       "      <td>vhqvlvwvzqwqvrxvjnf</td>\n",
       "      <td>[7, 9]</td>\n",
       "    </tr>\n",
       "    <tr>\n",
       "      <th>999</th>\n",
       "      <td>1-5 r</td>\n",
       "      <td>rvmjr</td>\n",
       "      <td>[1, 5]</td>\n",
       "    </tr>\n",
       "  </tbody>\n",
       "</table>\n",
       "<p>1000 rows × 3 columns</p>\n",
       "</div>"
      ],
      "text/plain": [
       "      policy               password policy_range\n",
       "0      3-5 f                  fgfff       [3, 5]\n",
       "1     6-20 n   qlzsnnnndwnlhwnxhvjn      [6, 20]\n",
       "2      6-7 j               jjjjjwrj       [6, 7]\n",
       "3     8-10 g             gggggggggg      [8, 10]\n",
       "4      5-6 t               ttttttft       [5, 6]\n",
       "..       ...                    ...          ...\n",
       "995   6-12 g    dmgggpgggwczggghggm      [6, 12]\n",
       "996    3-6 h            hdhjhhhhchh       [3, 6]\n",
       "997  11-12 r           zrrkcrrrrrlh     [11, 12]\n",
       "998    7-9 v    vhqvlvwvzqwqvrxvjnf       [7, 9]\n",
       "999    1-5 r                  rvmjr       [1, 5]\n",
       "\n",
       "[1000 rows x 3 columns]"
      ]
     },
     "execution_count": 36,
     "metadata": {},
     "output_type": "execute_result"
    }
   ],
   "source": [
    "df = pd.read_csv(\"input\", sep=\":\", names=[\"policy\", \"password\"])\n",
    "df[\"policy_range\"] = df[\"policy\"].apply(lambda x: [int(x) for x in x.split(' ')[0].split('-')])\n",
    "df"
   ]
  },
  {
   "cell_type": "code",
   "execution_count": 37,
   "metadata": {},
   "outputs": [
    {
     "data": {
      "text/plain": [
       "564"
      ]
     },
     "execution_count": 37,
     "metadata": {},
     "output_type": "execute_result"
    }
   ],
   "source": [
    "df[\"count\"] = df.apply(lambda x: x[\"password\"].count(x[\"policy\"].split(\" \")[1]), axis=1)\n",
    "sum(df.apply(lambda x:  x[\"policy_range\"][0] <= x[\"count\"] <= x[\"policy_range\"][1], axis=1))"
   ]
  },
  {
   "cell_type": "markdown",
   "metadata": {},
   "source": [
    "### Part II\n",
    "Exactly one of these positions must contain the given letter."
   ]
  },
  {
   "cell_type": "code",
   "execution_count": 47,
   "metadata": {},
   "outputs": [
    {
     "data": {
      "text/plain": [
       "325"
      ]
     },
     "execution_count": 47,
     "metadata": {},
     "output_type": "execute_result"
    }
   ],
   "source": [
    "df[\"A\"] = df.apply(lambda x: x[\"password\"][x[\"policy_range\"][0]] == x[\"policy\"].split()[1], axis=1)\n",
    "df[\"B\"] = df.apply(lambda x: x[\"password\"][x[\"policy_range\"][1]] == x[\"policy\"].split()[1], axis=1)\n",
    "sum(df[\"A\"] ^ df[\"B\"])"
   ]
  },
  {
   "cell_type": "code",
   "execution_count": 50,
   "metadata": {},
   "outputs": [
    {
     "data": {
      "text/plain": [
       "0        [True, True]\n",
       "1        [True, True]\n",
       "2      [False, False]\n",
       "3        [True, True]\n",
       "4        [True, True]\n",
       "            ...      \n",
       "995    [False, False]\n",
       "996      [True, True]\n",
       "997    [False, False]\n",
       "998    [False, False]\n",
       "999      [True, True]\n",
       "Length: 1000, dtype: object"
      ]
     },
     "execution_count": 50,
     "metadata": {},
     "output_type": "execute_result"
    }
   ],
   "source": [
    "df.apply(lambda x: [x[\"password\"][pos] == x[\"policy\"].split()[1] for pos in x[\"policy_range\"]], axis=1)"
   ]
  }
 ],
 "metadata": {
  "kernelspec": {
   "display_name": "devel",
   "language": "python",
   "name": "devel"
  },
  "language_info": {
   "codemirror_mode": {
    "name": "ipython",
    "version": 3
   },
   "file_extension": ".py",
   "mimetype": "text/x-python",
   "name": "python",
   "nbconvert_exporter": "python",
   "pygments_lexer": "ipython3",
   "version": "3.6.10"
  }
 },
 "nbformat": 4,
 "nbformat_minor": 4
}
