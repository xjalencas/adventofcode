{
 "cells": [
  {
   "cell_type": "markdown",
   "id": "c2cdc053-265e-4586-b55d-799354025429",
   "metadata": {},
   "source": [
    "# Day 2: Rock Paper Scissors\n",
    "\n",
    "## Part I\n",
    "What would your total score be if everything goes exactly according to your strategy guide?"
   ]
  },
  {
   "cell_type": "code",
   "execution_count": 2,
   "id": "c87d0da0-1826-476b-bfe8-f8ea9129904e",
   "metadata": {},
   "outputs": [],
   "source": [
    "import numpy as np"
   ]
  },
  {
   "cell_type": "code",
   "execution_count": 45,
   "id": "a9b75d31-1cfc-4437-8199-fffc0cf8ddfb",
   "metadata": {},
   "outputs": [],
   "source": [
    "win = {\n",
    "    \"A\": \"C\",\n",
    "    \"B\": \"A\",\n",
    "    \"C\": \"B\",\n",
    "}\n",
    "\n",
    "shape_to_win = {x:y for y,x in win.items()}"
   ]
  },
  {
   "cell_type": "code",
   "execution_count": 27,
   "id": "82e6d407-59e5-49d5-a163-1d2824e1c469",
   "metadata": {},
   "outputs": [],
   "source": [
    "score_shape = {\n",
    "    \"A\": 1,\n",
    "    \"B\": 2,\n",
    "    \"C\": 3,\n",
    "}"
   ]
  },
  {
   "cell_type": "code",
   "execution_count": 28,
   "id": "b703b887-3938-4be2-9967-86632dc055af",
   "metadata": {},
   "outputs": [],
   "source": [
    "response = {\n",
    "    \"X\": \"A\",\n",
    "    \"Y\": \"B\",\n",
    "    \"Z\": \"C\",\n",
    "}"
   ]
  },
  {
   "cell_type": "code",
   "execution_count": 29,
   "id": "ef412dc8-6254-460e-aebd-f700838d2edb",
   "metadata": {},
   "outputs": [],
   "source": [
    "def score_round(me, other):\n",
    "    \n",
    "    if me == other:\n",
    "        return 3\n",
    "    \n",
    "    if win[me] == other:\n",
    "        return 6\n",
    "    \n",
    "    return 0\n",
    "    "
   ]
  },
  {
   "cell_type": "code",
   "execution_count": 38,
   "id": "f9eff6aa-f095-4b46-a1ee-2a927bc1a556",
   "metadata": {},
   "outputs": [
    {
     "data": {
      "text/plain": [
       "15"
      ]
     },
     "execution_count": 38,
     "metadata": {},
     "output_type": "execute_result"
    }
   ],
   "source": [
    "x = np.loadtxt(\"test.txt\", dtype=str)\n",
    "score = np.apply_along_axis(lambda x:  score_round(response[x[1]] , x[0]) + score_shape[response[x[1]]] , 1, x).sum()\n",
    "score"
   ]
  },
  {
   "cell_type": "code",
   "execution_count": 39,
   "id": "2d3b5ccd-5f81-4138-b80b-c18c6cc1fc42",
   "metadata": {},
   "outputs": [
    {
     "data": {
      "text/plain": [
       "15337"
      ]
     },
     "execution_count": 39,
     "metadata": {},
     "output_type": "execute_result"
    }
   ],
   "source": [
    "x = np.loadtxt(\"input.txt\", dtype=str)\n",
    "score = np.apply_along_axis(lambda x:  score_round(response[x[1]] , x[0]) + score_shape[response[x[1]]] , 1, x).sum()\n",
    "score"
   ]
  },
  {
   "cell_type": "markdown",
   "id": "fa2716e9-47e2-4a40-8376-171e25370743",
   "metadata": {},
   "source": [
    "## Part II\n",
    "Following the Elf's instructions for the second column, what would your total score be if everything goes exactly according to your strategy guide?"
   ]
  },
  {
   "cell_type": "code",
   "execution_count": 99,
   "id": "ee293d0e-6283-41f6-b934-dd44394f6587",
   "metadata": {},
   "outputs": [],
   "source": [
    "def get_response(other, end):\n",
    "    \n",
    "    # Y Draw\n",
    "    if end == \"Y\":\n",
    "        return other\n",
    "    \n",
    "    # Z Win\n",
    "    elif end == \"Z\":\n",
    "        return shape_to_win[other]\n",
    "    \n",
    "    # X Loose\n",
    "    else:\n",
    "        shape, = [x for x in win.keys() if x not in [other,shape_to_win[other]]]\n",
    "        return shape    "
   ]
  },
  {
   "cell_type": "code",
   "execution_count": 98,
   "id": "58105344-1860-4b5b-aab3-d505a9cb2960",
   "metadata": {},
   "outputs": [
    {
     "data": {
      "text/plain": [
       "12"
      ]
     },
     "execution_count": 98,
     "metadata": {},
     "output_type": "execute_result"
    }
   ],
   "source": [
    "x = np.loadtxt(\"test.txt\", dtype=str)\n",
    "score = np.apply_along_axis(lambda x:  score_round(get_response(*x), x[0]) + score_shape[get_response(*x)] , 1, x).sum()\n",
    "score\n"
   ]
  },
  {
   "cell_type": "code",
   "execution_count": 106,
   "id": "b52de594-d974-4408-9266-2c899dbc5166",
   "metadata": {},
   "outputs": [
    {
     "data": {
      "text/plain": [
       "11696"
      ]
     },
     "execution_count": 106,
     "metadata": {},
     "output_type": "execute_result"
    }
   ],
   "source": [
    "x = np.loadtxt(\"input.txt\", dtype=str)\n",
    "score = np.apply_along_axis(lambda x:  score_round(get_response(*x), x[0]) + score_shape[get_response(*x)] , 1, x).sum()\n",
    "score\n"
   ]
  }
 ],
 "metadata": {
  "kernelspec": {
   "display_name": "saturn-dev",
   "language": "python",
   "name": "saturn-dev"
  },
  "language_info": {
   "codemirror_mode": {
    "name": "ipython",
    "version": 3
   },
   "file_extension": ".py",
   "mimetype": "text/x-python",
   "name": "python",
   "nbconvert_exporter": "python",
   "pygments_lexer": "ipython3",
   "version": "3.6.5"
  }
 },
 "nbformat": 4,
 "nbformat_minor": 5
}
