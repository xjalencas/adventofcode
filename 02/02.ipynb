{
 "cells": [
  {
   "cell_type": "markdown",
   "metadata": {},
   "source": [
    "```\n",
    "Calculate the horizontal position and depth you would have after following the planned course. What do you get if you multiply your final horizontal position by your final depth?\n",
    "\n",
    "```"
   ]
  },
  {
   "cell_type": "code",
   "execution_count": 18,
   "metadata": {},
   "outputs": [],
   "source": [
    "import numpy as np"
   ]
  },
  {
   "cell_type": "code",
   "execution_count": 7,
   "metadata": {},
   "outputs": [
    {
     "data": {
      "text/plain": [
       "[['forward', '5'],\n",
       " ['down', '5'],\n",
       " ['forward', '8'],\n",
       " ['up', '3'],\n",
       " ['down', '8'],\n",
       " ['forward', '2']]"
      ]
     },
     "execution_count": 7,
     "metadata": {},
     "output_type": "execute_result"
    }
   ],
   "source": [
    "input_ = \"\"\"\n",
    "forward 5\n",
    "down 5\n",
    "forward 8\n",
    "up 3\n",
    "down 8\n",
    "forward 2\"\"\"\n",
    "\n",
    "input_ =  [ x.split(' ') for x in input_.split(\"\\n\") if x]\n",
    "input_"
   ]
  },
  {
   "cell_type": "code",
   "execution_count": 11,
   "metadata": {},
   "outputs": [
    {
     "data": {
      "text/plain": [
       "(15, 10)"
      ]
     },
     "execution_count": 11,
     "metadata": {},
     "output_type": "execute_result"
    }
   ],
   "source": [
    "def position(input_):\n",
    "    x = 0\n",
    "    depth = 0\n",
    "\n",
    "    for order in input_:\n",
    "    \n",
    "        if order[0] == \"forward\":\n",
    "            x += int(order[1])\n",
    "    \n",
    "        elif order[0] == \"down\":\n",
    "            depth += int(order[1])\n",
    "        \n",
    "        elif order[0] == \"up\":\n",
    "            depth -= int(order[1])\n",
    "\n",
    "    return x, depth\n",
    "\n",
    "position(input_)"
   ]
  },
  {
   "cell_type": "code",
   "execution_count": 16,
   "metadata": {},
   "outputs": [
    {
     "name": "stdout",
     "output_type": "stream",
     "text": [
      "(2010, 1030)\n"
     ]
    }
   ],
   "source": [
    "with open(\"input\") as f:\n",
    "    input_ =  [ x.split(' ') for x in f.read().split(\"\\n\") if x]\n",
    "print(position(input_))"
   ]
  },
  {
   "cell_type": "code",
   "execution_count": 22,
   "metadata": {},
   "outputs": [
    {
     "data": {
      "text/plain": [
       "2070300"
      ]
     },
     "execution_count": 22,
     "metadata": {},
     "output_type": "execute_result"
    }
   ],
   "source": [
    "np.prod(np.array(position(input_)))"
   ]
  },
  {
   "cell_type": "markdown",
   "metadata": {},
   "source": [
    "```\n",
    "--- Part Two ---\n",
    "Using this new interpretation of the commands, calculate the horizontal position and depth you would have after following the planned course. What do you get if you multiply your final horizontal position by your final depth?\n",
    "```"
   ]
  },
  {
   "cell_type": "code",
   "execution_count": 26,
   "metadata": {},
   "outputs": [
    {
     "data": {
      "text/plain": [
       "[['forward', '5'],\n",
       " ['down', '5'],\n",
       " ['forward', '8'],\n",
       " ['up', '3'],\n",
       " ['down', '8'],\n",
       " ['forward', '2']]"
      ]
     },
     "execution_count": 26,
     "metadata": {},
     "output_type": "execute_result"
    }
   ],
   "source": [
    "input_ = \"\"\"\n",
    "forward 5\n",
    "down 5\n",
    "forward 8\n",
    "up 3\n",
    "down 8\n",
    "forward 2\"\"\"\n",
    "\n",
    "input_ =  [ x.split(' ') for x in input_.split(\"\\n\") if x]\n",
    "input_"
   ]
  },
  {
   "cell_type": "code",
   "execution_count": 27,
   "metadata": {},
   "outputs": [
    {
     "data": {
      "text/plain": [
       "(15, 60)"
      ]
     },
     "execution_count": 27,
     "metadata": {},
     "output_type": "execute_result"
    }
   ],
   "source": [
    "def position(input_):\n",
    "    \n",
    "    x = 0\n",
    "    depth = 0\n",
    "    aim = 0\n",
    "\n",
    "    for order in input_:\n",
    "    \n",
    "        if order[0] == \"forward\":\n",
    "            x += int(order[1])\n",
    "            depth += aim * int(order[1])\n",
    "    \n",
    "        elif order[0] == \"down\":\n",
    "            aim += int(order[1])\n",
    "        \n",
    "        elif order[0] == \"up\":\n",
    "            aim -= int(order[1])\n",
    "\n",
    "    return x, depth\n",
    "\n",
    "position(input_)"
   ]
  },
  {
   "cell_type": "code",
   "execution_count": 28,
   "metadata": {},
   "outputs": [
    {
     "name": "stdout",
     "output_type": "stream",
     "text": [
      "(2010, 1034321)\n"
     ]
    }
   ],
   "source": [
    "with open(\"input\") as f:\n",
    "    input_ =  [ x.split(' ') for x in f.read().split(\"\\n\") if x]\n",
    "print(position(input_))"
   ]
  },
  {
   "cell_type": "code",
   "execution_count": 29,
   "metadata": {},
   "outputs": [
    {
     "data": {
      "text/plain": [
       "2078985210"
      ]
     },
     "execution_count": 29,
     "metadata": {},
     "output_type": "execute_result"
    }
   ],
   "source": [
    "np.prod(np.array(position(input_)))"
   ]
  }
 ],
 "metadata": {
  "kernelspec": {
   "display_name": "devel",
   "language": "python",
   "name": "devel"
  },
  "language_info": {
   "codemirror_mode": {
    "name": "ipython",
    "version": 3
   },
   "file_extension": ".py",
   "mimetype": "text/x-python",
   "name": "python",
   "nbconvert_exporter": "python",
   "pygments_lexer": "ipython3",
   "version": "3.6.10"
  }
 },
 "nbformat": 4,
 "nbformat_minor": 4
}
