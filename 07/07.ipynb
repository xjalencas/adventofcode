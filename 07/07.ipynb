{
 "cells": [
  {
   "cell_type": "markdown",
   "id": "ff7435c5-1ca2-411f-b96c-4942cda5ae3a",
   "metadata": {},
   "source": [
    "<pre>\n",
    "--- <a href=https://adventofcode.com/2021/day/7> Day 7: The Treachery of Whales  </a> ---\n",
    "\n",
    "Determine the horizontal position that the crabs can align to using the least fuel possible. \n",
    "<b>How much fuel must they spend to align to that position? </b>\n",
    "</pre>"
   ]
  },
  {
   "cell_type": "code",
   "execution_count": 3,
   "id": "0c4d3941-4194-44ad-94b8-a6c51c98ea6a",
   "metadata": {},
   "outputs": [],
   "source": [
    "import numpy as np"
   ]
  },
  {
   "cell_type": "code",
   "execution_count": 99,
   "id": "7c19eb7f-faa4-468b-b176-72854f23cfe4",
   "metadata": {},
   "outputs": [
    {
     "name": "stdout",
     "output_type": "stream",
     "text": [
      "CPU times: user 1.16 ms, sys: 201 µs, total: 1.36 ms\n",
      "Wall time: 902 µs\n"
     ]
    },
    {
     "data": {
      "text/plain": [
       "37"
      ]
     },
     "execution_count": 99,
     "metadata": {},
     "output_type": "execute_result"
    }
   ],
   "source": [
    "%%time\n",
    "positions = np.loadtxt(\"input_test\", delimiter=\",\", dtype=int)\n",
    "position = np.arange(positions.min(), positions.max(), dtype=int)\n",
    "np.abs(np.subtract(position.reshape(-1, 1),  np.tile(positions, position.shape).reshape(position.shape[0], -1))).sum(axis=1).min()"
   ]
  },
  {
   "cell_type": "code",
   "execution_count": 98,
   "id": "e2937e7a-0fac-4d3b-908a-9ebf3fce8976",
   "metadata": {},
   "outputs": [
    {
     "name": "stdout",
     "output_type": "stream",
     "text": [
      "CPU times: user 5.04 ms, sys: 7.5 ms, total: 12.5 ms\n",
      "Wall time: 11.8 ms\n"
     ]
    },
    {
     "data": {
      "text/plain": [
       "353800"
      ]
     },
     "execution_count": 98,
     "metadata": {},
     "output_type": "execute_result"
    }
   ],
   "source": [
    "%%time\n",
    "positions = np.loadtxt(\"input\", delimiter=\",\", dtype=int)\n",
    "position = np.arange(positions.min(), positions.max(), dtype=int)\n",
    "np.abs(np.subtract(position.reshape(-1, 1),  np.tile(positions, position.shape).reshape(position.shape[0], -1))).sum(axis=1).min()"
   ]
  },
  {
   "cell_type": "markdown",
   "id": "323c14ab-1111-4d67-83bc-b3165c790b48",
   "metadata": {},
   "source": [
    "<pre>\n",
    "--- Part Two --- \n",
    "\n",
    "Determine the horizontal position that the crabs can align to using the least fuel possible so they can make you an escape route! \n",
    "<b>How much fuel must they spend to align to that position?</b>\n",
    "\n",
    "</pre>"
   ]
  },
  {
   "cell_type": "code",
   "execution_count": 128,
   "id": "5607cc4e-a928-4190-8092-35b03ae88eae",
   "metadata": {},
   "outputs": [
    {
     "name": "stdout",
     "output_type": "stream",
     "text": [
      "[16  1  2  0  4  2  7  1  2 14]\n",
      "[[16 15 14 13 12 11 10  9  8  7  6  5  4  3  2  1]\n",
      " [ 1  0  1  2  3  4  5  6  7  8  9 10 11 12 13 14]\n",
      " [ 2  1  0  1  2  3  4  5  6  7  8  9 10 11 12 13]\n",
      " [ 0  1  2  3  4  5  6  7  8  9 10 11 12 13 14 15]\n",
      " [ 4  3  2  1  0  1  2  3  4  5  6  7  8  9 10 11]\n",
      " [ 2  1  0  1  2  3  4  5  6  7  8  9 10 11 12 13]\n",
      " [ 7  6  5  4  3  2  1  0  1  2  3  4  5  6  7  8]\n",
      " [ 1  0  1  2  3  4  5  6  7  8  9 10 11 12 13 14]\n",
      " [ 2  1  0  1  2  3  4  5  6  7  8  9 10 11 12 13]\n",
      " [14 13 12 11 10  9  8  7  6  5  4  3  2  1  0  1]]\n"
     ]
    },
    {
     "data": {
      "text/plain": [
       "168"
      ]
     },
     "execution_count": 128,
     "metadata": {},
     "output_type": "execute_result"
    }
   ],
   "source": [
    "positions = np.loadtxt(\"input_test\", delimiter=\",\", dtype=int)\n",
    "print(positions)\n",
    "\n",
    "n = np.arange(positions.min(), positions.max(), dtype=int)\n",
    "n = np.tile(n, positions.shape[0]).reshape(positions.shape[0], -1)\n",
    "moves = np.abs(np.subtract(n, positions.reshape(-1, 1)))\n",
    "\n",
    "f = lambda x: np.arange(x+1).sum()\n",
    "fv = np.vectorize(f)\n",
    "print(moves)\n",
    "\n",
    "fv(moves).sum(axis=0).min()"
   ]
  }
 ],
 "metadata": {
  "kernelspec": {
   "display_name": "devel",
   "language": "python",
   "name": "devel"
  },
  "language_info": {
   "codemirror_mode": {
    "name": "ipython",
    "version": 3
   },
   "file_extension": ".py",
   "mimetype": "text/x-python",
   "name": "python",
   "nbconvert_exporter": "python",
   "pygments_lexer": "ipython3",
   "version": "3.6.10"
  }
 },
 "nbformat": 4,
 "nbformat_minor": 5
}
