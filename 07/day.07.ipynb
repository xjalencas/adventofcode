{
 "cells": [
  {
   "cell_type": "markdown",
   "metadata": {},
   "source": [
    "### Part I\n",
    "How many bag colors can eventually contain at least one shiny gold bag? "
   ]
  },
  {
   "cell_type": "code",
   "execution_count": 4,
   "metadata": {},
   "outputs": [],
   "source": [
    "import re"
   ]
  },
  {
   "cell_type": "code",
   "execution_count": 118,
   "metadata": {},
   "outputs": [
    {
     "data": {
      "text/plain": [
       "{'posh turquoise': 2, 'wavy indigo': 3, 'dotted violet': 4}"
      ]
     },
     "execution_count": 118,
     "metadata": {},
     "output_type": "execute_result"
    }
   ],
   "source": [
    "def read_info(lines):\n",
    "    regex1 = r\"(.*) bags contain (.*)\\.\"\n",
    "    regex2 = r\"(\\d) ([^,]*) bag[s]*\"\n",
    "    info = {}\n",
    "    \n",
    "    for line in lines:\n",
    "        if not line:\n",
    "            continue\n",
    "        bag, content = re.match(regex1, line).groups()\n",
    "        info[bag] = {}\n",
    "        for n, c in re.findall(regex2, content):\n",
    "            info[bag][c] = int(n)\n",
    "    return info\n",
    "\n",
    "with open(\"input\") as f:\n",
    "    info = read_info([x for x in f if x])\n",
    "\n",
    "info[\"dotted black\"]"
   ]
  },
  {
   "cell_type": "code",
   "execution_count": 135,
   "metadata": {},
   "outputs": [],
   "source": [
    "sample2 =\"\"\"\n",
    "shiny gold bags contain 2 dark red bags.\n",
    "dark red bags contain 2 dark orange bags.\n",
    "dark orange bags contain 2 dark yellow bags.\n",
    "dark yellow bags contain 2 dark green bags.\n",
    "dark green bags contain 2 dark blue bags.\n",
    "dark blue bags contain 2 dark violet bags.\n",
    "dark violet bags contain no other bags.\n",
    "\"\"\"\n",
    "info_sample2 = read_info(sample2.split(\"\\n\"))"
   ]
  },
  {
   "cell_type": "code",
   "execution_count": 124,
   "metadata": {},
   "outputs": [],
   "source": [
    "sample = \"\"\"\n",
    "light red bags contain 1 bright white bag, 2 muted yellow bags.\n",
    "dark orange bags contain 3 bright white bags, 4 muted yellow bags.\n",
    "bright white bags contain 1 shiny gold bag.\n",
    "muted yellow bags contain 2 shiny gold bags, 9 faded blue bags.\n",
    "shiny gold bags contain 1 dark olive bag, 2 vibrant plum bags.\n",
    "dark olive bags contain 3 faded blue bags, 4 dotted black bags.\n",
    "vibrant plum bags contain 5 faded blue bags, 6 dotted black bags.\n",
    "faded blue bags contain no other bags.\n",
    "dotted black bags contain no other bags.\"\"\"\n",
    "info_sample = read_info(sample.split(\"\\n\"))"
   ]
  },
  {
   "cell_type": "code",
   "execution_count": 120,
   "metadata": {},
   "outputs": [
    {
     "data": {
      "text/plain": [
       "211"
      ]
     },
     "execution_count": 120,
     "metadata": {},
     "output_type": "execute_result"
    }
   ],
   "source": [
    "def traverse(bag, path=[]):\n",
    "    candidates = [x for x in info if bag in info[x]]\n",
    "    path += candidates\n",
    "    for candidate in candidates:\n",
    "        path = traverse(candidate, path)  \n",
    "    return path\n",
    "\n",
    "len(set(traverse(\"shiny gold\")))"
   ]
  },
  {
   "cell_type": "markdown",
   "metadata": {},
   "source": [
    "### Part III\n",
    "How many individual bags are required inside your single shiny gold bag?"
   ]
  },
  {
   "cell_type": "code",
   "execution_count": 145,
   "metadata": {},
   "outputs": [
    {
     "data": {
      "text/plain": [
       "12414"
      ]
     },
     "execution_count": 145,
     "metadata": {},
     "output_type": "execute_result"
    }
   ],
   "source": [
    "def traverse(bag, n=0, nant=1, info={}):\n",
    "    candidates = info[bag]\n",
    "    #print(bag, candidates, nant, n)\n",
    "    #print(candidates)\n",
    "    for candidate in candidates:\n",
    "        n += info[bag][candidate] * nant\n",
    "        n = traverse(candidate, n, nant * info[bag][candidate], info)  \n",
    "    return n\n",
    "    \n",
    "traverse(\"shiny gold\", info=info)"
   ]
  }
 ],
 "metadata": {
  "kernelspec": {
   "display_name": "devel",
   "language": "python",
   "name": "devel"
  },
  "language_info": {
   "codemirror_mode": {
    "name": "ipython",
    "version": 3
   },
   "file_extension": ".py",
   "mimetype": "text/x-python",
   "name": "python",
   "nbconvert_exporter": "python",
   "pygments_lexer": "ipython3",
   "version": "3.6.10"
  }
 },
 "nbformat": 4,
 "nbformat_minor": 4
}
