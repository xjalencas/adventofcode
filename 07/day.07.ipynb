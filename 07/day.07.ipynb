{
 "cells": [
  {
   "cell_type": "markdown",
   "id": "d2629284-e202-4d27-b3d4-8dd36e206037",
   "metadata": {},
   "source": [
    "# Day 7: No Space Left On Device\n",
    "\n",
    "## Part I\n",
    "What is the sum of the total sizes of those directories?"
   ]
  },
  {
   "cell_type": "code",
   "execution_count": 1,
   "id": "e2426393-a98d-4d72-8b44-3089f800f8aa",
   "metadata": {},
   "outputs": [],
   "source": [
    "from collections import defaultdict"
   ]
  },
  {
   "cell_type": "code",
   "execution_count": 2,
   "id": "20d4631b-e5e7-413f-8a12-8e66dc162e73",
   "metadata": {},
   "outputs": [
    {
     "name": "stdout",
     "output_type": "stream",
     "text": [
      "{'/': ['a', 'd'], 'a': ['e']}\n",
      "{'/': [['14848514', 'b.txt'], ['8504156', 'c.dat']], 'a': [['29116', 'f'], ['2557', 'g'], ['62596', 'h.lst']], 'e': [['584', 'i']], 'd': [['4060174', 'j'], ['8033020', 'd.log'], ['5626152', 'd.ext'], ['7214296', 'k']]}\n"
     ]
    }
   ],
   "source": [
    "tree = {}\n",
    "contents = {}\n",
    "\n",
    "cwd = None\n",
    "\n",
    "with open(\"test.txt\") as f:\n",
    "    \n",
    "    for line in f:\n",
    "        line = line.strip()\n",
    "    \n",
    "        if line.startswith(\"$\"):\n",
    "            \n",
    "            fields = line[1:].strip().split(\" \")\n",
    "            cmd = fields[0]\n",
    "            args = fields[1:]\n",
    " \n",
    "            # Change directory\n",
    "            if cmd == \"cd\":\n",
    "                if args[0] == \"..\":\n",
    "                    cwd, = [x for x in tree if cwd in tree[x]]\n",
    "                else:\n",
    "                    cwd = args[0]\n",
    "        \n",
    "        else:\n",
    "            if cmd == \"ls\":\n",
    "                \n",
    "                fields = line.split(\" \")\n",
    "                \n",
    "                \n",
    "                if fields[0] == \"dir\":\n",
    "                    try:\n",
    "                        tree[cwd].append(fields[1])\n",
    "                    except KeyError:\n",
    "                        tree[cwd] = [fields[1]]\n",
    "                \n",
    "                else:\n",
    "                    try:\n",
    "                        contents[cwd].append(fields)\n",
    "                    except KeyError:\n",
    "                        contents[cwd] = [fields]\n",
    "                        \n",
    "print(tree)\n",
    "print(contents)"
   ]
  },
  {
   "cell_type": "code",
   "execution_count": 7,
   "id": "7ff07750-ec50-4283-a525-2c9a7af22af7",
   "metadata": {},
   "outputs": [
    {
     "name": "stdout",
     "output_type": "stream",
     "text": [
      "/ ['a', 'd'] 23352670\n",
      "a ['e'] 94269\n",
      "e None 584\n",
      "UP\n",
      "a ['e'] 94853\n",
      "d None 24933642\n",
      "UP\n",
      "/ ['a', 'd'] 48286312\n",
      "48286312\n"
     ]
    }
   ],
   "source": [
    "def get_size(folder, tree, contents):\n",
    "    \n",
    "    folder_size = sum([int(x[0]) for x in contents[folder]])\n",
    "    print(folder, tree.get(folder),folder_size)\n",
    "    \n",
    "    \n",
    "    if tree.get(folder):\n",
    "        for subfolder in tree[folder]:\n",
    "            size = get_size(subfolder, tree, contents)      \n",
    "    else:\n",
    "        return folder_size\n",
    "    # Base of recursivity\n",
    "    \n",
    "    size += folder_size\n",
    "\n",
    "    print(\"UP\")\n",
    "    print(folder, tree.get(folder), size)\n",
    "    \n",
    "    \n",
    "    return size\n",
    "    \n",
    "print(get_size(\"/\", tree, contents))"
   ]
  },
  {
   "cell_type": "code",
   "execution_count": 42,
   "id": "c7fa2088-c70c-491f-bcf7-570a4e50b650",
   "metadata": {},
   "outputs": [
    {
     "data": {
      "text/plain": [
       "{'/': [['14848514', 'b.txt'], ['8504156', 'c.dat']],\n",
       " 'a': [['29116', 'f'], ['2557', 'g'], ['62596', 'h.lst']],\n",
       " 'e': [['584', 'i']],\n",
       " 'd': [['4060174', 'j'],\n",
       "  ['8033020', 'd.log'],\n",
       "  ['5626152', 'd.ext'],\n",
       "  ['7214296', 'k']]}"
      ]
     },
     "execution_count": 42,
     "metadata": {},
     "output_type": "execute_result"
    }
   ],
   "source": [
    "contents"
   ]
  }
 ],
 "metadata": {
  "kernelspec": {
   "display_name": "devel",
   "language": "python",
   "name": "devel"
  },
  "language_info": {
   "codemirror_mode": {
    "name": "ipython",
    "version": 3
   },
   "file_extension": ".py",
   "mimetype": "text/x-python",
   "name": "python",
   "nbconvert_exporter": "python",
   "pygments_lexer": "ipython3",
   "version": "3.6.10"
  }
 },
 "nbformat": 4,
 "nbformat_minor": 5
}
