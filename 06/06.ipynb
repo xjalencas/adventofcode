{
 "cells": [
  {
   "cell_type": "markdown",
   "id": "54240d51-ba74-4083-858d-69f29750dab2",
   "metadata": {},
   "source": [
    "<pre>\n",
    "--- <a href=https://adventofcode.com/2021/day/6> Day 6: Lanternfish </a> ---\n",
    "\n",
    "Find a way to simulate lanternfish. <b>How many lanternfish would there be after 80 days? </b>\n",
    "</pre>"
   ]
  },
  {
   "cell_type": "code",
   "execution_count": 19,
   "id": "58aa1f03-e0c3-4640-856a-1aa84e30a0eb",
   "metadata": {},
   "outputs": [
    {
     "data": {
      "text/plain": [
       "array([3, 4, 3, 1, 2])"
      ]
     },
     "execution_count": 19,
     "metadata": {},
     "output_type": "execute_result"
    }
   ],
   "source": [
    "import numpy as np\n",
    "\n",
    "fish"
   ]
  },
  {
   "cell_type": "code",
   "execution_count": 42,
   "id": "ea182973-9333-4cfb-924c-0c9f01e19a69",
   "metadata": {},
   "outputs": [
    {
     "data": {
      "text/plain": [
       "5934"
      ]
     },
     "execution_count": 42,
     "metadata": {},
     "output_type": "execute_result"
    }
   ],
   "source": [
    "fish = np.loadtxt(\"input_test\", delimiter=\",\", dtype=int)\n",
    "n = 80\n",
    "for i in range(n):\n",
    "    #print(fish, len(fish))\n",
    "    fish = fish - 1\n",
    "\n",
    "    new_ = (fish == -1).sum()\n",
    "    fish[fish == -1] = 6\n",
    "    \n",
    "    fish = np.hstack([fish, np.full(new_, 8)]) \n",
    "\n",
    "len(fish)"
   ]
  },
  {
   "cell_type": "code",
   "execution_count": 43,
   "id": "4fcda25e-dbd7-4d5b-9e51-4460ab474b60",
   "metadata": {},
   "outputs": [
    {
     "data": {
      "text/plain": [
       "390011"
      ]
     },
     "execution_count": 43,
     "metadata": {},
     "output_type": "execute_result"
    }
   ],
   "source": [
    "fish = np.loadtxt(\"input\", delimiter=\",\", dtype=int)\n",
    "n = 80\n",
    "for i in range(n):\n",
    "    #print(fish, len(fish))\n",
    "    fish = fish - 1\n",
    "\n",
    "    new_ = (fish == -1).sum()\n",
    "    fish[fish == -1] = 6\n",
    "    \n",
    "    fish = np.hstack([fish, np.full(new_, 8)]) \n",
    "\n",
    "len(fish)"
   ]
  },
  {
   "cell_type": "markdown",
   "id": "d241292d-85d8-4186-8b5a-b058fab7ac25",
   "metadata": {},
   "source": [
    "<pre> \n",
    "--- Part Two ---\n",
    "\n",
    "<b>How many lanternfish would there be after 256 days?</b> </pre>"
   ]
  },
  {
   "cell_type": "code",
   "execution_count": 82,
   "id": "b3e85f1b-2a41-4492-aeea-1b11798f7f74",
   "metadata": {},
   "outputs": [
    {
     "name": "stdout",
     "output_type": "stream",
     "text": [
      "1746710169834\n",
      "CPU times: user 4.5 ms, sys: 28 µs, total: 4.53 ms\n",
      "Wall time: 4.23 ms\n"
     ]
    }
   ],
   "source": [
    "%%time\n",
    "fish = np.loadtxt(\"input\", delimiter=\",\", dtype=int)\n",
    "days = 256\n",
    "\n",
    "\n",
    "population = {key:0 for key in range(-1, 9)}\n",
    "for i in fish:\n",
    "    population[i] += 1\n",
    "\n",
    "for i in range(days):\n",
    "    population = {k - 1: v for k,v in population.items()}\n",
    "    population[8] = population[-1]\n",
    "    population[6] += population[-1]\n",
    "    population[-1] = 0\n",
    "\n",
    "print(sum(population.values()))"
   ]
  },
  {
   "cell_type": "code",
   "execution_count": null,
   "id": "936a86a0-baca-4fd8-90cb-44abb74883f4",
   "metadata": {},
   "outputs": [],
   "source": []
  }
 ],
 "metadata": {
  "kernelspec": {
   "display_name": "devel",
   "language": "python",
   "name": "devel"
  },
  "language_info": {
   "codemirror_mode": {
    "name": "ipython",
    "version": 3
   },
   "file_extension": ".py",
   "mimetype": "text/x-python",
   "name": "python",
   "nbconvert_exporter": "python",
   "pygments_lexer": "ipython3",
   "version": "3.6.10"
  }
 },
 "nbformat": 4,
 "nbformat_minor": 5
}
