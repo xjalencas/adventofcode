{
 "cells": [
  {
   "cell_type": "markdown",
   "id": "3568879a-3af3-41d8-a7f5-29425f3200ee",
   "metadata": {},
   "source": [
    "# Day 6: Tuning Trouble\n",
    "## Part I\n",
    "How many characters need to be processed before the first start-of-packet marker is detected?"
   ]
  },
  {
   "cell_type": "code",
   "execution_count": 25,
   "id": "0088d11a-0501-44c4-af4a-2f36d823d9ee",
   "metadata": {},
   "outputs": [
    {
     "data": {
      "text/plain": [
       "7"
      ]
     },
     "execution_count": 25,
     "metadata": {},
     "output_type": "execute_result"
    }
   ],
   "source": [
    "def detect(string):\n",
    "    \n",
    "    for i, char in enumerate(string):\n",
    "        if i >= 3:\n",
    "            #print(string[i-3:i+1])\n",
    "            if len(set(string[i-3:i+1])) == 4:\n",
    "                return i + 1 \n",
    "                         \n",
    "            \n",
    "        \n",
    "detect(\"mjqjpqmgbljsphdztnvjfqwrcgsmlb\")"
   ]
  },
  {
   "cell_type": "code",
   "execution_count": 29,
   "id": "95814951-00a3-4811-af2b-fecc7ac6f938",
   "metadata": {},
   "outputs": [
    {
     "name": "stdout",
     "output_type": "stream",
     "text": [
      "5\n",
      "6\n",
      "10\n",
      "11\n"
     ]
    }
   ],
   "source": [
    "print(detect(\"bvwbjplbgvbhsrlpgdmjqwftvncz\"))\n",
    "print(detect(\"nppdvjthqldpwncqszvftbrmjlhg\"))\n",
    "print(detect(\"nznrnfrfntjfmvfwmzdfjlvtqnbhcprsg\"))\n",
    "print(detect(\"zcfzfwzzqfrljwzlrfnpqdbhtmscgvjw\"))"
   ]
  },
  {
   "cell_type": "code",
   "execution_count": 31,
   "id": "65c98730-d7be-4fa0-b010-6f8f69e6d75f",
   "metadata": {},
   "outputs": [
    {
     "name": "stdout",
     "output_type": "stream",
     "text": [
      "1647\n"
     ]
    }
   ],
   "source": [
    "with open(\"input\") as f:\n",
    "    print(detect(f.read()))"
   ]
  },
  {
   "cell_type": "markdown",
   "id": "47df1122-75aa-4a95-b8eb-a3f34f75e196",
   "metadata": {},
   "source": [
    "## Part II\n",
    "How many characters need to be processed before the first start-of-message marker is detected?"
   ]
  },
  {
   "cell_type": "code",
   "execution_count": 58,
   "id": "f84bb133-57d9-4aae-95d2-ce7c32e2a301",
   "metadata": {},
   "outputs": [
    {
     "data": {
      "text/plain": [
       "7"
      ]
     },
     "execution_count": 58,
     "metadata": {},
     "output_type": "execute_result"
    }
   ],
   "source": [
    "def detect(string, n=14):\n",
    "    \n",
    "    for i, char in enumerate(string):\n",
    "        if i >= n-1:\n",
    "            #print(i, string[i-n+1:i+1])\n",
    "            if len(set(string[i-n+1:i+1])) == n:\n",
    "                return i + 1 \n",
    "        \n",
    "detect(\"mjqjpqmgbljsphdztnvjfqwrcgsmlb\", n=4)"
   ]
  },
  {
   "cell_type": "code",
   "execution_count": 59,
   "id": "1c6ffcc1-6be8-4a64-bbbd-5f54e4010348",
   "metadata": {},
   "outputs": [
    {
     "name": "stdout",
     "output_type": "stream",
     "text": [
      "23\n",
      "23\n",
      "29\n",
      "26\n"
     ]
    }
   ],
   "source": [
    "print(detect(\"bvwbjplbgvbhsrlpgdmjqwftvncz\"))\n",
    "print(detect(\"nppdvjthqldpwncqszvftbrmjlhg\"))\n",
    "print(detect(\"nznrnfrfntjfmvfwmzdfjlvtqnbhcprsg\"))\n",
    "print(detect(\"zcfzfwzzqfrljwzlrfnpqdbhtmscgvjw\"))"
   ]
  },
  {
   "cell_type": "code",
   "execution_count": 60,
   "id": "e59b2385-ca7f-49e2-8e5d-e7b5e0b9bb56",
   "metadata": {},
   "outputs": [
    {
     "name": "stdout",
     "output_type": "stream",
     "text": [
      "2447\n"
     ]
    }
   ],
   "source": [
    "with open(\"input\") as f:\n",
    "    print(detect(f.read(), n=14))"
   ]
  }
 ],
 "metadata": {
  "kernelspec": {
   "display_name": "devel",
   "language": "python",
   "name": "devel"
  },
  "language_info": {
   "codemirror_mode": {
    "name": "ipython",
    "version": 3
   },
   "file_extension": ".py",
   "mimetype": "text/x-python",
   "name": "python",
   "nbconvert_exporter": "python",
   "pygments_lexer": "ipython3",
   "version": "3.6.10"
  }
 },
 "nbformat": 4,
 "nbformat_minor": 5
}
