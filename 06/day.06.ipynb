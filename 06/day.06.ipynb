{
 "cells": [
  {
   "cell_type": "code",
   "execution_count": 4,
   "metadata": {},
   "outputs": [],
   "source": [
    "def read_orbits(text):\n",
    "    return [x.split(')') for x in text.split(\"\\n\") if x]"
   ]
  },
  {
   "cell_type": "code",
   "execution_count": 37,
   "metadata": {},
   "outputs": [],
   "source": [
    "from collections import defaultdict\n",
    "\n",
    "def count_orbits(orbits):\n",
    "    \n",
    "    info = defaultdict(lambda: set())\n",
    "    for orbit in orbits:\n",
    "        info[orbit[1]].update([orbit[0]])\n",
    "        \n",
    "    norbits = 0\n",
    "    for key in list(info):\n",
    "        norbits += len(scan_orbit(key, info, []))\n",
    "    \n",
    "    return norbits"
   ]
  },
  {
   "cell_type": "code",
   "execution_count": 43,
   "metadata": {},
   "outputs": [],
   "source": [
    "def scan_orbit(planet, data, orbits=[]):\n",
    "        \n",
    "    for x in data[planet]:\n",
    "        orbits.append(x)\n",
    "        return scan_orbit(x, data, orbits=orbits)\n",
    "  \n",
    "    if planet == \"COM\":\n",
    "        return orbits"
   ]
  },
  {
   "cell_type": "code",
   "execution_count": 46,
   "metadata": {},
   "outputs": [
    {
     "data": {
      "text/plain": [
       "42"
      ]
     },
     "execution_count": 46,
     "metadata": {},
     "output_type": "execute_result"
    }
   ],
   "source": [
    "orbits = \"\"\"\n",
    "COM)B\n",
    "B)C\n",
    "C)D\n",
    "D)E\n",
    "E)F\n",
    "B)G\n",
    "G)H\n",
    "D)I\n",
    "E)J\n",
    "J)K\n",
    "K)L\"\"\"\n",
    "count_orbits(read_orbits(orbits))"
   ]
  },
  {
   "cell_type": "code",
   "execution_count": 204,
   "metadata": {},
   "outputs": [
    {
     "data": {
      "text/plain": [
       "387356"
      ]
     },
     "execution_count": 204,
     "metadata": {},
     "output_type": "execute_result"
    }
   ],
   "source": [
    "with open(\"input.txt\") as f:\n",
    "    input = read_orbits(f.read())\n",
    "count_orbits(input)"
   ]
  },
  {
   "cell_type": "markdown",
   "metadata": {},
   "source": [
    "```--- Part Two ---```"
   ]
  },
  {
   "cell_type": "code",
   "execution_count": 308,
   "metadata": {},
   "outputs": [
    {
     "data": {
      "text/plain": [
       "defaultdict(<function __main__.<lambda>()>,\n",
       "            {'B': {'C', 'COM', 'G'},\n",
       "             'COM': {'B'},\n",
       "             'C': {'B', 'D'},\n",
       "             'D': {'C', 'E', 'I'},\n",
       "             'E': {'D', 'F', 'J'},\n",
       "             'F': {'E'},\n",
       "             'G': {'B', 'H'},\n",
       "             'H': {'G'},\n",
       "             'I': {'D', 'SAN'},\n",
       "             'J': {'E', 'K'},\n",
       "             'K': {'J', 'L', 'YOU'},\n",
       "             'L': {'K'},\n",
       "             'YOU': {'K'},\n",
       "             'SAN': {'I'}})"
      ]
     },
     "metadata": {},
     "output_type": "display_data"
    },
    {
     "name": "stdout",
     "output_type": "stream",
     "text": [
      "[['YOU', 'K', 'J', 'E', 'D', 'I', 'SAN']]\n"
     ]
    }
   ],
   "source": [
    "test = read_orbits(\"\"\"\n",
    "COM)B\n",
    "B)C\n",
    "C)D\n",
    "D)E\n",
    "E)F\n",
    "B)G\n",
    "G)H\n",
    "D)I\n",
    "E)J\n",
    "J)K\n",
    "K)L\n",
    "K)YOU\n",
    "I)SAN\"\"\")\n",
    "\n",
    "info = defaultdict(lambda: set())\n",
    "for orbit in test:\n",
    "    info[orbit[1]].update([orbit[0]])\n",
    "    info[orbit[0]].update([orbit[1]])\n",
    "display(info)\n",
    "\n",
    "\n",
    "print(scan_path(\"YOU\", \"SAN\", info, [], set(), [], []))\n",
    "\n",
    "    "
   ]
  },
  {
   "cell_type": "code",
   "execution_count": 329,
   "metadata": {},
   "outputs": [],
   "source": [
    "def scan_path(start, end , data, path=[], visited=set(), fork=[], paths=[]):\n",
    "    \n",
    "    path.append(start)\n",
    "    visited.update([start])\n",
    "    \n",
    "    if start == end:\n",
    "        paths.append(path)\n",
    "        idx = path.index(fork[-1])\n",
    "        return scan_path(fork[-1], end, data, path=path[:idx], visited=visited, fork=fork[:-1], paths=paths)\n",
    "    \n",
    "    candidates = [item for item in data[start] if item not in visited]\n",
    "    if len(candidates) > 1:\n",
    "        fork.append(start)\n",
    "     \n",
    "    #print(start, len(paths), fork)\n",
    "    #print(start, path, candidates, visited, fork, len(paths))\n",
    "    #print()\n",
    "\n",
    "    if not candidates:\n",
    "        \n",
    "        # Base of recursion: No more candidates to travel nor forks taken.\n",
    "        if not fork:\n",
    "            return paths\n",
    "        \n",
    "        idx = path.index(fork[-1])\n",
    "        return scan_path(fork[-1], end, data, path=path[:idx], visited=visited, fork=fork[:-1], paths=paths)\n",
    "    \n",
    "    for x in candidates:\n",
    "        return scan_path(x, end, data, path=path, visited=visited, fork=fork, paths=paths)\n",
    "  \n",
    "    "
   ]
  },
  {
   "cell_type": "code",
   "execution_count": 331,
   "metadata": {},
   "outputs": [
    {
     "name": "stdout",
     "output_type": "stream",
     "text": [
      "['YOU', 'X1T', 'Q7S', 'WLT', 'PZ1', 'M5X', 'JGG', 'JVW', '37X', 'DZT', 'XBR', 'BFJ', '158', '4NP', '1MR', '81D', '6QN', 'YVB', 'DKL', '1N1', 'B6K', 'ZLW', 'FDV', '62W', 'DG4', 'PY3', 'LQQ', 'JDN', 'XDZ', 'PVX', 'R26', '8T8', 'NVK', 'MZY', '956', 'R2L', 'V3L', 'K8B', 'H58', '5T8', '266', '6FY', 'HH1', 'STL', 'BLQ', 'SM3', 'XQD', 'K6F', 'YQP', 'FMW', 'Z83', 'Q7N', '9TH', 'MBX', 'SKC', 'QFH', 'NB5', 'GNG', '1R1', 'CPG', 'L71', '9JW', '3NY', 'JZR', '34T', 'ZBR', 'L7K', '6MB', 'G2X', 'CJY', '828', 'KM4', 'YZY', 'WJH', 'MGC', 'X6F', '5PM', 'RSR', 'BG5', 'VXN', 'YSZ', '724', 'FRF', 'DR4', 'WNW', 'XL6', '42X', '2RK', '3BL', '852', 'X1Z', '3B9', 'HGH', 'NJT', 'VB9', 'TXC', 'BDT', 'ZVH', '1PJ', 'FSX', 'VPY', 'H8W', 'HKK', 'YGW', 'X61', 'DKM', '29N', '88T', 'SLK', 'ZHM', 'CPW', 'XLW', '3ZP', 'RKQ', 'BYK', 'CJV', 'RZC', 'GCJ', 'RCP', '7YC', 'CXP', 'WW2', '88N', 'MYJ', 'JYD', 'BKM', 'RLW', 'Q89', 'C2M', 'S4Y', 'H9V', 'ZYW', '1J4', 'K1T', 'J3G', 'BP2', 'Z5F', 'R1J', 'YML', 'F34', 'YTP', 'P44', '3YP', '513', '9K7', 'P34', 'ZTL', '6GY', 'J8C', '9PR', '5YX', 'PD4', '3M5', 'NF1', 'GH7', 'L7H', 'D57', 'SB4', 'HTK', 'BV1', '4B9', 'T7Q', '4WN', '8JJ', 'J2W', '7NH', '7JP', 'LPH', 'MYV', 'CVL', 'WT9', 'S1M', 'HB5', '6ZJ', 'XRX', 'Q95', 'L96', '4GL', '9LN', '13R', 'RQ2', 'XG2', '5WM', 'VNJ', 'F5X', 'Y77', '9MP', 'FK8', 'BJH', 'YGR', 'VS9', '7KN', 'FB4', 'WZX', '9K8', 'HMD', 'MZ8', 'BGV', 'PXL', 'MG2', 'PY1', '4LL', 'KL9', 'T9H', 'SMD', '3TS', 'XNF', 'M9Y', 'PCQ', '1FH', 'GYF', '1SJ', 'G6B', 'WNL', 'DX6', 'L2L', 'TFK', '3TK', 'HDV', 'QCC', 'SK7', 'JC5', '179', 'W1C', 'K4W', 'Z71', 'DFL', 'ZF1', '3KC', 'Q25', 'Q3S', '8FP', 'S15', 'VHP', '8RV', 'P37', 'H7K', '6Q1', '6NH', '15C', 'SSN', '1RC', 'RZY', '1VL', 'RGX', 'KZN', 'V1W', 'KHV', 'HXW', 'YG6', '9WW', 'XLN', 'VMF', 'KK8', 'CCT', 'PRQ', '3WK', '2X8', 'PV2', 'SV4', 'NSB', '1CG', '1CT', 'DGR', 'H33', '2D3', '89D', 'S55', 'PQC', 'BT8', 'RT1', '6XV', 'Z4B', 'GZ9', 'JKN', 'JX6', 'QKW', 'FRW', '38H', 'CYB', 'V4N', 'JSX', 'QK9', '7KF', 'QB4', 'MB3', 'F1B', '8K5', 'TZJ', '8DX', '1DN', 'L8Y', 'ZZM', 'Y2Q', 'MPM', 'F71', 'FJN', 'SP2', 'HP7', 'CHC', 'BKX', 'K65', 'D7G', 'Z4K', 'H55', 'Z93', 'HP6', '325', 'RW9', 'RC1', 'SCB', '3FF', 'ZP8', 'JRS', '1SR', 'J71', 'GH2', 'LRJ', '45L', 'TJM', 'T71', '6CT', 'CLH', 'FQ6', 'TQ2', '717', 'YQ9', 'F65', 'QJG', 'KSX', 'L2T', 'LTW', 'HR8', 'R5B', 'RR9', '7J9', 'B1R', 'BPG', '41F', 'PYL', 'DGS', 'GF7', 'X8R', 'FZ7', 'BCB', '6YP', 'LPL', 'X69', 'GZ4', '3WB', 'QKL', 'YS8', 'DZS', 'DS4', 'BLD', 'VPT', '929', '7QG', 'CGC', '3VB', 'JG8', 'PXC', '15S', 'WZ9', 'VVT', 'LGV', 'ZCY', 'XT9', 'VJQ', 'VL3', '73G', 'B5F', 'GD4', 'HJT', 'Q55', '1NT', 'CTD', '97C', 'WZD', 'JWF', 'XGM', 'KXF', 'M45', 'SBN', '519', 'H93', '9ZH', 'DKJ', 'LGK', 'LVR', 'CXQ', '9S4', 'JYK', 'QRK', '5BT', 'XV7', '9CY', 'RFX', 'LL2', 'RCT', 'T69', 'H1D', 'VBT', '9G4', '55S', '5CV', 'G1L', '447', 'VV7', 'JZT', 'CD9', 'H3H', 'ZHW', 'BL1', '3JQ', 'GF2', 'SPF', 'GDH', '3SS', 'CYT', 'JZ3', 'GGJ', '554', 'VR5', 'VLW', 'PJ9', 'ZDV', '614', 'Q43', 'HHX', 'KYD', 'SZZ', '2R7', 'C2J', '7HY', '62C', 'GZL', 'RD8', 'BXB', 'ZGW', 'D66', '9C5', 'WHN', '954', 'HK5', 'LGX', 'KHT', 'NQZ', 'P9P', '68Z', 'F7M', 'BNJ', 'HKN', '4DM', 'K1R', '6XP', 'D5X', 'J5G', 'PHM', '3XB', '9RT', 'B87', 'J9X', 'XHF', '1ZK', '9XR', 'GGY', 'MNW', 'HZV', 'CNG', 'DMD', 'VJ6', 'VSS', 'W7M', '88L', 'F5W', 'RMB', 'WK3', 'VC2', 'GC8', '1PC', 'D8R', 'MND', 'SM1', 'DG9', 'PTJ', 'TSZ', '94F', '9ST', '9Y9', 'W8V', 'NBP', 'H4Z', '8FK', 'TWM', 'BS9', 'R51', 'V22', 'BM6', 'BHY', 'P13', '5DS', 'YVH', 'NN1', '5PJ', '7R8', 'WYT', 'WPJ', 'TQR', 'N1X', 'XWC', 'JS3', 'QD4', '6YZ', 'N3Y', '23D', 'K85', 'QPV', 'V2Q', 'KL2', '2K8', '2R5', 'RV7', 'TH7', 'CC1', 'ZJH', 'RQ5', '9QP', 'BD6', '5Y1', '15N', 'P53', 'XWH', '186', 'SAN']\n",
      "532\n",
      "CPU times: user 19.1 ms, sys: 0 ns, total: 19.1 ms\n",
      "Wall time: 19.3 ms\n"
     ]
    }
   ],
   "source": [
    "%%time\n",
    "with open(\"input.txt\") as f:\n",
    "    input = read_orbits(f.read())\n",
    "\n",
    "info = defaultdict(lambda: set())\n",
    "for orbit in input:\n",
    "    info[orbit[1]].update([orbit[0]])\n",
    "    info[orbit[0]].update([orbit[1]])\n",
    "    \n",
    "\n",
    "paths = scan_path(\"YOU\", \"SAN\", info, [], set(), [], [])\n",
    "for path in paths:\n",
    "    print(path)\n",
    "    print(len(path) - 3)"
   ]
  },
  {
   "cell_type": "markdown",
   "metadata": {},
   "source": [
    "Using ```networkx```"
   ]
  },
  {
   "cell_type": "code",
   "execution_count": 23,
   "metadata": {},
   "outputs": [
    {
     "name": "stdout",
     "output_type": "stream",
     "text": [
      "['YOU', 'X1T', 'Q7S', 'WLT', 'PZ1', 'M5X', 'JGG', 'JVW', '37X', 'DZT', 'XBR', 'BFJ', '158', '4NP', '1MR', '81D', '6QN', 'YVB', 'DKL', '1N1', 'B6K', 'ZLW', 'FDV', '62W', 'DG4', 'PY3', 'LQQ', 'JDN', 'XDZ', 'PVX', 'R26', '8T8', 'NVK', 'MZY', '956', 'R2L', 'V3L', 'K8B', 'H58', '5T8', '266', '6FY', 'HH1', 'STL', 'BLQ', 'SM3', 'XQD', 'K6F', 'YQP', 'FMW', 'Z83', 'Q7N', '9TH', 'MBX', 'SKC', 'QFH', 'NB5', 'GNG', '1R1', 'CPG', 'L71', '9JW', '3NY', 'JZR', '34T', 'ZBR', 'L7K', '6MB', 'G2X', 'CJY', '828', 'KM4', 'YZY', 'WJH', 'MGC', 'X6F', '5PM', 'RSR', 'BG5', 'VXN', 'YSZ', '724', 'FRF', 'DR4', 'WNW', 'XL6', '42X', '2RK', '3BL', '852', 'X1Z', '3B9', 'HGH', 'NJT', 'VB9', 'TXC', 'BDT', 'ZVH', '1PJ', 'FSX', 'VPY', 'H8W', 'HKK', 'YGW', 'X61', 'DKM', '29N', '88T', 'SLK', 'ZHM', 'CPW', 'XLW', '3ZP', 'RKQ', 'BYK', 'CJV', 'RZC', 'GCJ', 'RCP', '7YC', 'CXP', 'WW2', '88N', 'MYJ', 'JYD', 'BKM', 'RLW', 'Q89', 'C2M', 'S4Y', 'H9V', 'ZYW', '1J4', 'K1T', 'J3G', 'BP2', 'Z5F', 'R1J', 'YML', 'F34', 'YTP', 'P44', '3YP', '513', '9K7', 'P34', 'ZTL', '6GY', 'J8C', '9PR', '5YX', 'PD4', '3M5', 'NF1', 'GH7', 'L7H', 'D57', 'SB4', 'HTK', 'BV1', '4B9', 'T7Q', '4WN', '8JJ', 'J2W', '7NH', '7JP', 'LPH', 'MYV', 'CVL', 'WT9', 'S1M', 'HB5', '6ZJ', 'XRX', 'Q95', 'L96', '4GL', '9LN', '13R', 'RQ2', 'XG2', '5WM', 'VNJ', 'F5X', 'Y77', '9MP', 'FK8', 'BJH', 'YGR', 'VS9', '7KN', 'FB4', 'WZX', '9K8', 'HMD', 'MZ8', 'BGV', 'PXL', 'MG2', 'PY1', '4LL', 'KL9', 'T9H', 'SMD', '3TS', 'XNF', 'M9Y', 'PCQ', '1FH', 'GYF', '1SJ', 'G6B', 'WNL', 'DX6', 'L2L', 'TFK', '3TK', 'HDV', 'QCC', 'SK7', 'JC5', '179', 'W1C', 'K4W', 'Z71', 'DFL', 'ZF1', '3KC', 'Q25', 'Q3S', '8FP', 'S15', 'VHP', '8RV', 'P37', 'H7K', '6Q1', '6NH', '15C', 'SSN', '1RC', 'RZY', '1VL', 'RGX', 'KZN', 'V1W', 'KHV', 'HXW', 'YG6', '9WW', 'XLN', 'VMF', 'KK8', 'CCT', 'PRQ', '3WK', '2X8', 'PV2', 'SV4', 'NSB', '1CG', '1CT', 'DGR', 'H33', '2D3', '89D', 'S55', 'PQC', 'BT8', 'RT1', '6XV', 'Z4B', 'GZ9', 'JKN', 'JX6', 'QKW', 'FRW', '38H', 'CYB', 'V4N', 'JSX', 'QK9', '7KF', 'QB4', 'MB3', 'F1B', '8K5', 'TZJ', '8DX', '1DN', 'L8Y', 'ZZM', 'Y2Q', 'MPM', 'F71', 'FJN', 'SP2', 'HP7', 'CHC', 'BKX', 'K65', 'D7G', 'Z4K', 'H55', 'Z93', 'HP6', '325', 'RW9', 'RC1', 'SCB', '3FF', 'ZP8', 'JRS', '1SR', 'J71', 'GH2', 'LRJ', '45L', 'TJM', 'T71', '6CT', 'CLH', 'FQ6', 'TQ2', '717', 'YQ9', 'F65', 'QJG', 'KSX', 'L2T', 'LTW', 'HR8', 'R5B', 'RR9', '7J9', 'B1R', 'BPG', '41F', 'PYL', 'DGS', 'GF7', 'X8R', 'FZ7', 'BCB', '6YP', 'LPL', 'X69', 'GZ4', '3WB', 'QKL', 'YS8', 'DZS', 'DS4', 'BLD', 'VPT', '929', '7QG', 'CGC', '3VB', 'JG8', 'PXC', '15S', 'WZ9', 'VVT', 'LGV', 'ZCY', 'XT9', 'VJQ', 'VL3', '73G', 'B5F', 'GD4', 'HJT', 'Q55', '1NT', 'CTD', '97C', 'WZD', 'JWF', 'XGM', 'KXF', 'M45', 'SBN', '519', 'H93', '9ZH', 'DKJ', 'LGK', 'LVR', 'CXQ', '9S4', 'JYK', 'QRK', '5BT', 'XV7', '9CY', 'RFX', 'LL2', 'RCT', 'T69', 'H1D', 'VBT', '9G4', '55S', '5CV', 'G1L', '447', 'VV7', 'JZT', 'CD9', 'H3H', 'ZHW', 'BL1', '3JQ', 'GF2', 'SPF', 'GDH', '3SS', 'CYT', 'JZ3', 'GGJ', '554', 'VR5', 'VLW', 'PJ9', 'ZDV', '614', 'Q43', 'HHX', 'KYD', 'SZZ', '2R7', 'C2J', '7HY', '62C', 'GZL', 'RD8', 'BXB', 'ZGW', 'D66', '9C5', 'WHN', '954', 'HK5', 'LGX', 'KHT', 'NQZ', 'P9P', '68Z', 'F7M', 'BNJ', 'HKN', '4DM', 'K1R', '6XP', 'D5X', 'J5G', 'PHM', '3XB', '9RT', 'B87', 'J9X', 'XHF', '1ZK', '9XR', 'GGY', 'MNW', 'HZV', 'CNG', 'DMD', 'VJ6', 'VSS', 'W7M', '88L', 'F5W', 'RMB', 'WK3', 'VC2', 'GC8', '1PC', 'D8R', 'MND', 'SM1', 'DG9', 'PTJ', 'TSZ', '94F', '9ST', '9Y9', 'W8V', 'NBP', 'H4Z', '8FK', 'TWM', 'BS9', 'R51', 'V22', 'BM6', 'BHY', 'P13', '5DS', 'YVH', 'NN1', '5PJ', '7R8', 'WYT', 'WPJ', 'TQR', 'N1X', 'XWC', 'JS3', 'QD4', '6YZ', 'N3Y', '23D', 'K85', 'QPV', 'V2Q', 'KL2', '2K8', '2R5', 'RV7', 'TH7', 'CC1', 'ZJH', 'RQ5', '9QP', 'BD6', '5Y1', '15N', 'P53', 'XWH', '186', 'SAN']\n"
     ]
    },
    {
     "data": {
      "text/plain": [
       "532"
      ]
     },
     "execution_count": 23,
     "metadata": {},
     "output_type": "execute_result"
    }
   ],
   "source": [
    "import networkx as nx\n",
    "\n",
    "G = nx.Graph()\n",
    "\n",
    "with open(\"input.txt\") as f:\n",
    "    G.add_edges_from(read_orbits(f.read()))\n",
    "        \n",
    "path = nx.shortest_path(G, \"YOU\", \"SAN\")\n",
    "print(path)\n",
    "len(path) - 3"
   ]
  }
 ],
 "metadata": {
  "kernelspec": {
   "display_name": "devel",
   "language": "python",
   "name": "devel"
  },
  "language_info": {
   "codemirror_mode": {
    "name": "ipython",
    "version": 3
   },
   "file_extension": ".py",
   "mimetype": "text/x-python",
   "name": "python",
   "nbconvert_exporter": "python",
   "pygments_lexer": "ipython3",
   "version": "3.6.7"
  }
 },
 "nbformat": 4,
 "nbformat_minor": 2
}
