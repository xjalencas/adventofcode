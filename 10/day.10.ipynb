{
 "cells": [
  {
   "cell_type": "markdown",
   "id": "43307914-22bd-4133-94a8-eae1e88fe27c",
   "metadata": {},
   "source": [
    "# --- Day 10: Pipe Maze ---"
   ]
  }
 ],
 "metadata": {
  "kernelspec": {
   "display_name": "eug",
   "language": "python",
   "name": "eug"
  },
  "language_info": {
   "codemirror_mode": {
    "name": "ipython",
    "version": 3
   },
   "file_extension": ".py",
   "mimetype": "text/x-python",
   "name": "python",
   "nbconvert_exporter": "python",
   "pygments_lexer": "ipython3",
   "version": "3.12.0"
  }
 },
 "nbformat": 4,
 "nbformat_minor": 5
}
