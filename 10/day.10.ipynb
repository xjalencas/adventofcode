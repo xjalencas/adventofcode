{
 "cells": [
  {
   "cell_type": "markdown",
   "id": "43307914-22bd-4133-94a8-eae1e88fe27c",
   "metadata": {},
   "source": [
    "# --- Day 10: Pipe Maze ---"
   ]
  },
  {
   "cell_type": "code",
   "execution_count": 17,
   "id": "564ce2d1-88a8-42cd-86ce-72c6872f8e76",
   "metadata": {},
   "outputs": [],
   "source": [
    "import networkx as nx\n",
    "import numpy as np"
   ]
  },
  {
   "cell_type": "code",
   "execution_count": 23,
   "id": "ed8594af-84df-42f3-9070-5874d9902d20",
   "metadata": {},
   "outputs": [
    {
     "data": {
      "text/plain": [
       "NodeView(((1, 1), (1, 2), (1, 3), (2, 1), (2, 3), (3, 1), (3, 2), (3, 3)))"
      ]
     },
     "execution_count": 23,
     "metadata": {},
     "output_type": "execute_result"
    }
   ],
   "source": [
    "def read_input(infile):\n",
    "    \n",
    "    with open(infile) as f:\n",
    "        m = [list(x) for x in f.read().split(\"\\n\")]\n",
    "    m = np.array(m)\n",
    "  \n",
    "    # Convert to network\n",
    "    G = nx.Graph()\n",
    "    start = None\n",
    "  \n",
    "    # Nodes\n",
    "    for i in range(m.shape[0]):\n",
    "        for j in range(m.shape[1]):  \n",
    "            \n",
    "            if m[i,j] != \".\":\n",
    "                G.add_node((i,j))\n",
    "            \n",
    "            if m[i,j] == \"S\":\n",
    "                start = (i,j)\n",
    "            \n",
    "        \n",
    "    # Edges\n",
    "    for i in range(m.shape[0]):\n",
    "        for j in range(m.shape[1]):  \n",
    "            if m[i,j] != \".\":\n",
    "                \n",
    "                if m[i, j] == \"|\":\n",
    "                    G.add_edge((i,j), (i, j-1)\n",
    "                G.add_node((i,j))\n",
    "    \n",
    "                \n",
    "    return G.nodes()     \n",
    "    \n",
    "    return G\n",
    "\n",
    "read_input(\"input.0.txt\")"
   ]
  },
  {
   "cell_type": "code",
   "execution_count": null,
   "id": "d2962a14-fe9c-45d7-862b-d2d5d339b572",
   "metadata": {},
   "outputs": [],
   "source": []
  }
 ],
 "metadata": {
  "kernelspec": {
   "display_name": "rdkit",
   "language": "python",
   "name": "rdkit"
  },
  "language_info": {
   "codemirror_mode": {
    "name": "ipython",
    "version": 3
   },
   "file_extension": ".py",
   "mimetype": "text/x-python",
   "name": "python",
   "nbconvert_exporter": "python",
   "pygments_lexer": "ipython3",
   "version": "3.11.5"
  }
 },
 "nbformat": 4,
 "nbformat_minor": 5
}
