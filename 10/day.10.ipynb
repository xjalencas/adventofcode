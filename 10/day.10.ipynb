{
 "cells": [
  {
   "cell_type": "markdown",
   "metadata": {},
   "source": [
    "### Part I\n",
    "What is the number of 1-jolt differences multiplied by the number of 3-jolt differences?"
   ]
  },
  {
   "cell_type": "code",
   "execution_count": 1,
   "metadata": {},
   "outputs": [],
   "source": [
    "import copy"
   ]
  },
  {
   "cell_type": "code",
   "execution_count": 2,
   "metadata": {},
   "outputs": [],
   "source": [
    "import numpy as np"
   ]
  },
  {
   "cell_type": "code",
   "execution_count": 3,
   "metadata": {},
   "outputs": [
    {
     "data": {
      "text/plain": [
       "(103,)"
      ]
     },
     "execution_count": 3,
     "metadata": {},
     "output_type": "execute_result"
    }
   ],
   "source": [
    "with open(\"input\") as f:\n",
    "    adapters = np.array([int(x) for x in f.read().split(\"\\n\") if x])\n",
    "adapters.shape"
   ]
  },
  {
   "cell_type": "code",
   "execution_count": 4,
   "metadata": {},
   "outputs": [
    {
     "data": {
      "text/plain": [
       "11"
      ]
     },
     "execution_count": 4,
     "metadata": {},
     "output_type": "execute_result"
    }
   ],
   "source": [
    "adapters_sample = np.array([16, 10, 15, 5, 1, 11, 7, 19, 6, 12, 4])\n",
    "len(adapters_sample)"
   ]
  },
  {
   "cell_type": "code",
   "execution_count": 5,
   "metadata": {},
   "outputs": [
    {
     "data": {
      "text/plain": [
       "31"
      ]
     },
     "execution_count": 5,
     "metadata": {},
     "output_type": "execute_result"
    }
   ],
   "source": [
    "adapters_sample2 = np.array([28, 33, 18, 42, 31, 14, 46, 20, 48, 47, 24, 23, 49, 45, 19, 38, 39, 11, 1, 32, 25, 35, 8, 17, 7, 9, 4, 2, 34, 10, 3])\n",
    "len(adapters_sample2)"
   ]
  },
  {
   "cell_type": "code",
   "execution_count": 6,
   "metadata": {},
   "outputs": [],
   "source": [
    "def resolve(solution, adapters):\n",
    "    solution = np.array(solution)\n",
    "    a = np.insert(adapters[solution], adapters[solution].shape[0], adapters[solution][-1]+3)\n",
    "    b = np.insert(adapters[solution], 0, 0)\n",
    "    unique, counts = np.unique(a-b, return_counts=True)\n",
    "    counts = dict(zip(unique, counts))\n",
    "    print(adapters[solution].shape, counts[1] * counts[3])"
   ]
  },
  {
   "cell_type": "code",
   "execution_count": 7,
   "metadata": {},
   "outputs": [
    {
     "name": "stdout",
     "output_type": "stream",
     "text": [
      "(11,) 35\n",
      "(31,) 220\n",
      "(103,) 2263\n"
     ]
    }
   ],
   "source": [
    "resolve(np.argsort(adapters_sample), adapters_sample)\n",
    "resolve(np.argsort(adapters_sample2), adapters_sample2)\n",
    "resolve(np.argsort(adapters), adapters)"
   ]
  },
  {
   "cell_type": "code",
   "execution_count": 8,
   "metadata": {},
   "outputs": [
    {
     "name": "stdout",
     "output_type": "stream",
     "text": [
      "START 0 [1] [] [] 0\n",
      "START 1 [4] [] [1] 1\n",
      "START 4 [5 7 6] [] [1 4] 2\n",
      "START 5 [7 6] [2, 2] [1 4 5] 3\n",
      "START 7 [10] [2, 2, 3] [1 4 5 7] 4\n",
      "START 10 [11 12] [2, 2, 3] [ 1  4  5  7 10] 5\n",
      "START 11 [12] [2, 2, 3, 5] [ 1  4  5  7 10 11] 6\n",
      "START 12 [15] [2, 2, 3, 5] [ 1  4  5  7 10 11 12] 7\n",
      "START 15 [16] [2, 2, 3, 5] [ 1  4  5  7 10 11 12 15] 8\n",
      "START 16 [19] [2, 2, 3, 5] [ 1  4  5  7 10 11 12 15 16] 9\n",
      "START 19 [] [2, 2, 3, 5] [ 1  4  5  7 10 11 12 15 16 19] 10\n",
      "SOLVED [ 1  4  5  7 10 11 12 15 16 19]\n",
      "BACK [2, 2, 3] [ 1  4  5  7 10]\n",
      "START 12 [15] [2, 2, 3] [ 1  4  5  7 10 12] 6\n",
      "START 15 [16] [2, 2, 3] [ 1  4  5  7 10 12 15] 7\n",
      "START 16 [19] [2, 2, 3] [ 1  4  5  7 10 12 15 16] 8\n",
      "START 19 [] [2, 2, 3] [ 1  4  5  7 10 12 15 16 19] 9\n",
      "SOLVED [ 1  4  5  7 10 12 15 16 19]\n",
      "BACK [2, 2] [1 4 5]\n",
      "START 6 [7] [2, 2] [1 4 5 6] 4\n",
      "START 7 [10] [2, 2] [1 4 5 6 7] 5\n",
      "START 10 [11 12] [2, 2] [ 1  4  5  6  7 10] 6\n",
      "START 11 [12] [2, 2, 6] [ 1  4  5  6  7 10 11] 7\n",
      "START 12 [15] [2, 2, 6] [ 1  4  5  6  7 10 11 12] 8\n",
      "START 15 [16] [2, 2, 6] [ 1  4  5  6  7 10 11 12 15] 9\n",
      "START 16 [19] [2, 2, 6] [ 1  4  5  6  7 10 11 12 15 16] 10\n",
      "START 19 [] [2, 2, 6] [ 1  4  5  6  7 10 11 12 15 16 19] 11\n",
      "SOLVED [ 1  4  5  6  7 10 11 12 15 16 19]\n",
      "BACK [2, 2] [ 1  4  5  6  7 10]\n",
      "START 12 [15] [2, 2] [ 1  4  5  6  7 10 12] 7\n",
      "START 15 [16] [2, 2] [ 1  4  5  6  7 10 12 15] 8\n",
      "START 16 [19] [2, 2] [ 1  4  5  6  7 10 12 15 16] 9\n",
      "START 19 [] [2, 2] [ 1  4  5  6  7 10 12 15 16 19] 10\n",
      "SOLVED [ 1  4  5  6  7 10 12 15 16 19]\n",
      "BACK [2] [1 4]\n",
      "START 7 [10] [2] [1 4 7] 3\n",
      "START 10 [11 12] [2] [ 1  4  7 10] 4\n",
      "START 11 [12] [2, 4] [ 1  4  7 10 11] 5\n",
      "START 12 [15] [2, 4] [ 1  4  7 10 11 12] 6\n",
      "START 15 [16] [2, 4] [ 1  4  7 10 11 12 15] 7\n",
      "START 16 [19] [2, 4] [ 1  4  7 10 11 12 15 16] 8\n",
      "START 19 [] [2, 4] [ 1  4  7 10 11 12 15 16 19] 9\n",
      "SOLVED [ 1  4  7 10 11 12 15 16 19]\n",
      "BACK [2] [ 1  4  7 10]\n",
      "START 12 [15] [2] [ 1  4  7 10 12] 5\n",
      "START 15 [16] [2] [ 1  4  7 10 12 15] 6\n",
      "START 16 [19] [2] [ 1  4  7 10 12 15 16] 7\n",
      "START 19 [] [2] [ 1  4  7 10 12 15 16 19] 8\n",
      "SOLVED [ 1  4  7 10 12 15 16 19]\n",
      "BACK [] [1 4]\n",
      "START 6 [7] [] [1 4 6] 3\n",
      "START 7 [10] [] [1 4 6 7] 4\n",
      "START 10 [11 12] [] [ 1  4  6  7 10] 5\n",
      "START 11 [12] [5] [ 1  4  6  7 10 11] 6\n",
      "START 12 [15] [5] [ 1  4  6  7 10 11 12] 7\n",
      "START 15 [16] [5] [ 1  4  6  7 10 11 12 15] 8\n",
      "START 16 [19] [5] [ 1  4  6  7 10 11 12 15 16] 9\n",
      "START 19 [] [5] [ 1  4  6  7 10 11 12 15 16 19] 10\n",
      "SOLVED [ 1  4  6  7 10 11 12 15 16 19]\n",
      "BACK [] [ 1  4  6  7 10]\n",
      "START 12 [15] [] [ 1  4  6  7 10 12] 6\n",
      "START 15 [16] [] [ 1  4  6  7 10 12 15] 7\n",
      "START 16 [19] [] [ 1  4  6  7 10 12 15 16] 8\n",
      "START 19 [] [] [ 1  4  6  7 10 12 15 16 19] 9\n",
      "SOLVED [ 1  4  6  7 10 12 15 16 19]\n",
      "8\n",
      "CPU times: user 24 ms, sys: 8.59 ms, total: 32.6 ms\n",
      "Wall time: 27.3 ms\n"
     ]
    }
   ],
   "source": [
    "%%time\n",
    "joltage = 0\n",
    "\n",
    "def plug (joltage, adapters, path=None, bif=None, solutions=None, verbose=False):\n",
    "    \n",
    "    if bif is None:\n",
    "        bif = []\n",
    "    \n",
    "    if path is None:\n",
    "        path = []\n",
    "        \n",
    "    if solutions is None:\n",
    "        solutions = []\n",
    "    \n",
    "    candidates, = np.where(((adapters - joltage) <= 3) & ((adapters - joltage) >= 0))\n",
    "    candidates = sorted(set(candidates) - set(path))    \n",
    "    \n",
    "    if verbose:\n",
    "        print(\"START\", joltage, adapters[candidates], bif, adapters[path], len(path))\n",
    "    \n",
    "    # Back to last bifurcation\n",
    "    if not candidates:\n",
    "        \n",
    "        if adapters[path[-1]] == adapters.max():\n",
    "            solutions.append(copy.deepcopy(path))\n",
    "            if verbose:\n",
    "                print(\"SOLVED\", adapters[path])\n",
    "                \n",
    "        if not bif:\n",
    "            return path, bif, solutions\n",
    "                \n",
    "        path = path[:bif[-1]]\n",
    "        bif.pop(-1)\n",
    "        \n",
    "    \n",
    "        if verbose:\n",
    "            print(\"BACK\", bif, adapters[path])\n",
    "    \n",
    "    # If in bifurcation\n",
    "    if len(candidates) > 1:\n",
    "       bif.extend([len(path)] * (len(candidates)-1))\n",
    "\n",
    "    for i, candidate in enumerate(candidates):\n",
    "        \n",
    "        path.append(candidate)\n",
    "        path, bif, solutions = plug(adapters[candidate], adapters, path, bif, solutions, verbose=verbose)\n",
    "        \n",
    "    return path, bif, solutions\n",
    "\n",
    "    \n",
    "path,  bif, solutions = plug(0, adapters_sample, verbose=True)\n",
    "print(len(solutions))"
   ]
  },
  {
   "cell_type": "code",
   "execution_count": 9,
   "metadata": {
    "jupyter": {
     "source_hidden": true
    }
   },
   "outputs": [
    {
     "name": "stdout",
     "output_type": "stream",
     "text": [
      "19208\n",
      "CPU times: user 1.39 s, sys: 59.6 ms, total: 1.45 s\n",
      "Wall time: 1.38 s\n"
     ]
    }
   ],
   "source": [
    "%%time\n",
    "path,  bif, solutions = plug(0, adapters_sample2, verbose=False)\n",
    "print(len(solutions))"
   ]
  },
  {
   "cell_type": "code",
   "execution_count": 11,
   "metadata": {},
   "outputs": [
    {
     "name": "stdout",
     "output_type": "stream",
     "text": [
      "CPU times: user 2 µs, sys: 0 ns, total: 2 µs\n",
      "Wall time: 4.05 µs\n"
     ]
    }
   ],
   "source": [
    "%%time\n",
    "#It takes way too long.\n",
    "#path,  bif, solutions = plug(0, adapters, verbose=False)\n",
    "#print(len(solutions))"
   ]
  },
  {
   "cell_type": "code",
   "execution_count": null,
   "metadata": {},
   "outputs": [],
   "source": [
    "# Recursion takes too long"
   ]
  },
  {
   "cell_type": "code",
   "execution_count": 105,
   "metadata": {},
   "outputs": [
    {
     "name": "stdout",
     "output_type": "stream",
     "text": [
      "19\n",
      "0\n",
      "CPU times: user 7.84 ms, sys: 0 ns, total: 7.84 ms\n",
      "Wall time: 7.76 ms\n"
     ]
    }
   ],
   "source": [
    "%%time\n",
    "\n",
    "import math\n",
    "from itertools import combinations, product\n",
    "\n",
    "def count(adapters):\n",
    "    \n",
    "    n = 0\n",
    "\n",
    "    print(adapters.max())\n",
    "    \n",
    "    min_size = math.ceil(adapters.max() / 3 )\n",
    "    for size in range(min_size, len(adapters) + 1):\n",
    "        \n",
    "        \n",
    "        for x in combinations(adapters, size):\n",
    "        \n",
    "            arrangement = np.array(x)\n",
    "\n",
    "            # Check if sorted:\n",
    "            if not np.all(np.diff(arrangement) >= 0):\n",
    "                continue\n",
    "            \n",
    "            a = np.insert(arrangement, arrangement.shape[0], adapters.max() +3)\n",
    "            b = np.insert(arrangement, 0, 0)\n",
    "\n",
    "            print(arragement)\n",
    "            \n",
    "            \n",
    "            if np.all(((a-b) <= 3) & ((a-b) > 0)):\n",
    "                \n",
    "                key = arrangement.sum() * size\n",
    "                \n",
    "                if key  not in visited:\n",
    "                    visited.update([key])        \n",
    "                    #print(arrangement, arrangement.sum(), size, key)\n",
    "                    n += 1\n",
    "\n",
    "\n",
    "    return n\n",
    "\n",
    "print(count(adapters_sample))\n",
    "        \n",
    "            \n",
    "    "
   ]
  },
  {
   "cell_type": "code",
   "execution_count": 101,
   "metadata": {},
   "outputs": [
    {
     "name": "stdout",
     "output_type": "stream",
     "text": [
      "19\n",
      "7 0\n",
      "[[1], [4], [5, 6, 7], [7, 10], [10, 11, 12], [15], [16], [19]]\n",
      "8 1\n",
      "[[1], [4], [5, 6, 7], [6, 7, 10], [7, 10, 11, 12], [10, 11, 12, 15], [15, 16], [16], [19]]\n",
      "9 4\n",
      "[[1], [4], [5, 6, 7], [6, 7, 10], [7, 10, 11, 12], [10, 11, 12, 15], [11, 12, 15, 16], [15, 16], [16], [19]]\n",
      "10 7\n",
      "[[1], [4], [5, 6, 7], [6, 7, 10], [7, 10, 11, 12], [10, 11, 12], [11, 12, 15], [12, 15, 16], [15, 16], [16], [19]]\n",
      "11 8\n",
      "8\n",
      "CPU times: user 80.5 ms, sys: 3.96 ms, total: 84.5 ms\n",
      "Wall time: 83.1 ms\n"
     ]
    }
   ],
   "source": [
    "%%time\n",
    "\n",
    "import math\n",
    "from itertools import combinations, product\n",
    "\n",
    "def count(adapters):\n",
    "    \n",
    "    n = 0\n",
    "\n",
    "    print(adapters.max())\n",
    "    \n",
    "    min_size = math.ceil(adapters.max() / 3 )\n",
    "    for size in range(min_size, len(adapters) + 1):\n",
    "        \n",
    "        \n",
    "        print(size, n)\n",
    "\n",
    "        candidates = [[]]*size\n",
    "\n",
    "        \n",
    "        for j in range(size):\n",
    "\n",
    "            \n",
    "            if j == 0:\n",
    "                ant = [0]\n",
    "            else:\n",
    "                ant = candidates[j-1]\n",
    "                \n",
    "            min_ = max( min(ant) + 1, max(adapters) - (size -j)*3)\n",
    "            max_ = min (max(ant) + 3, max(adapters) - (size -j))\n",
    "            \n",
    "            \n",
    "            #print(max(adapters) - (size -j)*3)\n",
    "            #print(max(adapters) - (size -j))\n",
    "            \n",
    "            #print(j, min_, max_)\n",
    "        \n",
    "            candidates[j] = [x for x in range(min_, max_+1) if x in adapters]\n",
    "            if not candidates[j]:\n",
    "                break\n",
    "       \n",
    "        if not all(candidates):\n",
    "            continue\n",
    "            #print(candidates)\n",
    "        candidates.append([adapters.max()])\n",
    "      \n",
    "        visited = set()\n",
    "        print(candidates)\n",
    "        \n",
    "        for x in product(*candidates):\n",
    "        \n",
    "            arrangement = np.array(x)\n",
    "\n",
    "            # Check if sorted:\n",
    "            if not np.all(np.diff(arrangement) >= 0):\n",
    "                continue\n",
    "            \n",
    "            a = np.insert(arrangement, arrangement.shape[0], adapters.max() +3)\n",
    "            b = np.insert(arrangement, 0, 0)\n",
    "\n",
    "            \n",
    "            \n",
    "            if np.all(((a-b) <= 3) & ((a-b) > 0)):\n",
    "                \n",
    "                key = arrangement.sum() * size\n",
    "                \n",
    "                if key  not in visited:\n",
    "                    visited.update([key])        \n",
    "                    #print(arrangement, arrangement.sum(), size, key)\n",
    "                    n += 1\n",
    "\n",
    "\n",
    "    return n\n",
    "\n",
    "print(count(adapters_sample))\n",
    "        \n",
    "            \n",
    "    "
   ]
  }
 ],
 "metadata": {
  "kernelspec": {
   "display_name": "devel",
   "language": "python",
   "name": "devel"
  },
  "language_info": {
   "codemirror_mode": {
    "name": "ipython",
    "version": 3
   },
   "file_extension": ".py",
   "mimetype": "text/x-python",
   "name": "python",
   "nbconvert_exporter": "python",
   "pygments_lexer": "ipython3",
   "version": "3.6.10"
  }
 },
 "nbformat": 4,
 "nbformat_minor": 4
}
