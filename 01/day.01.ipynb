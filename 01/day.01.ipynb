{
 "cells": [
  {
   "cell_type": "code",
   "execution_count": 113,
   "id": "9c8f7115-8454-41b1-9d75-881eaf84a16f",
   "metadata": {},
   "outputs": [],
   "source": [
    "import numpy as np"
   ]
  },
  {
   "cell_type": "markdown",
   "id": "c2cdc053-265e-4586-b55d-799354025429",
   "metadata": {},
   "source": [
    "# Part I\n",
    "Consider your entire calibration document. What is the sum of all of the calibration values?"
   ]
  },
  {
   "cell_type": "code",
   "execution_count": 31,
   "id": "39e626dd-e11b-40ad-af14-310d02c9072f",
   "metadata": {},
   "outputs": [
    {
     "data": {
      "text/plain": [
       "53386"
      ]
     },
     "execution_count": 31,
     "metadata": {},
     "output_type": "execute_result"
    }
   ],
   "source": [
    "n = 0\n",
    "with open(\"input.txt\") as f:\n",
    "    for line in f:\n",
    "        mask = [x.isdigit() for x  in list(line)]\n",
    "        a, b = line[mask.index(True)], line[-(mask[::-1].index(True)+1)]\n",
    "        n += int(a+b)\n",
    "n"
   ]
  },
  {
   "cell_type": "markdown",
   "id": "e59aa003-d771-4b4c-bc55-2d980981da24",
   "metadata": {},
   "source": [
    "## Part II\n",
    "Your calculation isn't quite right. It looks like some of the digits are actually spelled out with letters: `one`, `two`, `three`, `four`, `five`, `six`, `seven`, `eight`, and `nine` also count as valid \"digits\"."
   ]
  },
  {
   "cell_type": "code",
   "execution_count": 35,
   "id": "b5441704-71fe-443e-8a26-64a5bfb799c6",
   "metadata": {},
   "outputs": [],
   "source": [
    "numbers = {\n",
    "    \"one\": \"1\",\n",
    "    \"two\": \"2\", \n",
    "    \"three\": \"3\",\n",
    "    \"four\": \"4\",\n",
    "    \"five\": \"5\",\n",
    "    \"six\": \"6\",\n",
    "    \"seven\": \"7\",\n",
    "    \"eight\": \"8\",\n",
    "    \"nine\": \"9\",\n",
    "}"
   ]
  },
  {
   "cell_type": "code",
   "execution_count": 116,
   "id": "e3d87d4e-bc37-4272-8baa-9120dae792b4",
   "metadata": {},
   "outputs": [
    {
     "data": {
      "text/plain": [
       "53312"
      ]
     },
     "execution_count": 116,
     "metadata": {},
     "output_type": "execute_result"
    }
   ],
   "source": [
    "a = 0\n",
    "with open(\"input.txt\") as f:\n",
    "    for line in f:\n",
    "\n",
    "        # Digits\n",
    "        mask = [x.isdigit() for x  in list(line)]\n",
    "\n",
    "        try:\n",
    "            first = [mask.index(True), None]\n",
    "            first[1] = line[first[0]]\n",
    "        \n",
    "            last = [len(line) - mask[::-1].index(True) - 1, None]\n",
    "            last[1] = line[last[0]]\n",
    "\n",
    "        # No digits in line\n",
    "        except ValueError:\n",
    "            first = [np.inf, None]\n",
    "            last = [-1, None]\n",
    "        \n",
    "        # Spelled numbers\n",
    "        for n in numbers:\n",
    "\n",
    "            # First instance\n",
    "            idx = line.find(n)\n",
    "            if first[0] > idx >= 0:\n",
    "                first[0] = idx\n",
    "                first[1] = numbers[n]\n",
    "\n",
    "            # Last instance\n",
    "            idx = line.rfind(n)\n",
    "            if last[0] < idx >= 0:\n",
    "                last[0] = idx\n",
    "                last[1] = numbers[n]\n",
    "            \n",
    "        #print(line,first, last, a)\n",
    "        a += int(\"\".join(list(zip(first, last))[1]))\n",
    "\n",
    "a"
   ]
  }
 ],
 "metadata": {
  "kernelspec": {
   "display_name": "eug",
   "language": "python",
   "name": "eug"
  },
  "language_info": {
   "codemirror_mode": {
    "name": "ipython",
    "version": 3
   },
   "file_extension": ".py",
   "mimetype": "text/x-python",
   "name": "python",
   "nbconvert_exporter": "python",
   "pygments_lexer": "ipython3",
   "version": "3.12.0"
  }
 },
 "nbformat": 4,
 "nbformat_minor": 5
}
