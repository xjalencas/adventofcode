{
 "cells": [
  {
   "cell_type": "markdown",
   "id": "c2cdc053-265e-4586-b55d-799354025429",
   "metadata": {},
   "source": [
    "# Part I\n",
    "Find the Elf carrying the most Calories. How many total Calories is that Elf carrying?"
   ]
  },
  {
   "cell_type": "code",
   "execution_count": 29,
   "id": "c87d0da0-1826-476b-bfe8-f8ea9129904e",
   "metadata": {},
   "outputs": [],
   "source": [
    "import numpy as np"
   ]
  },
  {
   "cell_type": "code",
   "execution_count": 53,
   "id": "f9eff6aa-f095-4b46-a1ee-2a927bc1a556",
   "metadata": {},
   "outputs": [],
   "source": [
    "def read_input(infile):\n",
    "    elves = []\n",
    "    with open(infile) as f:\n",
    "        elf = []\n",
    "\n",
    "        for line in f:\n",
    "\n",
    "            if not line.strip():\n",
    "                elves.append(elf)\n",
    "                elf = []\n",
    "            else:\n",
    "                elf.append(int(line))\n",
    "    \n",
    "    elves.append(elf)\n",
    "    return elves"
   ]
  },
  {
   "cell_type": "code",
   "execution_count": 54,
   "id": "b77ecdba-c579-4e14-bf72-4c65ff8cceaa",
   "metadata": {},
   "outputs": [
    {
     "data": {
      "text/plain": [
       "24000"
      ]
     },
     "execution_count": 54,
     "metadata": {},
     "output_type": "execute_result"
    }
   ],
   "source": [
    "x = read_input(\"input.0.txt\")\n",
    "max([sum(xx) for xx in x])"
   ]
  },
  {
   "cell_type": "code",
   "execution_count": 55,
   "id": "c89044f7-8600-4c0a-858b-56997b23a1eb",
   "metadata": {},
   "outputs": [
    {
     "data": {
      "text/plain": [
       "68467"
      ]
     },
     "execution_count": 55,
     "metadata": {},
     "output_type": "execute_result"
    }
   ],
   "source": [
    "x = read_input(\"input.txt\")\n",
    "max([sum(xx) for xx in x])"
   ]
  },
  {
   "cell_type": "markdown",
   "id": "2311d7f5-dc94-4a66-94a1-4f56e9ffff46",
   "metadata": {},
   "source": [
    "# Part II\n",
    "Find the top three Elves carrying the most Calories. How many Calories are those Elves carrying in total?"
   ]
  },
  {
   "cell_type": "code",
   "execution_count": 59,
   "id": "77e1c565-5c6c-4c42-a02e-8c8de68410c1",
   "metadata": {},
   "outputs": [
    {
     "data": {
      "text/plain": [
       "45000"
      ]
     },
     "execution_count": 59,
     "metadata": {},
     "output_type": "execute_result"
    }
   ],
   "source": [
    "x = read_input(\"input.0.txt\")\n",
    "sum(sorted([sum(xx) for xx in x], reverse=True)[:3])"
   ]
  },
  {
   "cell_type": "code",
   "execution_count": 60,
   "id": "4acdec94-95e8-4ff6-a5b9-b7e1ca00f877",
   "metadata": {},
   "outputs": [
    {
     "data": {
      "text/plain": [
       "203420"
      ]
     },
     "execution_count": 60,
     "metadata": {},
     "output_type": "execute_result"
    }
   ],
   "source": [
    "x = read_input(\"input.txt\")\n",
    "sum(sorted([sum(xx) for xx in x], reverse=True)[:3])"
   ]
  }
 ],
 "metadata": {
  "kernelspec": {
   "display_name": "saturn-dev",
   "language": "python",
   "name": "saturn-dev"
  },
  "language_info": {
   "codemirror_mode": {
    "name": "ipython",
    "version": 3
   },
   "file_extension": ".py",
   "mimetype": "text/x-python",
   "name": "python",
   "nbconvert_exporter": "python",
   "pygments_lexer": "ipython3",
   "version": "3.6.5"
  }
 },
 "nbformat": 4,
 "nbformat_minor": 5
}
