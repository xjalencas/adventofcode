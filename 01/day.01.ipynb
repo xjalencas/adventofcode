{
 "cells": [
  {
   "cell_type": "markdown",
   "id": "c2cdc053-265e-4586-b55d-799354025429",
   "metadata": {},
   "source": [
    "# Part I\n",
    "Consider your entire calibration document. What is the sum of all of the calibration values?"
   ]
  },
  {
   "cell_type": "code",
   "execution_count": 2,
   "id": "c87d0da0-1826-476b-bfe8-f8ea9129904e",
   "metadata": {},
   "outputs": [],
   "source": [
    "import numpy as np"
   ]
  },
  {
   "cell_type": "code",
   "execution_count": 31,
   "id": "39e626dd-e11b-40ad-af14-310d02c9072f",
   "metadata": {},
   "outputs": [],
   "source": [
    "a = np.loadtxt(\"input\", dtype=str)"
   ]
  },
  {
   "cell_type": "code",
   "execution_count": 45,
   "id": "e3d87d4e-bc37-4272-8baa-9120dae792b4",
   "metadata": {},
   "outputs": [
    {
     "ename": "AttributeError",
     "evalue": "module 'numpy' has no attribute 'isdigit'",
     "output_type": "error",
     "traceback": [
      "\u001b[0;31m---------------------------------------------------------------------------\u001b[0m",
      "\u001b[0;31mAttributeError\u001b[0m                            Traceback (most recent call last)",
      "Cell \u001b[0;32mIn[45], line 1\u001b[0m\n\u001b[0;32m----> 1\u001b[0m np\u001b[38;5;241m.\u001b[39misdigit(np\u001b[38;5;241m.\u001b[39mfromiter(a[\u001b[38;5;241m0\u001b[39m], dtype\u001b[38;5;241m=\u001b[39m(\u001b[38;5;28mstr\u001b[39m, \u001b[38;5;241m1\u001b[39m)))\n",
      "File \u001b[0;32m~/miniconda3/envs/eug/lib/python3.11/site-packages/numpy/__init__.py:333\u001b[0m, in \u001b[0;36m__getattr__\u001b[0;34m(attr)\u001b[0m\n\u001b[1;32m    330\u001b[0m     \u001b[38;5;124m\"\u001b[39m\u001b[38;5;124mRemoved in NumPy 1.25.0\u001b[39m\u001b[38;5;124m\"\u001b[39m\n\u001b[1;32m    331\u001b[0m     \u001b[38;5;28;01mraise\u001b[39;00m \u001b[38;5;167;01mRuntimeError\u001b[39;00m(\u001b[38;5;124m\"\u001b[39m\u001b[38;5;124mTester was removed in NumPy 1.25.\u001b[39m\u001b[38;5;124m\"\u001b[39m)\n\u001b[0;32m--> 333\u001b[0m \u001b[38;5;28;01mraise\u001b[39;00m \u001b[38;5;167;01mAttributeError\u001b[39;00m(\u001b[38;5;124m\"\u001b[39m\u001b[38;5;124mmodule \u001b[39m\u001b[38;5;132;01m{!r}\u001b[39;00m\u001b[38;5;124m has no attribute \u001b[39m\u001b[38;5;124m\"\u001b[39m\n\u001b[1;32m    334\u001b[0m                      \u001b[38;5;124m\"\u001b[39m\u001b[38;5;132;01m{!r}\u001b[39;00m\u001b[38;5;124m\"\u001b[39m\u001b[38;5;241m.\u001b[39mformat(\u001b[38;5;18m__name__\u001b[39m, attr))\n",
      "\u001b[0;31mAttributeError\u001b[0m: module 'numpy' has no attribute 'isdigit'"
     ]
    }
   ],
   "source": [
    "np.isdigit(np.fromiter(a[0], dtype=(str, 1)))"
   ]
  },
  {
   "cell_type": "code",
   "execution_count": 44,
   "id": "5617dd7f-2ce8-4ebb-ba95-210467af36ae",
   "metadata": {},
   "outputs": [
    {
     "data": {
      "text/plain": [
       "(1000,)"
      ]
     },
     "execution_count": 44,
     "metadata": {},
     "output_type": "execute_result"
    }
   ],
   "source": [
    "np.apply_along_axis(lambda x: np.fromiter(x, dtype=(str, 1)), 0, a).shape"
   ]
  },
  {
   "cell_type": "code",
   "execution_count": 19,
   "id": "6e5d285b-ade7-4881-8dc1-a77716f08c93",
   "metadata": {},
   "outputs": [
    {
     "ename": "AttributeError",
     "evalue": "'list' object has no attribute 'apply'",
     "output_type": "error",
     "traceback": [
      "\u001b[0;31m---------------------------------------------------------------------------\u001b[0m",
      "\u001b[0;31mAttributeError\u001b[0m                            Traceback (most recent call last)",
      "Cell \u001b[0;32mIn[19], line 2\u001b[0m\n\u001b[1;32m      1\u001b[0m \u001b[38;5;28;01mwith\u001b[39;00m \u001b[38;5;28mopen\u001b[39m(\u001b[38;5;124m\"\u001b[39m\u001b[38;5;124minput\u001b[39m\u001b[38;5;124m\"\u001b[39m) \u001b[38;5;28;01mas\u001b[39;00m f:\n\u001b[0;32m----> 2\u001b[0m     x \u001b[38;5;241m=\u001b[39m f\u001b[38;5;241m.\u001b[39mread()\u001b[38;5;241m.\u001b[39msplit(\u001b[38;5;124m\"\u001b[39m\u001b[38;5;124m\\\u001b[39m\u001b[38;5;124m n\u001b[39m\u001b[38;5;124m\"\u001b[39m)\u001b[38;5;241m.\u001b[39mapply()\n\u001b[1;32m      3\u001b[0m x\n",
      "\u001b[0;31mAttributeError\u001b[0m: 'list' object has no attribute 'apply'"
     ]
    }
   ],
   "source": [
    "with open(\"input\") as f:\n",
    "    x = [ row for row in f.read().split(\"\\ n\")]\n",
    "x"
   ]
  },
  {
   "cell_type": "code",
   "execution_count": 8,
   "id": "bb536403-f030-4506-a22a-4b1da310c90d",
   "metadata": {},
   "outputs": [
    {
     "data": {
      "text/plain": [
       "array(['c7', 'g1', '27', 'fe', 'fo', 'sk', 'x2', 'o5', 'rn', 'dr', 'b3',\n",
       "       'z4', '41', '5r', 'hl', 't9', 'r3', '6j', '5g', '41', '4e', '49',\n",
       "       '45', '93', 'no', 'mm', 'mk', 'tt', 'b7', 'ft', '88', '1h', 's9',\n",
       "       'f9', '1l', 'zr', 'd2', '4t', '1e', 'sx', 'jo', 'f4', '3t', 'f4',\n",
       "       '6f', 'f7', 't7', 'o2', 'nx', 'ql', '59', '2e', 'to', 'tr', 'fo',\n",
       "       'je', '7e', '33', 'n2', 'pe', '1n', 'b1', 's6', 'j6', 'nt', 'ne',\n",
       "       'r1', 't1', '53', 's8', 'nv', '76', 'tx', 'ol', 'br', '2q', '1n',\n",
       "       'v6', '58', 'ln', 'q5', 's4', 'nz', 'p8', 'c9', 'gr', 'dr', 'oe',\n",
       "       '4f', 'oc', '2d', 'tb', 'oe', 'tn', 'bt', '9l', '57', 't4', 'tf',\n",
       "       'l7', '8e', '11', 'l2', '3b', 'fj', 'ct', 'm7', 'kp', 'f8', '26',\n",
       "       'n1', 'z6', '68', '7r', '5e', '1e', 'o7', '6o', 'k3', '13', '6q',\n",
       "       'ke', 'f7', '8n', 'v9', '5l', 'g3', '72', '1o', 'f3', '2n', 'gz',\n",
       "       '76', 's9', 'n2', '9k', 't3', 'co', 'z6', '6j', '4e', 'tt', '2j',\n",
       "       '1l', 'fm', '3t', '95', 'd8', 'sx', 'nc', 'z4', 'sx', 'o2', '52',\n",
       "       'd6', 'qe', 'f9', 't9', '89', '8g', 'so', '2e', 'c7', 'st', '7h',\n",
       "       'pe', 'x5', 'jf', 'je', '1m', 'es', 'le', 'qb', '82', 'z2', 'n1',\n",
       "       'oo', '3n', 'kn', 'se', 'sv', 'eo', 'p9', 'es', 'n8', 'sn', 'mt',\n",
       "       'st', 'g3', '1m', 'ke', 'zn', 'n8', 'r7', 'fo', 'sj', '3o', '7e',\n",
       "       'q7', 'os', 'te', 'tt', 'tm', 'te', 'hs', '98', 'kz', 'me', 'mb',\n",
       "       'jt', 'zl', 'lm', 'ft', '3b', 'ee', '3e', '6p', 'ff', '3o', 't4',\n",
       "       'x2', 'ne', '4o', '8x', '9e', 'm3', '2e', '8e', 'sn', 'sr', 'd4',\n",
       "       'ne', '5e', 'f7', 'e7', 'ne', 'tn', 's8', 'ft', 'f6', '9n', 't4',\n",
       "       'pe', 'e8', '27', 'j4', '2e', 'fe', '6k', '6x', '49', 'dt', 're',\n",
       "       'n1', 'r4', '1h', 'r5', 'g8', 'zb', '73', '4t', 'ds', 'f2', '6k',\n",
       "       '3x', 'tm', '36', 'sc', 'ng', '1e', '85', '66', '9e', '9t', '5m',\n",
       "       '28', '9r', 'e9', '7x', '53', '7e', 'ml', 'od', 'e4', 'g4', 'eo',\n",
       "       'n5', 'sb', 'xl', 'mt', 'z3', '1c', 'tz', '7n', '5j', 'v8', '4e',\n",
       "       '54', 'f1', 'cj', 'b5', 'n7', 'je', 'dv', 's2', 'ft', 'se', 'ss',\n",
       "       '4r', 'm7', '4e', 'h5', 'c2', 'pq', '7r', 'f8', 'ze', '5o', 's3',\n",
       "       'd2', '38', 'nt', 'n6', '5f', 'jh', '7e', 'p8', 'eh', '9o', 't2',\n",
       "       'e2', '65', '37', '6e', 'f6', 'sl', 'gl', '75', 'tg', 'hd', 'f1',\n",
       "       'ne', 'd2', 'rb', 'sh', 'b9', 'te', 'st', '6x', '35', '8t', '1x',\n",
       "       's3', 'f9', 'fb', 'to', '92', '9f', 'sn', 'tr', '45', 'x5', '39',\n",
       "       '46', '98', 'bt', '75', 's3', '43', '1o', '4q', '5t', '8r', 'd3',\n",
       "       'f3', 'f9', 'f4', 'pt', 'n6', 'dp', '2e', 'e1', 'gd', 'ht', 'cq',\n",
       "       'fr', '6n', 's4', '84', '6p', '9e', '5e', '4e', 'j5', 'tn', 'tz',\n",
       "       'vz', 'mx', '2g', '7e', 'm6', '82', '7o', 'jk', 't9', 'zb', 'tt',\n",
       "       's6', 'te', 'qe', 'o8', 'te', '2m', '1b', 'sl', 'vb', 'r1', '2n',\n",
       "       '7e', '9k', 'ep', 'oe', 'eb', 'nr', 'e4', 'b1', 'zn', 'l1', 'm9',\n",
       "       'tp', '4x', 'pb', 'fx', '4e', '3n', 't5', '8e', '44', '2s', 're',\n",
       "       'ed', '1e', '2t', 'qt', 'sr', '67', '58', 'nt', 'tp', 'vh', 'q1',\n",
       "       'he', 'gn', 'fn', 'l6', 'ts', 'kr', 'tr', 'o5', 'cp', 's4', '12',\n",
       "       'tr', '1x', 'fe', 'j5', 'kd', 'db', 'fl', 'js', 't6', 'kz', '61',\n",
       "       'c3', '5e', 'be', 'f6', 's4', 'vr', 'f8', 'n5', 'p8', 'rb', 'q4',\n",
       "       'rj', 'fv', 'tf', 'ft', 'fv', '6c', '2e', 'te', '1q', '3h', 'gt',\n",
       "       'kq', 'te', '3m', '2r', 'd6', 'ne', 'fx', 'g6', 'ee', '4t', 'oc',\n",
       "       't8', 'c2', 'e1', 'fx', 'f3', 'ee', 'zo', 'tt', '9s', 'xf', 'n2',\n",
       "       'gx', '15', 'j8', 'ev', 'tt', 'st', 'pg', 'x2', 'v6', '82', 'm6',\n",
       "       'dn', 'ek', 't2', '13', '41', 'ne', 'ep', 'ox', '5d', 'r5', 'f5',\n",
       "       'g4', 'sh', 'jh', '77', '2n', '4r', 'sq', 'ts', 'so', 'dn', '8p',\n",
       "       'he', '18', '5t', '3e', '3n', 'c7', '1r', 'fz', 'ns', 'se', '59',\n",
       "       '7b', 's6', '69', 'rd', 'sg', '83', 'pe', 'go', 'pv', 'v6', 'oe',\n",
       "       'tx', '5t', 'or', 'pe', '9t', 'f4', 'j2', 't2', '6r', '8n', '3b',\n",
       "       'h4', '2x', 'o9', '16', 'vq', 'vl', '1n', 't4', 'fr', 'd1', '3v',\n",
       "       '9g', 'rm', 'gd', '1e', 'md', 'jn', 'f1', 'f1', 'fb', 'rj', 't3',\n",
       "       't6', 'ne', '6x', 'f6', 'b1', '9f', 't6', 'no', '86', 't5', 'p6',\n",
       "       '61', '7p', 'pe', '5h', 'se', '4h', 'd7', 'e1', 'se', 's4', 'vg',\n",
       "       'o9', '5p', '9e', '3x', '1p', 'dp', '3g', 's1', '6e', 'zk', '7r',\n",
       "       '6j', 'db', '1o', '13', 'f2', '7t', 'bx', 'f9', 'se', 'k8', '8q',\n",
       "       'tk', 'tt', '5n', '7t', 'od', 'sq', 'b8', 'x1', 'o3', 'p4', 'f5',\n",
       "       'fo', '7f', '9c', 'h9', 'ct', 'mq', 'bn', 'te', '7n', '14', 'x4',\n",
       "       'qn', '29', '1n', '63', 't6', 't4', 's1', '49', 'vv', '3x', 'n2',\n",
       "       '5e', '9j', '8d', 'ts', 'k2', '5z', '2t', '6t', '6n', '1z', 'k7',\n",
       "       'se', 'kn', '4c', 'z4', '5e', 'kl', 'jo', '1n', '32', '7c', 's1',\n",
       "       'e1', 'd6', 'q8', '15', 'mr', 't1', 'zf', 'r6', 'vt', '2q', 'c4',\n",
       "       'he', 'n2', 'kr', 'xt', '4x', '1e', 'f8', '9h', 'tm', 'no', 'tq',\n",
       "       '6r', 'f7', '27', 'n7', '4z', 'sn', 'n2', '4o', 'f4', '58', 'z1',\n",
       "       '4h', 'sr', 'j9', 'x6', '1b', 't6', 's1', 'sj', 'te', '4r', 'ol',\n",
       "       'mx', '9t', '3d', 'jj', 'vk', 'o1', 's4', '42', '3e', 'cp', 'xr',\n",
       "       'xe', '23', 's1', 's6', '6r', 'he', 'pb', '7t', '9x', '22', '1x',\n",
       "       '7n', 'o2', 'mq', 'k7', 'v2', 'zd', 't6', '61', 'n4', 'sb', 's8',\n",
       "       '7c', 'o7', 'sr', 'nn', '79', 'f8', '25', '2j', 'ne', 'x9', 'fv',\n",
       "       'eq', 'cr', 'zz', 'jf', '6g', 'fo', 'o1', 'e7', 't6', '6g', '8m',\n",
       "       'tv', '2e', 'm3', 's9', 'tq', 'm7', 'j5', 'e2', 'ft', 'sq', 'j1',\n",
       "       'pe', '9f', 'fe', 'on', 'ge', 'ne', '1n', 't6', 'f2', '8c', 'n6',\n",
       "       '44', 't4', 's7', 'fh', '8g', 'se', 'te', '8p', 'tr', '6t', '82',\n",
       "       'le', 'n9', 'pe', '21', 's9', 'mj', '1r', '34', 'fs', '2d', '67',\n",
       "       '43', 'te', '89', '3m', '69', 'm8', 'h4', 'fs', '9q', 'fx', 'cx',\n",
       "       'vo', 'tn', 'te', '3x', '89', '7p', 'se', '31', 'kx', 'd7', '3s',\n",
       "       '7x', '8n', 'cd', '7e', '6t', '2e', '1x', '61', 'le', '4q', '8o',\n",
       "       '4e', 'ne', '4o', '7t', '9c', 'qn', 's8', 'n9', '5b', '56', 'gg',\n",
       "       'te', 'f3', '95', 'tg', 'tq', 'fr', 'le', '54', '7c', 'l1', 'f2',\n",
       "       'hh', 's5', '34', '17', '67', '1n', '7j', '6v', 'v2', '7t', 'vj',\n",
       "       'me', '8b', 'n5', 'ee', 'sc', 'to', 'er', 'fx', 'sd', '7f', 'k4',\n",
       "       'fo', '6e', 's9', '4x', 'sk', 'n7', '46', 'ne', 'b7', 'b3', 'n5',\n",
       "       's7', 'e6', 'fo', 'k3', 'mr', '9e', '1e', '3m', 'ko', 'kx', '5m',\n",
       "       'tt', '5q', 'e1', '5g', 'se', 'xt', 't9', 'r8', 't4', 'sv', '8o',\n",
       "       'to', '9x', 'ne', '66', '75', 'o9', 'fr', '5d', 'er', '3s', '8e',\n",
       "       '9n', 'n8', 'tr', 've', 'vn', '77', '84', 'oe', 'rn', '3e', '8h',\n",
       "       'g5', '9s', 'be', 'rt', '8h', 'te', '8k', 'ff', 'tp', 'n8', 'j1',\n",
       "       'f5', '6c', '24', 'pn', '7r', '5x', 'f2', 'e4', 'fj', '31'],\n",
       "      dtype='<U2')"
      ]
     },
     "execution_count": 8,
     "metadata": {},
     "output_type": "execute_result"
    }
   ],
   "source": [
    "np.vectorize(lambda x: x[0]+x[-1])(a)"
   ]
  },
  {
   "cell_type": "code",
   "execution_count": null,
   "id": "e2d71326-0420-4278-b995-a92c515ff224",
   "metadata": {},
   "outputs": [],
   "source": []
  }
 ],
 "metadata": {
  "kernelspec": {
   "display_name": "eug",
   "language": "python",
   "name": "eug"
  },
  "language_info": {
   "codemirror_mode": {
    "name": "ipython",
    "version": 3
   },
   "file_extension": ".py",
   "mimetype": "text/x-python",
   "name": "python",
   "nbconvert_exporter": "python",
   "pygments_lexer": "ipython3",
   "version": "3.11.5"
  }
 },
 "nbformat": 4,
 "nbformat_minor": 5
}
