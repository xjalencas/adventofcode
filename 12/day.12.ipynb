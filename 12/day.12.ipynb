{
 "cells": [
  {
   "cell_type": "code",
   "execution_count": 1,
   "metadata": {},
   "outputs": [],
   "source": [
    "import copy\n",
    "\n",
    "import numpy as np"
   ]
  },
  {
   "cell_type": "markdown",
   "metadata": {},
   "source": [
    "### Part I\n",
    "What is the Manhattan distance between that location and the ship's starting position?"
   ]
  },
  {
   "cell_type": "code",
   "execution_count": 2,
   "metadata": {},
   "outputs": [
    {
     "data": {
      "text/plain": [
       "['F10', 'N3', 'F7', 'R90', 'F11']"
      ]
     },
     "execution_count": 2,
     "metadata": {},
     "output_type": "execute_result"
    }
   ],
   "source": [
    "with open(\"input_sample\") as f:\n",
    "    instructions = [x for x in f.read().split(\"\\n\") if x]\n",
    "instructions"
   ]
  },
  {
   "cell_type": "code",
   "execution_count": 3,
   "metadata": {},
   "outputs": [],
   "source": [
    "class Ship:\n",
    "    \n",
    "    def __init__(self):\n",
    "        \n",
    "        self._orientation = 0.0\n",
    "        self._position = np.array([0,0])\n",
    "        self._path = [self._position]\n",
    "        \n",
    "    \n",
    "    @property\n",
    "    def position(self):\n",
    "        return self._position\n",
    "    \n",
    "    @position.setter\n",
    "    def position(self, value):\n",
    "        self._path.append(copy.deepcopy(value))\n",
    "        self._position = value\n",
    "    \n",
    "    @property\n",
    "    def orientation(self):\n",
    "        return self._orientation\n",
    "    \n",
    "    @orientation.setter\n",
    "    def orientation(self, value):\n",
    "        self._orientation = value\n",
    "    \n",
    "    @property\n",
    "    def path(self):\n",
    "        return self._path\n",
    "    \n",
    "    @path.setter\n",
    "    def path(self, value):\n",
    "        self._path = value\n",
    "    \n",
    "    \n",
    "    @property\n",
    "    def distance(self):\n",
    "        return np.abs(self.path[-1] - self.path[0]).sum()\n",
    "        \n",
    "    \n",
    "    def move(self, direction , value):\n",
    "        \n",
    "        if direction == \"F\":\n",
    "            self.move_forward(value)\n",
    "        \n",
    "        elif direction == \"N\":\n",
    "            self.position += (0, value)\n",
    "        \n",
    "        elif direction == \"S\":\n",
    "            self.position -= (0, value)\n",
    "        \n",
    "        elif direction == \"E\":\n",
    "            self.position += (value, 0)\n",
    "        \n",
    "        elif direction == \"W\":\n",
    "            self.position -= (value, 0)\n",
    "\n",
    "        elif direction == \"R\":\n",
    "            self.orientation -= np.deg2rad(value)\n",
    "\n",
    "        elif direction == \"L\":\n",
    "            self.orientation += np.deg2rad(value)\n",
    "            \n",
    "\n",
    "    def move_forward(self, value):\n",
    "        \n",
    "        unity = np.array([np.cos(self.orientation), np.sin(self.orientation)])\n",
    "        unity = unity / np.linalg.norm(unity)\n",
    "        \n",
    "        self.position = self.position + unity * value\n",
    "        \n",
    "        \n",
    "    "
   ]
  },
  {
   "cell_type": "code",
   "execution_count": 4,
   "metadata": {},
   "outputs": [
    {
     "name": "stdout",
     "output_type": "stream",
     "text": [
      "F10 [0 0] 0.0\n",
      "N3 [10.  0.] 0.0\n",
      "F7 [10.  3.] 0.0\n",
      "R90 [17.  3.] 0.0\n",
      "F11 [17.  3.] -90.0\n",
      "[array([0, 0]), array([10.,  0.]), array([10.,  3.]), array([17.,  3.]), array([17., -8.])]\n"
     ]
    },
    {
     "data": {
      "text/plain": [
       "25.0"
      ]
     },
     "execution_count": 4,
     "metadata": {},
     "output_type": "execute_result"
    }
   ],
   "source": [
    "ship = Ship()\n",
    "for instruction in instructions:\n",
    "    print(instruction, ship.position, np.rad2deg(ship.orientation))\n",
    "    ship.move(instruction[0], int(instruction[1:]))\n",
    "print(ship.path)\n",
    "ship.distance"
   ]
  },
  {
   "cell_type": "code",
   "execution_count": 5,
   "metadata": {},
   "outputs": [
    {
     "data": {
      "text/plain": [
       "783"
      ]
     },
     "execution_count": 5,
     "metadata": {},
     "output_type": "execute_result"
    }
   ],
   "source": [
    "with open(\"input\") as f:\n",
    "    instructions = [x for x in f.read().split(\"\\n\") if x]\n",
    "len(instructions)"
   ]
  },
  {
   "cell_type": "code",
   "execution_count": 6,
   "metadata": {},
   "outputs": [
    {
     "data": {
      "text/plain": [
       "1152.0"
      ]
     },
     "execution_count": 6,
     "metadata": {},
     "output_type": "execute_result"
    }
   ],
   "source": [
    "ship = Ship()\n",
    "for instruction in instructions:\n",
    "    ship.move(instruction[0], int(instruction[1:]))\n",
    "    #print(instruction, ship.position)\n",
    "np.rint(ship.distance)"
   ]
  },
  {
   "cell_type": "markdown",
   "metadata": {},
   "source": [
    "### Part II\n",
    "What is the Manhattan distance between that location and the ship's starting position?"
   ]
  },
  {
   "cell_type": "code",
   "execution_count": 47,
   "metadata": {},
   "outputs": [],
   "source": [
    "class Ship2(Ship):\n",
    "    \n",
    "    def __init__(self):\n",
    "        Ship.__init__(self)\n",
    "        self._waypoint = np.array((10, 1))\n",
    "        self._waypoint_orientation = 0\n",
    "    \n",
    "    @property\n",
    "    def waypoint(self):\n",
    "        return self._waypoint\n",
    "    \n",
    "    @waypoint.setter\n",
    "    def waypoint(self, value):\n",
    "        self._waypoint = value\n",
    "    \n",
    "    def move(self, direction , value):\n",
    "        \n",
    "        if direction == \"F\":\n",
    "            self.move_forward(value)\n",
    "        \n",
    "        elif direction == \"N\":\n",
    "            self.waypoint += (0, value)\n",
    "        \n",
    "        elif direction == \"S\":\n",
    "            self.waypoint -= (0, value)\n",
    "        \n",
    "        elif direction == \"E\":\n",
    "            self.waypoint += (value, 0)\n",
    "        \n",
    "        elif direction == \"W\":\n",
    "            self.waypoint -= (value, 0)\n",
    "\n",
    "        elif direction == \"R\":\n",
    "            pass\n",
    "            \n",
    "        elif direction == \"L\":\n",
    "            pass\n",
    "            \n",
    "            \n",
    "    def move_forward(self, value):\n",
    "        \n",
    "        unity = np.array([np.cos(self.orientation), np.sin(self.orientation)])\n",
    "        unity = unity / np.linalg.norm(unity)\n",
    "        \n",
    "        self.position = self.position + unity * value\n",
    "        \n",
    "    "
   ]
  },
  {
   "cell_type": "code",
   "execution_count": 42,
   "metadata": {},
   "outputs": [
    {
     "name": "stdout",
     "output_type": "stream",
     "text": [
      "F10 [10.  0.] 0.0 [10  1]\n",
      "N3 [10.  0.] 0.0 [10  4]\n",
      "F7 [17.  0.] 0.0 [10  4]\n",
      "R90 [17.  0.] -90.0 [10  4]\n",
      "F11 [ 17. -11.] -90.0 [10  4]\n",
      "[array([0, 0]), array([10.,  0.]), array([17.,  0.]), array([ 17., -11.])]\n"
     ]
    },
    {
     "data": {
      "text/plain": [
       "28.0"
      ]
     },
     "execution_count": 42,
     "metadata": {},
     "output_type": "execute_result"
    }
   ],
   "source": [
    "with open(\"input_sample\") as f:\n",
    "    instructions = [x for x in f.read().split(\"\\n\") if x]\n",
    "\n",
    "ship = Ship2()\n",
    "for instruction in instructions:\n",
    "    ship.move(instruction[0], int(instruction[1:]))\n",
    "    print(instruction, ship.position, np.rad2deg(ship.orientation), ship.waypoint)\n",
    "print(ship.path)\n",
    "ship.distance"
   ]
  },
  {
   "cell_type": "code",
   "execution_count": null,
   "metadata": {},
   "outputs": [],
   "source": []
  }
 ],
 "metadata": {
  "kernelspec": {
   "display_name": "devel",
   "language": "python",
   "name": "devel"
  },
  "language_info": {
   "codemirror_mode": {
    "name": "ipython",
    "version": 3
   },
   "file_extension": ".py",
   "mimetype": "text/x-python",
   "name": "python",
   "nbconvert_exporter": "python",
   "pygments_lexer": "ipython3",
   "version": "3.6.10"
  }
 },
 "nbformat": 4,
 "nbformat_minor": 4
}
